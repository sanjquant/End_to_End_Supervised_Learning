{
 "cells": [
  {
   "cell_type": "code",
   "execution_count": 2,
   "metadata": {},
   "outputs": [],
   "source": [
    "# Import Libraries : \n",
    "\n",
    "# Python ≥3.8 is required\n",
    "import sys\n",
    "assert sys.version_info >= (3, )\n",
    "\n",
    "# Scikit-Learn ≥1.0 is required\n",
    "import sklearn\n",
    "assert sklearn.__version__ >= \"1.0\"\n",
    "\n",
    "# Common imports\n",
    "import numpy as np\n",
    "import pandas as pd\n",
    "import os\n",
    "\n",
    "# To plot pretty figures\n",
    "%matplotlib inline\n",
    "import matplotlib as mpl\n",
    "import matplotlib.pyplot as plt\n",
    "mpl.rc('axes', labelsize=14)\n",
    "mpl.rc('xtick', labelsize=12)\n",
    "mpl.rc('ytick', labelsize=12)\n",
    "\n",
    "# Precision options\n",
    "np.set_printoptions(precision=2)\n",
    "pd.options.display.float_format = '{:.3f}'.format"
   ]
  },
  {
   "cell_type": "code",
   "execution_count": 3,
   "metadata": {},
   "outputs": [],
   "source": [
    "from sklearn.pipeline import Pipeline,FeatureUnion\n",
    "from sklearn.base import BaseEstimator, TransformerMixin\n",
    "from sklearn.metrics import confusion_matrix\n",
    "from testPipeline import *"
   ]
  },
  {
   "cell_type": "code",
   "execution_count": 4,
   "metadata": {},
   "outputs": [],
   "source": [
    "from sklearn.metrics import mean_squared_error\n",
    "from sklearn.model_selection import cross_val_score\n",
    "from sklearn.preprocessing import scale\n",
    "from sklearn import metrics"
   ]
  },
  {
   "cell_type": "code",
   "execution_count": 5,
   "metadata": {},
   "outputs": [],
   "source": [
    "from sklearn.linear_model import Ridge,Lasso\n",
    "from sklearn.model_selection import GridSearchCV\n",
    "from sklearn.linear_model import SGDRegressor\n"
   ]
  },
  {
   "cell_type": "code",
   "execution_count": 6,
   "metadata": {},
   "outputs": [
    {
     "name": "stdout",
     "output_type": "stream",
     "text": [
      "File path: c:\\Users\\sanji\\Documents\\Queens\\End_to_End_Supervised_Learning\\data\\loans_data.csv\n"
     ]
    }
   ],
   "source": [
    "filepath = os.path.abspath(os.path.join('..', 'data', 'loans_data.csv'))\n",
    "print('File path: {}'.format(filepath))\n",
    "\n",
    "loadData = pd.read_csv(filepath)"
   ]
  },
  {
   "cell_type": "code",
   "execution_count": 7,
   "metadata": {},
   "outputs": [
    {
     "data": {
      "text/html": [
       "<div>\n",
       "<style scoped>\n",
       "    .dataframe tbody tr th:only-of-type {\n",
       "        vertical-align: middle;\n",
       "    }\n",
       "\n",
       "    .dataframe tbody tr th {\n",
       "        vertical-align: top;\n",
       "    }\n",
       "\n",
       "    .dataframe thead th {\n",
       "        text-align: right;\n",
       "    }\n",
       "</style>\n",
       "<table border=\"1\" class=\"dataframe\">\n",
       "  <thead>\n",
       "    <tr style=\"text-align: right;\">\n",
       "      <th></th>\n",
       "      <th>ID</th>\n",
       "      <th>Amount.Requested</th>\n",
       "      <th>Amount.Funded.By.Investors</th>\n",
       "      <th>Interest.Rate</th>\n",
       "      <th>Loan.Length</th>\n",
       "      <th>Loan.Purpose</th>\n",
       "      <th>Debt.To.Income.Ratio</th>\n",
       "      <th>State</th>\n",
       "      <th>Home.Ownership</th>\n",
       "      <th>Monthly.Income</th>\n",
       "      <th>FICO.Range</th>\n",
       "      <th>Open.CREDIT.Lines</th>\n",
       "      <th>Revolving.CREDIT.Balance</th>\n",
       "      <th>Inquiries.in.the.Last.6.Months</th>\n",
       "      <th>Employment.Length</th>\n",
       "    </tr>\n",
       "  </thead>\n",
       "  <tbody>\n",
       "    <tr>\n",
       "      <th>1212</th>\n",
       "      <td>83857.000</td>\n",
       "      <td>35000</td>\n",
       "      <td>35000</td>\n",
       "      <td>18.49%</td>\n",
       "      <td>36 months</td>\n",
       "      <td>debt_consolidation</td>\n",
       "      <td>16.33%</td>\n",
       "      <td>NY</td>\n",
       "      <td>RENT</td>\n",
       "      <td>11000.000</td>\n",
       "      <td>705-709</td>\n",
       "      <td>15</td>\n",
       "      <td>13766</td>\n",
       "      <td>1.000</td>\n",
       "      <td>NaN</td>\n",
       "    </tr>\n",
       "    <tr>\n",
       "      <th>2207</th>\n",
       "      <td>42772.000</td>\n",
       "      <td>15000</td>\n",
       "      <td>15000</td>\n",
       "      <td>7.90%</td>\n",
       "      <td>36 months</td>\n",
       "      <td>debt_consolidation</td>\n",
       "      <td>20.75%</td>\n",
       "      <td>IL</td>\n",
       "      <td>MORTGAGE</td>\n",
       "      <td>2583.330</td>\n",
       "      <td>725-729</td>\n",
       "      <td>10</td>\n",
       "      <td>9608</td>\n",
       "      <td>0.000</td>\n",
       "      <td>3 years</td>\n",
       "    </tr>\n",
       "    <tr>\n",
       "      <th>1673</th>\n",
       "      <td>51429.000</td>\n",
       "      <td>8000</td>\n",
       "      <td>8000</td>\n",
       "      <td>16.29%</td>\n",
       "      <td>36 months</td>\n",
       "      <td>debt_consolidation</td>\n",
       "      <td>9.75%</td>\n",
       "      <td>TX</td>\n",
       "      <td>RENT</td>\n",
       "      <td>5250.000</td>\n",
       "      <td>665-669</td>\n",
       "      <td>14</td>\n",
       "      <td>6035</td>\n",
       "      <td>1.000</td>\n",
       "      <td>5 years</td>\n",
       "    </tr>\n",
       "    <tr>\n",
       "      <th>1495</th>\n",
       "      <td>16549.000</td>\n",
       "      <td>25000</td>\n",
       "      <td>15175</td>\n",
       "      <td>16.32%</td>\n",
       "      <td>60 months</td>\n",
       "      <td>debt_consolidation</td>\n",
       "      <td>22.19%</td>\n",
       "      <td>PA</td>\n",
       "      <td>MORTGAGE</td>\n",
       "      <td>7083.330</td>\n",
       "      <td>705-709</td>\n",
       "      <td>8</td>\n",
       "      <td>9133</td>\n",
       "      <td>0.000</td>\n",
       "      <td>4 years</td>\n",
       "    </tr>\n",
       "    <tr>\n",
       "      <th>208</th>\n",
       "      <td>80538.000</td>\n",
       "      <td>12300</td>\n",
       "      <td>12300</td>\n",
       "      <td>12.12%</td>\n",
       "      <td>36 months</td>\n",
       "      <td>debt_consolidation</td>\n",
       "      <td>10.01%</td>\n",
       "      <td>CA</td>\n",
       "      <td>RENT</td>\n",
       "      <td>6583.330</td>\n",
       "      <td>690-694</td>\n",
       "      <td>15</td>\n",
       "      <td>12450</td>\n",
       "      <td>0.000</td>\n",
       "      <td>1 year</td>\n",
       "    </tr>\n",
       "    <tr>\n",
       "      <th>451</th>\n",
       "      <td>59890.000</td>\n",
       "      <td>25000</td>\n",
       "      <td>25000</td>\n",
       "      <td>21.00%</td>\n",
       "      <td>36 months</td>\n",
       "      <td>debt_consolidation</td>\n",
       "      <td>9.52%</td>\n",
       "      <td>NY</td>\n",
       "      <td>RENT</td>\n",
       "      <td>8333.330</td>\n",
       "      <td>670-674</td>\n",
       "      <td>11</td>\n",
       "      <td>8575</td>\n",
       "      <td>1.000</td>\n",
       "      <td>10+ years</td>\n",
       "    </tr>\n",
       "    <tr>\n",
       "      <th>193</th>\n",
       "      <td>5282.000</td>\n",
       "      <td>7000</td>\n",
       "      <td>6965.1</td>\n",
       "      <td>19.47%</td>\n",
       "      <td>36 months</td>\n",
       "      <td>debt_consolidation</td>\n",
       "      <td>17.08%</td>\n",
       "      <td>NJ</td>\n",
       "      <td>RENT</td>\n",
       "      <td>5000.000</td>\n",
       "      <td>665-669</td>\n",
       "      <td>11</td>\n",
       "      <td>13859</td>\n",
       "      <td>0.000</td>\n",
       "      <td>3 years</td>\n",
       "    </tr>\n",
       "    <tr>\n",
       "      <th>799</th>\n",
       "      <td>51087.000</td>\n",
       "      <td>10000</td>\n",
       "      <td>10000</td>\n",
       "      <td>9.76%</td>\n",
       "      <td>36 months</td>\n",
       "      <td>debt_consolidation</td>\n",
       "      <td>14.08%</td>\n",
       "      <td>LA</td>\n",
       "      <td>MORTGAGE</td>\n",
       "      <td>5416.670</td>\n",
       "      <td>710-714</td>\n",
       "      <td>8</td>\n",
       "      <td>10560</td>\n",
       "      <td>0.000</td>\n",
       "      <td>3 years</td>\n",
       "    </tr>\n",
       "    <tr>\n",
       "      <th>678</th>\n",
       "      <td>51829.000</td>\n",
       "      <td>8000</td>\n",
       "      <td>8000</td>\n",
       "      <td>7.90%</td>\n",
       "      <td>36 months</td>\n",
       "      <td>wedding</td>\n",
       "      <td>21.58%</td>\n",
       "      <td>CA</td>\n",
       "      <td>RENT</td>\n",
       "      <td>5166.670</td>\n",
       "      <td>725-729</td>\n",
       "      <td>5</td>\n",
       "      <td>0</td>\n",
       "      <td>0.000</td>\n",
       "      <td>1 year</td>\n",
       "    </tr>\n",
       "    <tr>\n",
       "      <th>2458</th>\n",
       "      <td>8692.000</td>\n",
       "      <td>16000</td>\n",
       "      <td>15875</td>\n",
       "      <td>13.85%</td>\n",
       "      <td>36 months</td>\n",
       "      <td>debt_consolidation</td>\n",
       "      <td>12.50%</td>\n",
       "      <td>IL</td>\n",
       "      <td>RENT</td>\n",
       "      <td>6750.000</td>\n",
       "      <td>685-689</td>\n",
       "      <td>12</td>\n",
       "      <td>6799</td>\n",
       "      <td>2.000</td>\n",
       "      <td>7 years</td>\n",
       "    </tr>\n",
       "  </tbody>\n",
       "</table>\n",
       "</div>"
      ],
      "text/plain": [
       "            ID Amount.Requested Amount.Funded.By.Investors Interest.Rate  \\\n",
       "1212 83857.000            35000                      35000        18.49%   \n",
       "2207 42772.000            15000                      15000         7.90%   \n",
       "1673 51429.000             8000                       8000        16.29%   \n",
       "1495 16549.000            25000                      15175        16.32%   \n",
       "208  80538.000            12300                      12300        12.12%   \n",
       "451  59890.000            25000                      25000        21.00%   \n",
       "193   5282.000             7000                     6965.1        19.47%   \n",
       "799  51087.000            10000                      10000         9.76%   \n",
       "678  51829.000             8000                       8000         7.90%   \n",
       "2458  8692.000            16000                      15875        13.85%   \n",
       "\n",
       "     Loan.Length        Loan.Purpose Debt.To.Income.Ratio State  \\\n",
       "1212   36 months  debt_consolidation               16.33%    NY   \n",
       "2207   36 months  debt_consolidation               20.75%    IL   \n",
       "1673   36 months  debt_consolidation                9.75%    TX   \n",
       "1495   60 months  debt_consolidation               22.19%    PA   \n",
       "208    36 months  debt_consolidation               10.01%    CA   \n",
       "451    36 months  debt_consolidation                9.52%    NY   \n",
       "193    36 months  debt_consolidation               17.08%    NJ   \n",
       "799    36 months  debt_consolidation               14.08%    LA   \n",
       "678    36 months             wedding               21.58%    CA   \n",
       "2458   36 months  debt_consolidation               12.50%    IL   \n",
       "\n",
       "     Home.Ownership  Monthly.Income FICO.Range Open.CREDIT.Lines  \\\n",
       "1212           RENT       11000.000    705-709                15   \n",
       "2207       MORTGAGE        2583.330    725-729                10   \n",
       "1673           RENT        5250.000    665-669                14   \n",
       "1495       MORTGAGE        7083.330    705-709                 8   \n",
       "208            RENT        6583.330    690-694                15   \n",
       "451            RENT        8333.330    670-674                11   \n",
       "193            RENT        5000.000    665-669                11   \n",
       "799        MORTGAGE        5416.670    710-714                 8   \n",
       "678            RENT        5166.670    725-729                 5   \n",
       "2458           RENT        6750.000    685-689                12   \n",
       "\n",
       "     Revolving.CREDIT.Balance  Inquiries.in.the.Last.6.Months  \\\n",
       "1212                    13766                           1.000   \n",
       "2207                     9608                           0.000   \n",
       "1673                     6035                           1.000   \n",
       "1495                     9133                           0.000   \n",
       "208                     12450                           0.000   \n",
       "451                      8575                           1.000   \n",
       "193                     13859                           0.000   \n",
       "799                     10560                           0.000   \n",
       "678                         0                           0.000   \n",
       "2458                     6799                           2.000   \n",
       "\n",
       "     Employment.Length  \n",
       "1212               NaN  \n",
       "2207           3 years  \n",
       "1673           5 years  \n",
       "1495           4 years  \n",
       "208             1 year  \n",
       "451          10+ years  \n",
       "193            3 years  \n",
       "799            3 years  \n",
       "678             1 year  \n",
       "2458           7 years  "
      ]
     },
     "execution_count": 7,
     "metadata": {},
     "output_type": "execute_result"
    }
   ],
   "source": [
    "loadData.sample(10)"
   ]
  },
  {
   "cell_type": "code",
   "execution_count": 8,
   "metadata": {},
   "outputs": [
    {
     "name": "stdout",
     "output_type": "stream",
     "text": [
      "<class 'pandas.core.frame.DataFrame'>\n",
      "RangeIndex: 2500 entries, 0 to 2499\n",
      "Data columns (total 15 columns):\n",
      " #   Column                          Non-Null Count  Dtype  \n",
      "---  ------                          --------------  -----  \n",
      " 0   ID                              2499 non-null   float64\n",
      " 1   Amount.Requested                2499 non-null   object \n",
      " 2   Amount.Funded.By.Investors      2499 non-null   object \n",
      " 3   Interest.Rate                   2500 non-null   object \n",
      " 4   Loan.Length                     2499 non-null   object \n",
      " 5   Loan.Purpose                    2499 non-null   object \n",
      " 6   Debt.To.Income.Ratio            2499 non-null   object \n",
      " 7   State                           2499 non-null   object \n",
      " 8   Home.Ownership                  2499 non-null   object \n",
      " 9   Monthly.Income                  2497 non-null   float64\n",
      " 10  FICO.Range                      2500 non-null   object \n",
      " 11  Open.CREDIT.Lines               2496 non-null   object \n",
      " 12  Revolving.CREDIT.Balance        2497 non-null   object \n",
      " 13  Inquiries.in.the.Last.6.Months  2497 non-null   float64\n",
      " 14  Employment.Length               2422 non-null   object \n",
      "dtypes: float64(3), object(12)\n",
      "memory usage: 293.1+ KB\n"
     ]
    }
   ],
   "source": [
    "loadData.info()"
   ]
  },
  {
   "cell_type": "code",
   "execution_count": 9,
   "metadata": {},
   "outputs": [],
   "source": [
    "\"\"\"\n",
    "Creating a training and test dataset : \n",
    "\n",
    "\"\"\"\n",
    "\n",
    "from sklearn.model_selection import train_test_split"
   ]
  },
  {
   "cell_type": "code",
   "execution_count": 10,
   "metadata": {},
   "outputs": [],
   "source": [
    "ld_train, ld_test = train_test_split(loadData, test_size= 0.2, random_state= 42)"
   ]
  },
  {
   "cell_type": "code",
   "execution_count": 11,
   "metadata": {},
   "outputs": [],
   "source": [
    "# drop columns : Amount.Funded.By.Investors , ID, Interest.Rate\n",
    "\n",
    "#1 Amount requested : convert it to numeric\n",
    "\n",
    "#2 Loan Length : create dummies with frequency cutoff 20\n",
    "\n",
    "#3 Loan.Purpose : dummies with freq cutoff\n",
    "\n",
    "#4  Debt.To.Income.Ratio : remove % and then convert to numeric\n",
    "\n",
    "#5  State: dummies with frequency cutoff\n",
    "\n",
    "#6 Home.Ownership : dummies with frequency cutoff\n",
    "\n",
    "#7 Monthly Income : as is\n",
    "\n",
    "#8 FICO.Range : break a-b , in to a ,b , convert them to numeric \n",
    "# then create new column fico=0.5*(a+b) and then drop the original FICO.Range\n",
    "\n",
    "#9 Open Credit Lines : convert to numeric\n",
    "\n",
    "#10 Revolving Credit balance : convert it to numeric \n",
    "\n",
    "#11 inquiries in the last 6 months : as is\n",
    "\n",
    "#12 Employment.Length : create dummies with frequency cutoff"
   ]
  },
  {
   "cell_type": "code",
   "execution_count": 12,
   "metadata": {},
   "outputs": [],
   "source": [
    "p1=pdPipeline([\n",
    "    ('var_select',VarSelector(['Amount.Requested','Open.CREDIT.Lines','Revolving.CREDIT.Balance'])),\n",
    "    ('convert_to_numeric',convert_to_numeric()),\n",
    "    ('missing_trt',DataFrameImputer())\n",
    "])\n",
    "\n",
    "p2=pdPipeline([\n",
    "    ('var_select',VarSelector(['Debt.To.Income.Ratio'])),\n",
    "    ('string_clean',string_clean(replace_it='%',replace_with='')),\n",
    "    ('convert_to_numeric',convert_to_numeric()),\n",
    "    ('missing_trt',DataFrameImputer())\n",
    "])\n",
    "\n",
    "p3=pdPipeline([\n",
    "    ('var_select',VarSelector(['Loan.Length', 'Loan.Purpose','State','Home.Ownership','Employment.Length'])),\n",
    "    ('missing_trt',DataFrameImputer()),\n",
    "    ('create_dummies',get_dummies_Pipe(20))\n",
    "])\n",
    "\n",
    "p4=pdPipeline([\n",
    "    ('var_select',VarSelector(['Monthly.Income','Inquiries.in.the.Last.6.Months'])),\n",
    "    ('missing_trt',DataFrameImputer())\n",
    "])\n",
    "\n",
    "p5=pdPipeline([\n",
    "    ('var_select',VarSelector(['FICO.Range'])),\n",
    "    ('custom_fico',custom_fico()),\n",
    "    ('missing_trt',DataFrameImputer())\n",
    "])\n",
    "\n",
    "data_pipe=FeatureUnion([\n",
    "    ('obj_to_num',p1),\n",
    "    ('dtir',p2),\n",
    "    ('obj_to_dum',p3),\n",
    "    ('num',p4),\n",
    "    ('fico',p5)\n",
    "])"
   ]
  },
  {
   "cell_type": "code",
   "execution_count": 81,
   "metadata": {},
   "outputs": [
    {
     "name": "stderr",
     "output_type": "stream",
     "text": [
      "c:\\Users\\sanji\\Documents\\Queens\\End_to_End_Supervised_Learning\\src\\testPipeline.py:91: SettingWithCopyWarning: \n",
      "A value is trying to be set on a copy of a slice from a DataFrame.\n",
      "Try using .loc[row_indexer,col_indexer] = value instead\n",
      "\n",
      "See the caveats in the documentation: https://pandas.pydata.org/pandas-docs/stable/user_guide/indexing.html#returning-a-view-versus-a-copy\n",
      "  X[col]=pd.to_numeric(X[col],errors='coerce')\n",
      "c:\\Users\\sanji\\Documents\\Queens\\End_to_End_Supervised_Learning\\src\\testPipeline.py:68: SettingWithCopyWarning: \n",
      "A value is trying to be set on a copy of a slice from a DataFrame.\n",
      "Try using .loc[row_indexer,col_indexer] = value instead\n",
      "\n",
      "See the caveats in the documentation: https://pandas.pydata.org/pandas-docs/stable/user_guide/indexing.html#returning-a-view-versus-a-copy\n",
      "  X[col]=X[col].str.replace(self.replace_it,self.replace_with)\n",
      "c:\\Users\\sanji\\Documents\\Queens\\End_to_End_Supervised_Learning\\src\\testPipeline.py:91: SettingWithCopyWarning: \n",
      "A value is trying to be set on a copy of a slice from a DataFrame.\n",
      "Try using .loc[row_indexer,col_indexer] = value instead\n",
      "\n",
      "See the caveats in the documentation: https://pandas.pydata.org/pandas-docs/stable/user_guide/indexing.html#returning-a-view-versus-a-copy\n",
      "  X[col]=pd.to_numeric(X[col],errors='coerce')\n",
      "c:\\ProgramData\\Anaconda_3\\envs\\myenv\\lib\\site-packages\\sklearn\\utils\\deprecation.py:87: FutureWarning: Function get_feature_names is deprecated; get_feature_names is deprecated in 1.0 and will be removed in 1.2. Please use get_feature_names_out instead.\n",
      "  warnings.warn(msg, category=FutureWarning)\n"
     ]
    },
    {
     "ename": "ValueError",
     "evalue": "Shape of passed values is (2000, 58), indices imply (2000, 160)",
     "output_type": "error",
     "traceback": [
      "\u001b[1;31m---------------------------------------------------------------------------\u001b[0m",
      "\u001b[1;31mValueError\u001b[0m                                Traceback (most recent call last)",
      "\u001b[1;32mc:\\Users\\sanji\\Documents\\Queens\\End_to_End_Supervised_Learning\\src\\IRLinearregression.ipynb Cell 12'\u001b[0m in \u001b[0;36m<cell line: 1>\u001b[1;34m()\u001b[0m\n\u001b[1;32m----> <a href='vscode-notebook-cell:/c%3A/Users/sanji/Documents/Queens/End_to_End_Supervised_Learning/src/IRLinearregression.ipynb#ch0000011?line=0'>1</a>\u001b[0m x_train\u001b[39m=\u001b[39mpd\u001b[39m.\u001b[39;49mDataFrame(data\u001b[39m=\u001b[39;49mdata_pipe\u001b[39m.\u001b[39;49mfit_transform(ld_train),\n\u001b[0;32m      <a href='vscode-notebook-cell:/c%3A/Users/sanji/Documents/Queens/End_to_End_Supervised_Learning/src/IRLinearregression.ipynb#ch0000011?line=1'>2</a>\u001b[0m                      columns\u001b[39m=\u001b[39;49mdata_pipe\u001b[39m.\u001b[39;49mget_feature_names())\n",
      "File \u001b[1;32mc:\\ProgramData\\Anaconda_3\\envs\\myenv\\lib\\site-packages\\pandas\\core\\frame.py:694\u001b[0m, in \u001b[0;36mDataFrame.__init__\u001b[1;34m(self, data, index, columns, dtype, copy)\u001b[0m\n\u001b[0;32m    684\u001b[0m         mgr \u001b[39m=\u001b[39m dict_to_mgr(\n\u001b[0;32m    685\u001b[0m             \u001b[39m# error: Item \"ndarray\" of \"Union[ndarray, Series, Index]\" has no\u001b[39;00m\n\u001b[0;32m    686\u001b[0m             \u001b[39m# attribute \"name\"\u001b[39;00m\n\u001b[1;32m   (...)\u001b[0m\n\u001b[0;32m    691\u001b[0m             typ\u001b[39m=\u001b[39mmanager,\n\u001b[0;32m    692\u001b[0m         )\n\u001b[0;32m    693\u001b[0m     \u001b[39melse\u001b[39;00m:\n\u001b[1;32m--> 694\u001b[0m         mgr \u001b[39m=\u001b[39m ndarray_to_mgr(\n\u001b[0;32m    695\u001b[0m             data,\n\u001b[0;32m    696\u001b[0m             index,\n\u001b[0;32m    697\u001b[0m             columns,\n\u001b[0;32m    698\u001b[0m             dtype\u001b[39m=\u001b[39;49mdtype,\n\u001b[0;32m    699\u001b[0m             copy\u001b[39m=\u001b[39;49mcopy,\n\u001b[0;32m    700\u001b[0m             typ\u001b[39m=\u001b[39;49mmanager,\n\u001b[0;32m    701\u001b[0m         )\n\u001b[0;32m    703\u001b[0m \u001b[39m# For data is list-like, or Iterable (will consume into list)\u001b[39;00m\n\u001b[0;32m    704\u001b[0m \u001b[39melif\u001b[39;00m is_list_like(data):\n",
      "File \u001b[1;32mc:\\ProgramData\\Anaconda_3\\envs\\myenv\\lib\\site-packages\\pandas\\core\\internals\\construction.py:351\u001b[0m, in \u001b[0;36mndarray_to_mgr\u001b[1;34m(values, index, columns, dtype, copy, typ)\u001b[0m\n\u001b[0;32m    346\u001b[0m \u001b[39m# _prep_ndarray ensures that values.ndim == 2 at this point\u001b[39;00m\n\u001b[0;32m    347\u001b[0m index, columns \u001b[39m=\u001b[39m _get_axes(\n\u001b[0;32m    348\u001b[0m     values\u001b[39m.\u001b[39mshape[\u001b[39m0\u001b[39m], values\u001b[39m.\u001b[39mshape[\u001b[39m1\u001b[39m], index\u001b[39m=\u001b[39mindex, columns\u001b[39m=\u001b[39mcolumns\n\u001b[0;32m    349\u001b[0m )\n\u001b[1;32m--> 351\u001b[0m _check_values_indices_shape_match(values, index, columns)\n\u001b[0;32m    353\u001b[0m \u001b[39mif\u001b[39;00m typ \u001b[39m==\u001b[39m \u001b[39m\"\u001b[39m\u001b[39marray\u001b[39m\u001b[39m\"\u001b[39m:\n\u001b[0;32m    355\u001b[0m     \u001b[39mif\u001b[39;00m \u001b[39missubclass\u001b[39m(values\u001b[39m.\u001b[39mdtype\u001b[39m.\u001b[39mtype, \u001b[39mstr\u001b[39m):\n",
      "File \u001b[1;32mc:\\ProgramData\\Anaconda_3\\envs\\myenv\\lib\\site-packages\\pandas\\core\\internals\\construction.py:422\u001b[0m, in \u001b[0;36m_check_values_indices_shape_match\u001b[1;34m(values, index, columns)\u001b[0m\n\u001b[0;32m    420\u001b[0m passed \u001b[39m=\u001b[39m values\u001b[39m.\u001b[39mshape\n\u001b[0;32m    421\u001b[0m implied \u001b[39m=\u001b[39m (\u001b[39mlen\u001b[39m(index), \u001b[39mlen\u001b[39m(columns))\n\u001b[1;32m--> 422\u001b[0m \u001b[39mraise\u001b[39;00m \u001b[39mValueError\u001b[39;00m(\u001b[39mf\u001b[39m\u001b[39m\"\u001b[39m\u001b[39mShape of passed values is \u001b[39m\u001b[39m{\u001b[39;00mpassed\u001b[39m}\u001b[39;00m\u001b[39m, indices imply \u001b[39m\u001b[39m{\u001b[39;00mimplied\u001b[39m}\u001b[39;00m\u001b[39m\"\u001b[39m)\n",
      "\u001b[1;31mValueError\u001b[0m: Shape of passed values is (2000, 58), indices imply (2000, 160)"
     ]
    }
   ],
   "source": [
    "x_train=pd.DataFrame(data=data_pipe.fit_transform(ld_train),\n",
    "                     columns=data_pipe.get_feature_names())"
   ]
  },
  {
   "cell_type": "code",
   "execution_count": 14,
   "metadata": {},
   "outputs": [
    {
     "data": {
      "text/plain": [
       "Index(['obj_to_num__Amount.Requested', 'obj_to_num__Open.CREDIT.Lines',\n",
       "       'obj_to_num__Revolving.CREDIT.Balance', 'dtir__Debt.To.Income.Ratio',\n",
       "       'obj_to_dum__Loan.Length_36 months',\n",
       "       'obj_to_dum__Loan.Length_60 months',\n",
       "       'obj_to_dum__Loan.Purpose_debt_consolidation',\n",
       "       'obj_to_dum__Loan.Purpose_credit_card',\n",
       "       'obj_to_dum__Loan.Purpose_other',\n",
       "       'obj_to_dum__Loan.Purpose_home_improvement',\n",
       "       'obj_to_dum__Loan.Purpose_major_purchase',\n",
       "       'obj_to_dum__Loan.Purpose_small_business',\n",
       "       'obj_to_dum__Loan.Purpose_car', 'obj_to_dum__Loan.Purpose_wedding',\n",
       "       'obj_to_dum__Loan.Purpose_medical', 'obj_to_dum__Loan.Purpose_moving',\n",
       "       'obj_to_dum__State_CA', 'obj_to_dum__State_NY', 'obj_to_dum__State_TX',\n",
       "       'obj_to_dum__State_FL', 'obj_to_dum__State_IL', 'obj_to_dum__State_GA',\n",
       "       'obj_to_dum__State_PA', 'obj_to_dum__State_NJ', 'obj_to_dum__State_VA',\n",
       "       'obj_to_dum__State_MA', 'obj_to_dum__State_OH', 'obj_to_dum__State_MD',\n",
       "       'obj_to_dum__State_NC', 'obj_to_dum__State_WA', 'obj_to_dum__State_CT',\n",
       "       'obj_to_dum__State_CO', 'obj_to_dum__State_MI', 'obj_to_dum__State_AZ',\n",
       "       'obj_to_dum__State_MN', 'obj_to_dum__State_MO', 'obj_to_dum__State_AL',\n",
       "       'obj_to_dum__State_NV', 'obj_to_dum__State_OR', 'obj_to_dum__State_WI',\n",
       "       'obj_to_dum__Home.Ownership_RENT',\n",
       "       'obj_to_dum__Home.Ownership_MORTGAGE', 'obj_to_dum__Home.Ownership_OWN',\n",
       "       'obj_to_dum__Employment.Length_10+ years',\n",
       "       'obj_to_dum__Employment.Length_< 1 year',\n",
       "       'obj_to_dum__Employment.Length_2 years',\n",
       "       'obj_to_dum__Employment.Length_3 years',\n",
       "       'obj_to_dum__Employment.Length_5 years',\n",
       "       'obj_to_dum__Employment.Length_4 years',\n",
       "       'obj_to_dum__Employment.Length_1 year',\n",
       "       'obj_to_dum__Employment.Length_6 years',\n",
       "       'obj_to_dum__Employment.Length_7 years',\n",
       "       'obj_to_dum__Employment.Length_8 years',\n",
       "       'obj_to_dum__Employment.Length_missing',\n",
       "       'obj_to_dum__Employment.Length_9 years', 'num__Monthly.Income',\n",
       "       'num__Inquiries.in.the.Last.6.Months', 'fico__fico'],\n",
       "      dtype='object')"
      ]
     },
     "execution_count": 14,
     "metadata": {},
     "output_type": "execute_result"
    }
   ],
   "source": [
    "x_train.columns"
   ]
  },
  {
   "cell_type": "code",
   "execution_count": 15,
   "metadata": {},
   "outputs": [],
   "source": [
    "y_train=ld_train['Interest.Rate'].str.replace('%','').astype(float)"
   ]
  },
  {
   "cell_type": "code",
   "execution_count": 16,
   "metadata": {},
   "outputs": [
    {
     "name": "stderr",
     "output_type": "stream",
     "text": [
      "c:\\Users\\sanji\\Documents\\Queens\\End_to_End_Supervised_Learning\\src\\testPipeline.py:91: SettingWithCopyWarning: \n",
      "A value is trying to be set on a copy of a slice from a DataFrame.\n",
      "Try using .loc[row_indexer,col_indexer] = value instead\n",
      "\n",
      "See the caveats in the documentation: https://pandas.pydata.org/pandas-docs/stable/user_guide/indexing.html#returning-a-view-versus-a-copy\n",
      "  X[col]=pd.to_numeric(X[col],errors='coerce')\n",
      "c:\\Users\\sanji\\Documents\\Queens\\End_to_End_Supervised_Learning\\src\\testPipeline.py:68: SettingWithCopyWarning: \n",
      "A value is trying to be set on a copy of a slice from a DataFrame.\n",
      "Try using .loc[row_indexer,col_indexer] = value instead\n",
      "\n",
      "See the caveats in the documentation: https://pandas.pydata.org/pandas-docs/stable/user_guide/indexing.html#returning-a-view-versus-a-copy\n",
      "  X[col]=X[col].str.replace(self.replace_it,self.replace_with)\n",
      "c:\\Users\\sanji\\Documents\\Queens\\End_to_End_Supervised_Learning\\src\\testPipeline.py:91: SettingWithCopyWarning: \n",
      "A value is trying to be set on a copy of a slice from a DataFrame.\n",
      "Try using .loc[row_indexer,col_indexer] = value instead\n",
      "\n",
      "See the caveats in the documentation: https://pandas.pydata.org/pandas-docs/stable/user_guide/indexing.html#returning-a-view-versus-a-copy\n",
      "  X[col]=pd.to_numeric(X[col],errors='coerce')\n",
      "c:\\ProgramData\\Anaconda_3\\envs\\myenv\\lib\\site-packages\\sklearn\\utils\\deprecation.py:87: FutureWarning: Function get_feature_names is deprecated; get_feature_names is deprecated in 1.0 and will be removed in 1.2. Please use get_feature_names_out instead.\n",
      "  warnings.warn(msg, category=FutureWarning)\n"
     ]
    }
   ],
   "source": [
    "x_test=pd.DataFrame(data=data_pipe.transform(ld_test),\n",
    "                     columns=data_pipe.get_feature_names())"
   ]
  },
  {
   "cell_type": "code",
   "execution_count": 17,
   "metadata": {},
   "outputs": [],
   "source": [
    "y_test=ld_test['Interest.Rate'].str.replace('%','').astype(float)"
   ]
  },
  {
   "cell_type": "code",
   "execution_count": 18,
   "metadata": {},
   "outputs": [],
   "source": [
    "from sklearn.linear_model import LinearRegression\n",
    "from sklearn.model_selection import cross_val_score"
   ]
  },
  {
   "cell_type": "code",
   "execution_count": 79,
   "metadata": {},
   "outputs": [
    {
     "data": {
      "text/html": [
       "<div>\n",
       "<style scoped>\n",
       "    .dataframe tbody tr th:only-of-type {\n",
       "        vertical-align: middle;\n",
       "    }\n",
       "\n",
       "    .dataframe tbody tr th {\n",
       "        vertical-align: top;\n",
       "    }\n",
       "\n",
       "    .dataframe thead th {\n",
       "        text-align: right;\n",
       "    }\n",
       "</style>\n",
       "<table border=\"1\" class=\"dataframe\">\n",
       "  <thead>\n",
       "    <tr style=\"text-align: right;\">\n",
       "      <th></th>\n",
       "      <th>obj_to_num__Amount.Requested</th>\n",
       "      <th>obj_to_num__Open.CREDIT.Lines</th>\n",
       "      <th>obj_to_num__Revolving.CREDIT.Balance</th>\n",
       "      <th>dtir__Debt.To.Income.Ratio</th>\n",
       "      <th>obj_to_dum__Loan.Length_36 months</th>\n",
       "      <th>obj_to_dum__Loan.Length_60 months</th>\n",
       "      <th>obj_to_dum__Loan.Purpose_debt_consolidation</th>\n",
       "      <th>obj_to_dum__Loan.Purpose_credit_card</th>\n",
       "      <th>obj_to_dum__Loan.Purpose_other</th>\n",
       "      <th>obj_to_dum__Loan.Purpose_home_improvement</th>\n",
       "      <th>...</th>\n",
       "      <th>obj_to_dum__Employment.Length_4 years</th>\n",
       "      <th>obj_to_dum__Employment.Length_1 year</th>\n",
       "      <th>obj_to_dum__Employment.Length_6 years</th>\n",
       "      <th>obj_to_dum__Employment.Length_7 years</th>\n",
       "      <th>obj_to_dum__Employment.Length_8 years</th>\n",
       "      <th>obj_to_dum__Employment.Length_missing</th>\n",
       "      <th>obj_to_dum__Employment.Length_9 years</th>\n",
       "      <th>num__Monthly.Income</th>\n",
       "      <th>num__Inquiries.in.the.Last.6.Months</th>\n",
       "      <th>fico__fico</th>\n",
       "    </tr>\n",
       "  </thead>\n",
       "  <tbody>\n",
       "  </tbody>\n",
       "</table>\n",
       "<p>0 rows × 58 columns</p>\n",
       "</div>"
      ],
      "text/plain": [
       "Empty DataFrame\n",
       "Columns: [obj_to_num__Amount.Requested, obj_to_num__Open.CREDIT.Lines, obj_to_num__Revolving.CREDIT.Balance, dtir__Debt.To.Income.Ratio, obj_to_dum__Loan.Length_36 months, obj_to_dum__Loan.Length_60 months, obj_to_dum__Loan.Purpose_debt_consolidation, obj_to_dum__Loan.Purpose_credit_card, obj_to_dum__Loan.Purpose_other, obj_to_dum__Loan.Purpose_home_improvement, obj_to_dum__Loan.Purpose_major_purchase, obj_to_dum__Loan.Purpose_small_business, obj_to_dum__Loan.Purpose_car, obj_to_dum__Loan.Purpose_wedding, obj_to_dum__Loan.Purpose_medical, obj_to_dum__Loan.Purpose_moving, obj_to_dum__State_CA, obj_to_dum__State_NY, obj_to_dum__State_TX, obj_to_dum__State_FL, obj_to_dum__State_IL, obj_to_dum__State_GA, obj_to_dum__State_PA, obj_to_dum__State_NJ, obj_to_dum__State_VA, obj_to_dum__State_MA, obj_to_dum__State_OH, obj_to_dum__State_MD, obj_to_dum__State_NC, obj_to_dum__State_WA, obj_to_dum__State_CT, obj_to_dum__State_CO, obj_to_dum__State_MI, obj_to_dum__State_AZ, obj_to_dum__State_MN, obj_to_dum__State_MO, obj_to_dum__State_AL, obj_to_dum__State_NV, obj_to_dum__State_OR, obj_to_dum__State_WI, obj_to_dum__Home.Ownership_RENT, obj_to_dum__Home.Ownership_MORTGAGE, obj_to_dum__Home.Ownership_OWN, obj_to_dum__Employment.Length_10+ years, obj_to_dum__Employment.Length_< 1 year, obj_to_dum__Employment.Length_2 years, obj_to_dum__Employment.Length_3 years, obj_to_dum__Employment.Length_5 years, obj_to_dum__Employment.Length_4 years, obj_to_dum__Employment.Length_1 year, obj_to_dum__Employment.Length_6 years, obj_to_dum__Employment.Length_7 years, obj_to_dum__Employment.Length_8 years, obj_to_dum__Employment.Length_missing, obj_to_dum__Employment.Length_9 years, num__Monthly.Income, num__Inquiries.in.the.Last.6.Months, fico__fico]\n",
       "Index: []\n",
       "\n",
       "[0 rows x 58 columns]"
      ]
     },
     "execution_count": 79,
     "metadata": {},
     "output_type": "execute_result"
    }
   ],
   "source": [
    "### Check the missing values :\n",
    "incomplete_row = x_train[x_train.isna().any(axis=1)]\n",
    "incomplete_row"
   ]
  },
  {
   "cell_type": "code",
   "execution_count": 19,
   "metadata": {},
   "outputs": [],
   "source": [
    "lm=LinearRegression()"
   ]
  },
  {
   "cell_type": "code",
   "execution_count": 20,
   "metadata": {},
   "outputs": [],
   "source": [
    "cv_mae=-cross_val_score(lm,\n",
    "                        x_train,y_train,\n",
    "                        cv=10,\n",
    "                        scoring='neg_mean_absolute_error')"
   ]
  },
  {
   "cell_type": "code",
   "execution_count": 21,
   "metadata": {},
   "outputs": [
    {
     "data": {
      "text/plain": [
       "(array([1.6 , 1.6 , 1.82, 1.68, 1.5 , 1.56, 1.6 , 1.46, 1.54, 1.55]),\n",
       " 1.5901980128614053,\n",
       " 0.09612263133223106)"
      ]
     },
     "execution_count": 21,
     "metadata": {},
     "output_type": "execute_result"
    }
   ],
   "source": [
    "cv_mae , cv_mae.mean() , cv_mae.std()"
   ]
  },
  {
   "cell_type": "code",
   "execution_count": 22,
   "metadata": {},
   "outputs": [
    {
     "data": {
      "text/html": [
       "<style>#sk-container-id-1 {color: black;background-color: white;}#sk-container-id-1 pre{padding: 0;}#sk-container-id-1 div.sk-toggleable {background-color: white;}#sk-container-id-1 label.sk-toggleable__label {cursor: pointer;display: block;width: 100%;margin-bottom: 0;padding: 0.3em;box-sizing: border-box;text-align: center;}#sk-container-id-1 label.sk-toggleable__label-arrow:before {content: \"▸\";float: left;margin-right: 0.25em;color: #696969;}#sk-container-id-1 label.sk-toggleable__label-arrow:hover:before {color: black;}#sk-container-id-1 div.sk-estimator:hover label.sk-toggleable__label-arrow:before {color: black;}#sk-container-id-1 div.sk-toggleable__content {max-height: 0;max-width: 0;overflow: hidden;text-align: left;background-color: #f0f8ff;}#sk-container-id-1 div.sk-toggleable__content pre {margin: 0.2em;color: black;border-radius: 0.25em;background-color: #f0f8ff;}#sk-container-id-1 input.sk-toggleable__control:checked~div.sk-toggleable__content {max-height: 200px;max-width: 100%;overflow: auto;}#sk-container-id-1 input.sk-toggleable__control:checked~label.sk-toggleable__label-arrow:before {content: \"▾\";}#sk-container-id-1 div.sk-estimator input.sk-toggleable__control:checked~label.sk-toggleable__label {background-color: #d4ebff;}#sk-container-id-1 div.sk-label input.sk-toggleable__control:checked~label.sk-toggleable__label {background-color: #d4ebff;}#sk-container-id-1 input.sk-hidden--visually {border: 0;clip: rect(1px 1px 1px 1px);clip: rect(1px, 1px, 1px, 1px);height: 1px;margin: -1px;overflow: hidden;padding: 0;position: absolute;width: 1px;}#sk-container-id-1 div.sk-estimator {font-family: monospace;background-color: #f0f8ff;border: 1px dotted black;border-radius: 0.25em;box-sizing: border-box;margin-bottom: 0.5em;}#sk-container-id-1 div.sk-estimator:hover {background-color: #d4ebff;}#sk-container-id-1 div.sk-parallel-item::after {content: \"\";width: 100%;border-bottom: 1px solid gray;flex-grow: 1;}#sk-container-id-1 div.sk-label:hover label.sk-toggleable__label {background-color: #d4ebff;}#sk-container-id-1 div.sk-serial::before {content: \"\";position: absolute;border-left: 1px solid gray;box-sizing: border-box;top: 0;bottom: 0;left: 50%;z-index: 0;}#sk-container-id-1 div.sk-serial {display: flex;flex-direction: column;align-items: center;background-color: white;padding-right: 0.2em;padding-left: 0.2em;position: relative;}#sk-container-id-1 div.sk-item {position: relative;z-index: 1;}#sk-container-id-1 div.sk-parallel {display: flex;align-items: stretch;justify-content: center;background-color: white;position: relative;}#sk-container-id-1 div.sk-item::before, #sk-container-id-1 div.sk-parallel-item::before {content: \"\";position: absolute;border-left: 1px solid gray;box-sizing: border-box;top: 0;bottom: 0;left: 50%;z-index: -1;}#sk-container-id-1 div.sk-parallel-item {display: flex;flex-direction: column;z-index: 1;position: relative;background-color: white;}#sk-container-id-1 div.sk-parallel-item:first-child::after {align-self: flex-end;width: 50%;}#sk-container-id-1 div.sk-parallel-item:last-child::after {align-self: flex-start;width: 50%;}#sk-container-id-1 div.sk-parallel-item:only-child::after {width: 0;}#sk-container-id-1 div.sk-dashed-wrapped {border: 1px dashed gray;margin: 0 0.4em 0.5em 0.4em;box-sizing: border-box;padding-bottom: 0.4em;background-color: white;}#sk-container-id-1 div.sk-label label {font-family: monospace;font-weight: bold;display: inline-block;line-height: 1.2em;}#sk-container-id-1 div.sk-label-container {text-align: center;}#sk-container-id-1 div.sk-container {/* jupyter's `normalize.less` sets `[hidden] { display: none; }` but bootstrap.min.css set `[hidden] { display: none !important; }` so we also need the `!important` here to be able to override the default hidden behavior on the sphinx rendered scikit-learn.org. See: https://github.com/scikit-learn/scikit-learn/issues/21755 */display: inline-block !important;position: relative;}#sk-container-id-1 div.sk-text-repr-fallback {display: none;}</style><div id=\"sk-container-id-1\" class=\"sk-top-container\"><div class=\"sk-text-repr-fallback\"><pre>LinearRegression()</pre><b>In a Jupyter environment, please rerun this cell to show the HTML representation or trust the notebook. <br />On GitHub, the HTML representation is unable to render, please try loading this page with nbviewer.org.</b></div><div class=\"sk-container\" hidden><div class=\"sk-item\"><div class=\"sk-estimator sk-toggleable\"><input class=\"sk-toggleable__control sk-hidden--visually\" id=\"sk-estimator-id-1\" type=\"checkbox\" checked><label for=\"sk-estimator-id-1\" class=\"sk-toggleable__label sk-toggleable__label-arrow\">LinearRegression</label><div class=\"sk-toggleable__content\"><pre>LinearRegression()</pre></div></div></div></div></div>"
      ],
      "text/plain": [
       "LinearRegression()"
      ]
     },
     "execution_count": 22,
     "metadata": {},
     "output_type": "execute_result"
    }
   ],
   "source": [
    "\"\"\"\n",
    "Fit x_train , y_train\n",
    "\"\"\"\n",
    "lm.fit(x_train,y_train)"
   ]
  },
  {
   "cell_type": "code",
   "execution_count": 23,
   "metadata": {},
   "outputs": [
    {
     "data": {
      "text/plain": [
       "74.37214668381299"
      ]
     },
     "execution_count": 23,
     "metadata": {},
     "output_type": "execute_result"
    }
   ],
   "source": [
    "lm.intercept_"
   ]
  },
  {
   "cell_type": "code",
   "execution_count": 24,
   "metadata": {},
   "outputs": [
    {
     "data": {
      "text/plain": [
       "array([ 1.64e-04, -4.52e-02, -1.10e-06, -4.78e-04,  6.45e-02,  3.19e+00,\n",
       "       -4.67e-01, -6.26e-01,  3.36e-01, -5.96e-01, -1.02e-01,  1.61e-01,\n",
       "       -3.08e-01, -7.44e-01, -6.16e-01,  7.50e-01, -1.95e-01, -1.90e-01,\n",
       "        4.33e-01, -8.54e-02, -5.81e-01, -1.47e-01, -7.53e-01, -5.37e-01,\n",
       "       -3.28e-01, -1.89e-01,  4.35e-02, -1.55e-01, -2.66e-01, -2.82e-01,\n",
       "        2.81e-01, -1.18e-01, -8.42e-02,  3.13e-01,  9.53e-03, -4.21e-01,\n",
       "        1.62e-01,  2.62e-02,  9.50e-02, -4.69e-03, -1.44e+00, -1.69e+00,\n",
       "       -1.41e+00, -4.62e-01, -5.76e-01, -5.99e-01, -7.10e-01, -3.46e-01,\n",
       "       -4.68e-01, -7.51e-01, -3.78e-01, -6.98e-01, -6.93e-01, -3.08e-01,\n",
       "       -8.72e-01, -2.78e-05,  3.49e-01, -8.64e-02])"
      ]
     },
     "execution_count": 24,
     "metadata": {},
     "output_type": "execute_result"
    }
   ],
   "source": [
    "lm.coef_"
   ]
  },
  {
   "cell_type": "code",
   "execution_count": 25,
   "metadata": {},
   "outputs": [
    {
     "data": {
      "text/plain": [
       "[('obj_to_num__Amount.Requested', 0.00016365046976475064),\n",
       " ('obj_to_num__Open.CREDIT.Lines', -0.04521276749143588),\n",
       " ('obj_to_num__Revolving.CREDIT.Balance', -1.1035246329996608e-06),\n",
       " ('dtir__Debt.To.Income.Ratio', -0.000478164026940453),\n",
       " ('obj_to_dum__Loan.Length_36 months', 0.06450763433705647),\n",
       " ('obj_to_dum__Loan.Length_60 months', 3.1908741453889595),\n",
       " ('obj_to_dum__Loan.Purpose_debt_consolidation', -0.46680349114086117),\n",
       " ('obj_to_dum__Loan.Purpose_credit_card', -0.625544553025689),\n",
       " ('obj_to_dum__Loan.Purpose_other', 0.33610617463430303),\n",
       " ('obj_to_dum__Loan.Purpose_home_improvement', -0.5959949962728803),\n",
       " ('obj_to_dum__Loan.Purpose_major_purchase', -0.10226478671327802),\n",
       " ('obj_to_dum__Loan.Purpose_small_business', 0.16066676767492638),\n",
       " ('obj_to_dum__Loan.Purpose_car', -0.3078622502548871),\n",
       " ('obj_to_dum__Loan.Purpose_wedding', -0.744282490355365),\n",
       " ('obj_to_dum__Loan.Purpose_medical', -0.6163970650920092),\n",
       " ('obj_to_dum__Loan.Purpose_moving', 0.7503989498826253),\n",
       " ('obj_to_dum__State_CA', -0.1947552291760145),\n",
       " ('obj_to_dum__State_NY', -0.19031704639373132),\n",
       " ('obj_to_dum__State_TX', 0.4332860855131557),\n",
       " ('obj_to_dum__State_FL', -0.08535815774308658),\n",
       " ('obj_to_dum__State_IL', -0.580773158808483),\n",
       " ('obj_to_dum__State_GA', -0.14699244101206999),\n",
       " ('obj_to_dum__State_PA', -0.7525977895212425),\n",
       " ('obj_to_dum__State_NJ', -0.536771258812206),\n",
       " ('obj_to_dum__State_VA', -0.3282750804535851),\n",
       " ('obj_to_dum__State_MA', -0.18890664773083699),\n",
       " ('obj_to_dum__State_OH', 0.043527975716019005),\n",
       " ('obj_to_dum__State_MD', -0.1546504232818694),\n",
       " ('obj_to_dum__State_NC', -0.26577560810700057),\n",
       " ('obj_to_dum__State_WA', -0.28234006031758285),\n",
       " ('obj_to_dum__State_CT', 0.28144869477950923),\n",
       " ('obj_to_dum__State_CO', -0.11843234537665004),\n",
       " ('obj_to_dum__State_MI', -0.08423319079652486),\n",
       " ('obj_to_dum__State_AZ', 0.31343542319712153),\n",
       " ('obj_to_dum__State_MN', 0.009525482225396897),\n",
       " ('obj_to_dum__State_MO', -0.4206489395155755),\n",
       " ('obj_to_dum__State_AL', 0.16190956297524262),\n",
       " ('obj_to_dum__State_NV', 0.02618823750125082),\n",
       " ('obj_to_dum__State_OR', 0.09495669988823344),\n",
       " ('obj_to_dum__State_WI', -0.004692023940440104),\n",
       " ('obj_to_dum__Home.Ownership_RENT', -1.438329134936145),\n",
       " ('obj_to_dum__Home.Ownership_MORTGAGE', -1.6945302336408927),\n",
       " ('obj_to_dum__Home.Ownership_OWN', -1.4053688505262059),\n",
       " ('obj_to_dum__Employment.Length_10+ years', -0.46183961966997733),\n",
       " ('obj_to_dum__Employment.Length_< 1 year', -0.5756094263486418),\n",
       " ('obj_to_dum__Employment.Length_2 years', -0.5993350685248078),\n",
       " ('obj_to_dum__Employment.Length_3 years', -0.7104912644549645),\n",
       " ('obj_to_dum__Employment.Length_5 years', -0.34561326666174935),\n",
       " ('obj_to_dum__Employment.Length_4 years', -0.46840002415423254),\n",
       " ('obj_to_dum__Employment.Length_1 year', -0.7509823207423807),\n",
       " ('obj_to_dum__Employment.Length_6 years', -0.37810373931835956),\n",
       " ('obj_to_dum__Employment.Length_7 years', -0.6977896621428443),\n",
       " ('obj_to_dum__Employment.Length_8 years', -0.6927804357231352),\n",
       " ('obj_to_dum__Employment.Length_missing', -0.3079356527437932),\n",
       " ('obj_to_dum__Employment.Length_9 years', -0.8718476574406819),\n",
       " ('num__Monthly.Income', -2.777697816185032e-05),\n",
       " ('num__Inquiries.in.the.Last.6.Months', 0.34850794390718826),\n",
       " ('fico__fico', -0.08641155818093171)]"
      ]
     },
     "execution_count": 25,
     "metadata": {},
     "output_type": "execute_result"
    }
   ],
   "source": [
    "list(zip(x_train.columns,lm.coef_))"
   ]
  },
  {
   "cell_type": "code",
   "execution_count": 26,
   "metadata": {},
   "outputs": [
    {
     "data": {
      "text/plain": [
       "'\\nNow  -  lets Predict using x_test\\n'"
      ]
     },
     "execution_count": 26,
     "metadata": {},
     "output_type": "execute_result"
    }
   ],
   "source": [
    "\"\"\"\n",
    "Now  -  lets Predict using x_test\n",
    "\"\"\""
   ]
  },
  {
   "cell_type": "code",
   "execution_count": 27,
   "metadata": {},
   "outputs": [],
   "source": [
    "ypred=lm.predict(x_test)"
   ]
  },
  {
   "cell_type": "code",
   "execution_count": 28,
   "metadata": {},
   "outputs": [],
   "source": [
    "mse = mean_squared_error(y_test, ypred)"
   ]
  },
  {
   "cell_type": "code",
   "execution_count": 29,
   "metadata": {},
   "outputs": [
    {
     "name": "stdout",
     "output_type": "stream",
     "text": [
      "MSE:  4.533647813793135\n"
     ]
    }
   ],
   "source": [
    "print(\"MSE: \", mse)"
   ]
  },
  {
   "cell_type": "code",
   "execution_count": 30,
   "metadata": {},
   "outputs": [
    {
     "name": "stdout",
     "output_type": "stream",
     "text": [
      "RMSE:  2.1292364391474083\n"
     ]
    }
   ],
   "source": [
    "print(\"RMSE: \", mse**(0.5)) \n",
    "\n"
   ]
  },
  {
   "cell_type": "code",
   "execution_count": 31,
   "metadata": {},
   "outputs": [
    {
     "name": "stdout",
     "output_type": "stream",
     "text": [
      "Mean Absolute Error: 1.6300811210674946\n",
      "Mean Squared Error: 4.533647813793135\n",
      "Root Mean Squared Error: 2.1292364391474083\n"
     ]
    }
   ],
   "source": [
    "\n",
    "print('Mean Absolute Error:', metrics.mean_absolute_error(y_test, ypred))\n",
    "print('Mean Squared Error:', metrics.mean_squared_error(y_test, ypred))\n",
    "print('Root Mean Squared Error:', np.sqrt(metrics.mean_squared_error(y_test, ypred)))"
   ]
  },
  {
   "cell_type": "code",
   "execution_count": 32,
   "metadata": {},
   "outputs": [
    {
     "data": {
      "image/png": "[encoded data removed]",
      "text/plain": [
       "<Figure size 432x288 with 1 Axes>"
      ]
     },
     "metadata": {
      "needs_background": "light"
     },
     "output_type": "display_data"
    }
   ],
   "source": [
    "x_ax = range(len(y_test))\n",
    "plt.plot(x_ax, y_test, linewidth=1, label=\"original\")\n",
    "plt.plot(x_ax, ypred, linewidth=1.1, label=\"predicted\")\n",
    "plt.title(\"y-test and y-predicted data\")\n",
    "plt.xlabel('X-axis')\n",
    "plt.ylabel('Y-axis')\n",
    "plt.legend(loc='best',fancybox=True, shadow=True)\n",
    "plt.grid(True)\n",
    "plt.show() "
   ]
  },
  {
   "cell_type": "markdown",
   "metadata": {},
   "source": [
    "# Ridge  Regression"
   ]
  },
  {
   "cell_type": "code",
   "execution_count": 33,
   "metadata": {},
   "outputs": [],
   "source": [
    "lambdas=np.linspace(1,100,100)"
   ]
  },
  {
   "cell_type": "code",
   "execution_count": 34,
   "metadata": {},
   "outputs": [],
   "source": [
    "params={'alpha':lambdas}"
   ]
  },
  {
   "cell_type": "code",
   "execution_count": 35,
   "metadata": {},
   "outputs": [],
   "source": [
    "model=Ridge(fit_intercept=True)"
   ]
  },
  {
   "cell_type": "code",
   "execution_count": 36,
   "metadata": {},
   "outputs": [],
   "source": [
    "grid_search=GridSearchCV(model,\n",
    "                         param_grid=params,\n",
    "                         cv=10,\n",
    "                         scoring='neg_mean_absolute_error',\n",
    "                        verbose=20,n_jobs=-1)"
   ]
  },
  {
   "cell_type": "code",
   "execution_count": 37,
   "metadata": {},
   "outputs": [
    {
     "name": "stdout",
     "output_type": "stream",
     "text": [
      "Fitting 10 folds for each of 100 candidates, totalling 1000 fits\n"
     ]
    },
    {
     "data": {
      "text/html": [
       "<style>#sk-container-id-2 {color: black;background-color: white;}#sk-container-id-2 pre{padding: 0;}#sk-container-id-2 div.sk-toggleable {background-color: white;}#sk-container-id-2 label.sk-toggleable__label {cursor: pointer;display: block;width: 100%;margin-bottom: 0;padding: 0.3em;box-sizing: border-box;text-align: center;}#sk-container-id-2 label.sk-toggleable__label-arrow:before {content: \"▸\";float: left;margin-right: 0.25em;color: #696969;}#sk-container-id-2 label.sk-toggleable__label-arrow:hover:before {color: black;}#sk-container-id-2 div.sk-estimator:hover label.sk-toggleable__label-arrow:before {color: black;}#sk-container-id-2 div.sk-toggleable__content {max-height: 0;max-width: 0;overflow: hidden;text-align: left;background-color: #f0f8ff;}#sk-container-id-2 div.sk-toggleable__content pre {margin: 0.2em;color: black;border-radius: 0.25em;background-color: #f0f8ff;}#sk-container-id-2 input.sk-toggleable__control:checked~div.sk-toggleable__content {max-height: 200px;max-width: 100%;overflow: auto;}#sk-container-id-2 input.sk-toggleable__control:checked~label.sk-toggleable__label-arrow:before {content: \"▾\";}#sk-container-id-2 div.sk-estimator input.sk-toggleable__control:checked~label.sk-toggleable__label {background-color: #d4ebff;}#sk-container-id-2 div.sk-label input.sk-toggleable__control:checked~label.sk-toggleable__label {background-color: #d4ebff;}#sk-container-id-2 input.sk-hidden--visually {border: 0;clip: rect(1px 1px 1px 1px);clip: rect(1px, 1px, 1px, 1px);height: 1px;margin: -1px;overflow: hidden;padding: 0;position: absolute;width: 1px;}#sk-container-id-2 div.sk-estimator {font-family: monospace;background-color: #f0f8ff;border: 1px dotted black;border-radius: 0.25em;box-sizing: border-box;margin-bottom: 0.5em;}#sk-container-id-2 div.sk-estimator:hover {background-color: #d4ebff;}#sk-container-id-2 div.sk-parallel-item::after {content: \"\";width: 100%;border-bottom: 1px solid gray;flex-grow: 1;}#sk-container-id-2 div.sk-label:hover label.sk-toggleable__label {background-color: #d4ebff;}#sk-container-id-2 div.sk-serial::before {content: \"\";position: absolute;border-left: 1px solid gray;box-sizing: border-box;top: 0;bottom: 0;left: 50%;z-index: 0;}#sk-container-id-2 div.sk-serial {display: flex;flex-direction: column;align-items: center;background-color: white;padding-right: 0.2em;padding-left: 0.2em;position: relative;}#sk-container-id-2 div.sk-item {position: relative;z-index: 1;}#sk-container-id-2 div.sk-parallel {display: flex;align-items: stretch;justify-content: center;background-color: white;position: relative;}#sk-container-id-2 div.sk-item::before, #sk-container-id-2 div.sk-parallel-item::before {content: \"\";position: absolute;border-left: 1px solid gray;box-sizing: border-box;top: 0;bottom: 0;left: 50%;z-index: -1;}#sk-container-id-2 div.sk-parallel-item {display: flex;flex-direction: column;z-index: 1;position: relative;background-color: white;}#sk-container-id-2 div.sk-parallel-item:first-child::after {align-self: flex-end;width: 50%;}#sk-container-id-2 div.sk-parallel-item:last-child::after {align-self: flex-start;width: 50%;}#sk-container-id-2 div.sk-parallel-item:only-child::after {width: 0;}#sk-container-id-2 div.sk-dashed-wrapped {border: 1px dashed gray;margin: 0 0.4em 0.5em 0.4em;box-sizing: border-box;padding-bottom: 0.4em;background-color: white;}#sk-container-id-2 div.sk-label label {font-family: monospace;font-weight: bold;display: inline-block;line-height: 1.2em;}#sk-container-id-2 div.sk-label-container {text-align: center;}#sk-container-id-2 div.sk-container {/* jupyter's `normalize.less` sets `[hidden] { display: none; }` but bootstrap.min.css set `[hidden] { display: none !important; }` so we also need the `!important` here to be able to override the default hidden behavior on the sphinx rendered scikit-learn.org. See: https://github.com/scikit-learn/scikit-learn/issues/21755 */display: inline-block !important;position: relative;}#sk-container-id-2 div.sk-text-repr-fallback {display: none;}</style><div id=\"sk-container-id-2\" class=\"sk-top-container\"><div class=\"sk-text-repr-fallback\"><pre>GridSearchCV(cv=10, estimator=Ridge(), n_jobs=-1,\n",
       "             param_grid={&#x27;alpha&#x27;: array([  1.,   2.,   3.,   4.,   5.,   6.,   7.,   8.,   9.,  10.,  11.,\n",
       "        12.,  13.,  14.,  15.,  16.,  17.,  18.,  19.,  20.,  21.,  22.,\n",
       "        23.,  24.,  25.,  26.,  27.,  28.,  29.,  30.,  31.,  32.,  33.,\n",
       "        34.,  35.,  36.,  37.,  38.,  39.,  40.,  41.,  42.,  43.,  44.,\n",
       "        45.,  46.,  47.,  48.,  49.,  50.,  51.,  52.,  53.,  54.,  55.,\n",
       "        56.,  57.,  58.,  59.,  60.,  61.,  62.,  63.,  64.,  65.,  66.,\n",
       "        67.,  68.,  69.,  70.,  71.,  72.,  73.,  74.,  75.,  76.,  77.,\n",
       "        78.,  79.,  80.,  81.,  82.,  83.,  84.,  85.,  86.,  87.,  88.,\n",
       "        89.,  90.,  91.,  92.,  93.,  94.,  95.,  96.,  97.,  98.,  99.,\n",
       "       100.])},\n",
       "             scoring=&#x27;neg_mean_absolute_error&#x27;, verbose=20)</pre><b>In a Jupyter environment, please rerun this cell to show the HTML representation or trust the notebook. <br />On GitHub, the HTML representation is unable to render, please try loading this page with nbviewer.org.</b></div><div class=\"sk-container\" hidden><div class=\"sk-item sk-dashed-wrapped\"><div class=\"sk-label-container\"><div class=\"sk-label sk-toggleable\"><input class=\"sk-toggleable__control sk-hidden--visually\" id=\"sk-estimator-id-2\" type=\"checkbox\" ><label for=\"sk-estimator-id-2\" class=\"sk-toggleable__label sk-toggleable__label-arrow\">GridSearchCV</label><div class=\"sk-toggleable__content\"><pre>GridSearchCV(cv=10, estimator=Ridge(), n_jobs=-1,\n",
       "             param_grid={&#x27;alpha&#x27;: array([  1.,   2.,   3.,   4.,   5.,   6.,   7.,   8.,   9.,  10.,  11.,\n",
       "        12.,  13.,  14.,  15.,  16.,  17.,  18.,  19.,  20.,  21.,  22.,\n",
       "        23.,  24.,  25.,  26.,  27.,  28.,  29.,  30.,  31.,  32.,  33.,\n",
       "        34.,  35.,  36.,  37.,  38.,  39.,  40.,  41.,  42.,  43.,  44.,\n",
       "        45.,  46.,  47.,  48.,  49.,  50.,  51.,  52.,  53.,  54.,  55.,\n",
       "        56.,  57.,  58.,  59.,  60.,  61.,  62.,  63.,  64.,  65.,  66.,\n",
       "        67.,  68.,  69.,  70.,  71.,  72.,  73.,  74.,  75.,  76.,  77.,\n",
       "        78.,  79.,  80.,  81.,  82.,  83.,  84.,  85.,  86.,  87.,  88.,\n",
       "        89.,  90.,  91.,  92.,  93.,  94.,  95.,  96.,  97.,  98.,  99.,\n",
       "       100.])},\n",
       "             scoring=&#x27;neg_mean_absolute_error&#x27;, verbose=20)</pre></div></div></div><div class=\"sk-parallel\"><div class=\"sk-parallel-item\"><div class=\"sk-item\"><div class=\"sk-label-container\"><div class=\"sk-label sk-toggleable\"><input class=\"sk-toggleable__control sk-hidden--visually\" id=\"sk-estimator-id-3\" type=\"checkbox\" ><label for=\"sk-estimator-id-3\" class=\"sk-toggleable__label sk-toggleable__label-arrow\">estimator: Ridge</label><div class=\"sk-toggleable__content\"><pre>Ridge()</pre></div></div></div><div class=\"sk-serial\"><div class=\"sk-item\"><div class=\"sk-estimator sk-toggleable\"><input class=\"sk-toggleable__control sk-hidden--visually\" id=\"sk-estimator-id-4\" type=\"checkbox\" ><label for=\"sk-estimator-id-4\" class=\"sk-toggleable__label sk-toggleable__label-arrow\">Ridge</label><div class=\"sk-toggleable__content\"><pre>Ridge()</pre></div></div></div></div></div></div></div></div></div></div>"
      ],
      "text/plain": [
       "GridSearchCV(cv=10, estimator=Ridge(), n_jobs=-1,\n",
       "             param_grid={'alpha': array([  1.,   2.,   3.,   4.,   5.,   6.,   7.,   8.,   9.,  10.,  11.,\n",
       "        12.,  13.,  14.,  15.,  16.,  17.,  18.,  19.,  20.,  21.,  22.,\n",
       "        23.,  24.,  25.,  26.,  27.,  28.,  29.,  30.,  31.,  32.,  33.,\n",
       "        34.,  35.,  36.,  37.,  38.,  39.,  40.,  41.,  42.,  43.,  44.,\n",
       "        45.,  46.,  47.,  48.,  49.,  50.,  51.,  52.,  53.,  54.,  55.,\n",
       "        56.,  57.,  58.,  59.,  60.,  61.,  62.,  63.,  64.,  65.,  66.,\n",
       "        67.,  68.,  69.,  70.,  71.,  72.,  73.,  74.,  75.,  76.,  77.,\n",
       "        78.,  79.,  80.,  81.,  82.,  83.,  84.,  85.,  86.,  87.,  88.,\n",
       "        89.,  90.,  91.,  92.,  93.,  94.,  95.,  96.,  97.,  98.,  99.,\n",
       "       100.])},\n",
       "             scoring='neg_mean_absolute_error', verbose=20)"
      ]
     },
     "execution_count": 37,
     "metadata": {},
     "output_type": "execute_result"
    }
   ],
   "source": [
    "grid_search.fit(x_train,y_train)"
   ]
  },
  {
   "cell_type": "code",
   "execution_count": 38,
   "metadata": {},
   "outputs": [
    {
     "data": {
      "text/html": [
       "<style>#sk-container-id-3 {color: black;background-color: white;}#sk-container-id-3 pre{padding: 0;}#sk-container-id-3 div.sk-toggleable {background-color: white;}#sk-container-id-3 label.sk-toggleable__label {cursor: pointer;display: block;width: 100%;margin-bottom: 0;padding: 0.3em;box-sizing: border-box;text-align: center;}#sk-container-id-3 label.sk-toggleable__label-arrow:before {content: \"▸\";float: left;margin-right: 0.25em;color: #696969;}#sk-container-id-3 label.sk-toggleable__label-arrow:hover:before {color: black;}#sk-container-id-3 div.sk-estimator:hover label.sk-toggleable__label-arrow:before {color: black;}#sk-container-id-3 div.sk-toggleable__content {max-height: 0;max-width: 0;overflow: hidden;text-align: left;background-color: #f0f8ff;}#sk-container-id-3 div.sk-toggleable__content pre {margin: 0.2em;color: black;border-radius: 0.25em;background-color: #f0f8ff;}#sk-container-id-3 input.sk-toggleable__control:checked~div.sk-toggleable__content {max-height: 200px;max-width: 100%;overflow: auto;}#sk-container-id-3 input.sk-toggleable__control:checked~label.sk-toggleable__label-arrow:before {content: \"▾\";}#sk-container-id-3 div.sk-estimator input.sk-toggleable__control:checked~label.sk-toggleable__label {background-color: #d4ebff;}#sk-container-id-3 div.sk-label input.sk-toggleable__control:checked~label.sk-toggleable__label {background-color: #d4ebff;}#sk-container-id-3 input.sk-hidden--visually {border: 0;clip: rect(1px 1px 1px 1px);clip: rect(1px, 1px, 1px, 1px);height: 1px;margin: -1px;overflow: hidden;padding: 0;position: absolute;width: 1px;}#sk-container-id-3 div.sk-estimator {font-family: monospace;background-color: #f0f8ff;border: 1px dotted black;border-radius: 0.25em;box-sizing: border-box;margin-bottom: 0.5em;}#sk-container-id-3 div.sk-estimator:hover {background-color: #d4ebff;}#sk-container-id-3 div.sk-parallel-item::after {content: \"\";width: 100%;border-bottom: 1px solid gray;flex-grow: 1;}#sk-container-id-3 div.sk-label:hover label.sk-toggleable__label {background-color: #d4ebff;}#sk-container-id-3 div.sk-serial::before {content: \"\";position: absolute;border-left: 1px solid gray;box-sizing: border-box;top: 0;bottom: 0;left: 50%;z-index: 0;}#sk-container-id-3 div.sk-serial {display: flex;flex-direction: column;align-items: center;background-color: white;padding-right: 0.2em;padding-left: 0.2em;position: relative;}#sk-container-id-3 div.sk-item {position: relative;z-index: 1;}#sk-container-id-3 div.sk-parallel {display: flex;align-items: stretch;justify-content: center;background-color: white;position: relative;}#sk-container-id-3 div.sk-item::before, #sk-container-id-3 div.sk-parallel-item::before {content: \"\";position: absolute;border-left: 1px solid gray;box-sizing: border-box;top: 0;bottom: 0;left: 50%;z-index: -1;}#sk-container-id-3 div.sk-parallel-item {display: flex;flex-direction: column;z-index: 1;position: relative;background-color: white;}#sk-container-id-3 div.sk-parallel-item:first-child::after {align-self: flex-end;width: 50%;}#sk-container-id-3 div.sk-parallel-item:last-child::after {align-self: flex-start;width: 50%;}#sk-container-id-3 div.sk-parallel-item:only-child::after {width: 0;}#sk-container-id-3 div.sk-dashed-wrapped {border: 1px dashed gray;margin: 0 0.4em 0.5em 0.4em;box-sizing: border-box;padding-bottom: 0.4em;background-color: white;}#sk-container-id-3 div.sk-label label {font-family: monospace;font-weight: bold;display: inline-block;line-height: 1.2em;}#sk-container-id-3 div.sk-label-container {text-align: center;}#sk-container-id-3 div.sk-container {/* jupyter's `normalize.less` sets `[hidden] { display: none; }` but bootstrap.min.css set `[hidden] { display: none !important; }` so we also need the `!important` here to be able to override the default hidden behavior on the sphinx rendered scikit-learn.org. See: https://github.com/scikit-learn/scikit-learn/issues/21755 */display: inline-block !important;position: relative;}#sk-container-id-3 div.sk-text-repr-fallback {display: none;}</style><div id=\"sk-container-id-3\" class=\"sk-top-container\"><div class=\"sk-text-repr-fallback\"><pre>Ridge(alpha=46.0)</pre><b>In a Jupyter environment, please rerun this cell to show the HTML representation or trust the notebook. <br />On GitHub, the HTML representation is unable to render, please try loading this page with nbviewer.org.</b></div><div class=\"sk-container\" hidden><div class=\"sk-item\"><div class=\"sk-estimator sk-toggleable\"><input class=\"sk-toggleable__control sk-hidden--visually\" id=\"sk-estimator-id-5\" type=\"checkbox\" checked><label for=\"sk-estimator-id-5\" class=\"sk-toggleable__label sk-toggleable__label-arrow\">Ridge</label><div class=\"sk-toggleable__content\"><pre>Ridge(alpha=46.0)</pre></div></div></div></div></div>"
      ],
      "text/plain": [
       "Ridge(alpha=46.0)"
      ]
     },
     "execution_count": 38,
     "metadata": {},
     "output_type": "execute_result"
    }
   ],
   "source": [
    "grid_search.best_estimator_"
   ]
  },
  {
   "cell_type": "code",
   "execution_count": 39,
   "metadata": {},
   "outputs": [
    {
     "data": {
      "text/plain": [
       "{'mean_fit_time': array([0.31, 0.02, 0.02, 0.03, 0.02, 0.01, 0.02, 0.02, 0.02, 0.02, 0.02,\n",
       "        0.02, 0.02, 0.01, 0.02, 0.02, 0.02, 0.02, 0.02, 0.01, 0.01, 0.01,\n",
       "        0.02, 0.02, 0.01, 0.02, 0.02, 0.02, 0.02, 0.02, 0.01, 0.02, 0.01,\n",
       "        0.02, 0.03, 0.02, 0.02, 0.01, 0.01, 0.02, 0.02, 0.03, 0.02, 0.01,\n",
       "        0.03, 0.03, 0.01, 0.01, 0.01, 0.01, 0.01, 0.02, 0.02, 0.02, 0.02,\n",
       "        0.03, 0.01, 0.02, 0.03, 0.02, 0.02, 0.01, 0.02, 0.02, 0.01, 0.01,\n",
       "        0.02, 0.02, 0.02, 0.02, 0.03, 0.01, 0.02, 0.01, 0.02, 0.01, 0.01,\n",
       "        0.02, 0.01, 0.01, 0.01, 0.01, 0.01, 0.01, 0.01, 0.01, 0.01, 0.01,\n",
       "        0.01, 0.01, 0.01, 0.01, 0.01, 0.01, 0.02, 0.01, 0.01, 0.01, 0.01,\n",
       "        0.01]),\n",
       " 'std_fit_time': array([0.21, 0.01, 0.01, 0.01, 0.01, 0.  , 0.03, 0.02, 0.02, 0.01, 0.03,\n",
       "        0.02, 0.03, 0.  , 0.02, 0.03, 0.01, 0.02, 0.03, 0.01, 0.01, 0.02,\n",
       "        0.02, 0.02, 0.  , 0.02, 0.02, 0.02, 0.02, 0.01, 0.  , 0.02, 0.  ,\n",
       "        0.02, 0.03, 0.02, 0.02, 0.  , 0.01, 0.01, 0.04, 0.03, 0.02, 0.  ,\n",
       "        0.03, 0.04, 0.  , 0.  , 0.01, 0.01, 0.02, 0.01, 0.02, 0.02, 0.02,\n",
       "        0.03, 0.01, 0.02, 0.03, 0.02, 0.02, 0.01, 0.02, 0.01, 0.01, 0.01,\n",
       "        0.01, 0.02, 0.02, 0.02, 0.03, 0.  , 0.02, 0.01, 0.02, 0.01, 0.01,\n",
       "        0.01, 0.01, 0.  , 0.01, 0.01, 0.01, 0.01, 0.01, 0.  , 0.01, 0.01,\n",
       "        0.02, 0.  , 0.01, 0.02, 0.  , 0.01, 0.01, 0.  , 0.01, 0.01, 0.01,\n",
       "        0.01]),\n",
       " 'mean_score_time': array([0.01, 0.01, 0.  , 0.02, 0.01, 0.01, 0.  , 0.01, 0.  , 0.01, 0.01,\n",
       "        0.01, 0.  , 0.  , 0.01, 0.  , 0.  , 0.  , 0.01, 0.01, 0.  , 0.  ,\n",
       "        0.01, 0.  , 0.  , 0.01, 0.01, 0.01, 0.  , 0.01, 0.  , 0.  , 0.  ,\n",
       "        0.01, 0.01, 0.  , 0.  , 0.  , 0.01, 0.  , 0.01, 0.01, 0.01, 0.  ,\n",
       "        0.  , 0.01, 0.01, 0.  , 0.  , 0.01, 0.01, 0.01, 0.01, 0.01, 0.01,\n",
       "        0.01, 0.01, 0.  , 0.01, 0.01, 0.01, 0.  , 0.  , 0.01, 0.01, 0.01,\n",
       "        0.01, 0.  , 0.  , 0.02, 0.02, 0.  , 0.01, 0.01, 0.01, 0.  , 0.  ,\n",
       "        0.  , 0.01, 0.  , 0.01, 0.01, 0.  , 0.01, 0.  , 0.01, 0.01, 0.01,\n",
       "        0.  , 0.  , 0.  , 0.  , 0.01, 0.  , 0.  , 0.01, 0.01, 0.01, 0.  ,\n",
       "        0.  ]),\n",
       " 'std_score_time': array([2.91e-03, 3.04e-03, 1.30e-03, 2.25e-02, 2.97e-03, 3.40e-03,\n",
       "        2.60e-03, 3.18e-03, 1.20e-03, 1.57e-02, 1.91e-02, 1.71e-02,\n",
       "        1.97e-03, 1.67e-03, 1.61e-02, 3.78e-03, 1.28e-03, 1.36e-03,\n",
       "        1.56e-02, 2.02e-02, 1.15e-06, 6.69e-04, 8.44e-03, 2.32e-03,\n",
       "        4.24e-03, 1.70e-02, 1.02e-02, 2.02e-02, 2.23e-03, 1.83e-02,\n",
       "        1.12e-03, 1.84e-03, 1.20e-03, 2.80e-03, 1.53e-02, 2.32e-03,\n",
       "        9.41e-04, 1.35e-03, 4.73e-03, 9.77e-04, 1.81e-02, 7.60e-03,\n",
       "        2.68e-02, 1.11e-03, 9.77e-04, 2.70e-02, 1.32e-02, 4.54e-04,\n",
       "        6.62e-04, 4.21e-03, 1.37e-02, 2.15e-02, 8.11e-03, 1.59e-02,\n",
       "        1.56e-02, 1.34e-02, 6.20e-03, 2.19e-03, 1.89e-02, 2.92e-03,\n",
       "        2.03e-02, 1.96e-03, 1.84e-03, 4.26e-03, 3.32e-03, 6.15e-03,\n",
       "        7.02e-03, 1.48e-03, 9.41e-04, 3.09e-02, 2.30e-02, 1.11e-03,\n",
       "        3.39e-03, 4.68e-03, 1.25e-02, 2.72e-03, 1.81e-03, 4.57e-04,\n",
       "        7.12e-03, 1.94e-03, 1.25e-02, 7.08e-03, 1.34e-03, 3.19e-03,\n",
       "        2.27e-03, 4.09e-03, 1.48e-02, 7.62e-03, 8.98e-04, 1.80e-03,\n",
       "        2.10e-03, 6.99e-04, 1.01e-02, 1.27e-03, 2.07e-03, 4.65e-03,\n",
       "        4.33e-03, 3.46e-03, 1.56e-03, 6.62e-04]),\n",
       " 'param_alpha': masked_array(data=[1.0, 2.0, 3.0, 4.0, 5.0, 6.0, 7.0, 8.0, 9.0, 10.0,\n",
       "                    11.0, 12.0, 13.0, 14.0, 15.0, 16.0, 17.0, 18.0, 19.0,\n",
       "                    20.0, 21.0, 22.0, 23.0, 24.0, 25.0, 26.0, 27.0, 28.0,\n",
       "                    29.0, 30.0, 31.0, 32.0, 33.0, 34.0, 35.0, 36.0, 37.0,\n",
       "                    38.0, 39.0, 40.0, 41.0, 42.0, 43.0, 44.0, 45.0, 46.0,\n",
       "                    47.0, 48.0, 49.0, 50.0, 51.0, 52.0, 53.0, 54.0, 55.0,\n",
       "                    56.0, 57.0, 58.0, 59.0, 60.0, 61.0, 62.0, 63.0, 64.0,\n",
       "                    65.0, 66.0, 67.0, 68.0, 69.0, 70.0, 71.0, 72.0, 73.0,\n",
       "                    74.0, 75.0, 76.0, 77.0, 78.0, 79.0, 80.0, 81.0, 82.0,\n",
       "                    83.0, 84.0, 85.0, 86.0, 87.0, 88.0, 89.0, 90.0, 91.0,\n",
       "                    92.0, 93.0, 94.0, 95.0, 96.0, 97.0, 98.0, 99.0, 100.0],\n",
       "              mask=[False, False, False, False, False, False, False, False,\n",
       "                    False, False, False, False, False, False, False, False,\n",
       "                    False, False, False, False, False, False, False, False,\n",
       "                    False, False, False, False, False, False, False, False,\n",
       "                    False, False, False, False, False, False, False, False,\n",
       "                    False, False, False, False, False, False, False, False,\n",
       "                    False, False, False, False, False, False, False, False,\n",
       "                    False, False, False, False, False, False, False, False,\n",
       "                    False, False, False, False, False, False, False, False,\n",
       "                    False, False, False, False, False, False, False, False,\n",
       "                    False, False, False, False, False, False, False, False,\n",
       "                    False, False, False, False, False, False, False, False,\n",
       "                    False, False, False, False],\n",
       "        fill_value='?',\n",
       "             dtype=object),\n",
       " 'params': [{'alpha': 1.0},\n",
       "  {'alpha': 2.0},\n",
       "  {'alpha': 3.0},\n",
       "  {'alpha': 4.0},\n",
       "  {'alpha': 5.0},\n",
       "  {'alpha': 6.0},\n",
       "  {'alpha': 7.0},\n",
       "  {'alpha': 8.0},\n",
       "  {'alpha': 9.0},\n",
       "  {'alpha': 10.0},\n",
       "  {'alpha': 11.0},\n",
       "  {'alpha': 12.0},\n",
       "  {'alpha': 13.0},\n",
       "  {'alpha': 14.0},\n",
       "  {'alpha': 15.0},\n",
       "  {'alpha': 16.0},\n",
       "  {'alpha': 17.0},\n",
       "  {'alpha': 18.0},\n",
       "  {'alpha': 19.0},\n",
       "  {'alpha': 20.0},\n",
       "  {'alpha': 21.0},\n",
       "  {'alpha': 22.0},\n",
       "  {'alpha': 23.0},\n",
       "  {'alpha': 24.0},\n",
       "  {'alpha': 25.0},\n",
       "  {'alpha': 26.0},\n",
       "  {'alpha': 27.0},\n",
       "  {'alpha': 28.0},\n",
       "  {'alpha': 29.0},\n",
       "  {'alpha': 30.0},\n",
       "  {'alpha': 31.0},\n",
       "  {'alpha': 32.0},\n",
       "  {'alpha': 33.0},\n",
       "  {'alpha': 34.0},\n",
       "  {'alpha': 35.0},\n",
       "  {'alpha': 36.0},\n",
       "  {'alpha': 37.0},\n",
       "  {'alpha': 38.0},\n",
       "  {'alpha': 39.0},\n",
       "  {'alpha': 40.0},\n",
       "  {'alpha': 41.0},\n",
       "  {'alpha': 42.0},\n",
       "  {'alpha': 43.0},\n",
       "  {'alpha': 44.0},\n",
       "  {'alpha': 45.0},\n",
       "  {'alpha': 46.0},\n",
       "  {'alpha': 47.0},\n",
       "  {'alpha': 48.0},\n",
       "  {'alpha': 49.0},\n",
       "  {'alpha': 50.0},\n",
       "  {'alpha': 51.0},\n",
       "  {'alpha': 52.0},\n",
       "  {'alpha': 53.0},\n",
       "  {'alpha': 54.0},\n",
       "  {'alpha': 55.0},\n",
       "  {'alpha': 56.0},\n",
       "  {'alpha': 57.0},\n",
       "  {'alpha': 58.0},\n",
       "  {'alpha': 59.0},\n",
       "  {'alpha': 60.0},\n",
       "  {'alpha': 61.0},\n",
       "  {'alpha': 62.0},\n",
       "  {'alpha': 63.0},\n",
       "  {'alpha': 64.0},\n",
       "  {'alpha': 65.0},\n",
       "  {'alpha': 66.0},\n",
       "  {'alpha': 67.0},\n",
       "  {'alpha': 68.0},\n",
       "  {'alpha': 69.0},\n",
       "  {'alpha': 70.0},\n",
       "  {'alpha': 71.0},\n",
       "  {'alpha': 72.0},\n",
       "  {'alpha': 73.0},\n",
       "  {'alpha': 74.0},\n",
       "  {'alpha': 75.0},\n",
       "  {'alpha': 76.0},\n",
       "  {'alpha': 77.0},\n",
       "  {'alpha': 78.0},\n",
       "  {'alpha': 79.0},\n",
       "  {'alpha': 80.0},\n",
       "  {'alpha': 81.0},\n",
       "  {'alpha': 82.0},\n",
       "  {'alpha': 83.0},\n",
       "  {'alpha': 84.0},\n",
       "  {'alpha': 85.0},\n",
       "  {'alpha': 86.0},\n",
       "  {'alpha': 87.0},\n",
       "  {'alpha': 88.0},\n",
       "  {'alpha': 89.0},\n",
       "  {'alpha': 90.0},\n",
       "  {'alpha': 91.0},\n",
       "  {'alpha': 92.0},\n",
       "  {'alpha': 93.0},\n",
       "  {'alpha': 94.0},\n",
       "  {'alpha': 95.0},\n",
       "  {'alpha': 96.0},\n",
       "  {'alpha': 97.0},\n",
       "  {'alpha': 98.0},\n",
       "  {'alpha': 99.0},\n",
       "  {'alpha': 100.0}],\n",
       " 'split0_test_score': array([-1.6, -1.6, -1.6, -1.6, -1.6, -1.6, -1.6, -1.6, -1.6, -1.6, -1.6,\n",
       "        -1.6, -1.6, -1.6, -1.6, -1.6, -1.6, -1.6, -1.6, -1.6, -1.6, -1.6,\n",
       "        -1.6, -1.6, -1.6, -1.6, -1.6, -1.6, -1.6, -1.6, -1.6, -1.6, -1.6,\n",
       "        -1.6, -1.6, -1.6, -1.6, -1.6, -1.6, -1.6, -1.6, -1.6, -1.6, -1.6,\n",
       "        -1.6, -1.6, -1.6, -1.6, -1.6, -1.6, -1.6, -1.6, -1.6, -1.6, -1.6,\n",
       "        -1.6, -1.6, -1.6, -1.6, -1.6, -1.6, -1.6, -1.6, -1.6, -1.6, -1.6,\n",
       "        -1.6, -1.6, -1.6, -1.6, -1.6, -1.6, -1.6, -1.6, -1.6, -1.6, -1.6,\n",
       "        -1.6, -1.6, -1.6, -1.6, -1.6, -1.6, -1.6, -1.6, -1.6, -1.6, -1.6,\n",
       "        -1.6, -1.6, -1.6, -1.6, -1.6, -1.6, -1.6, -1.6, -1.6, -1.6, -1.6,\n",
       "        -1.6]),\n",
       " 'split1_test_score': array([-1.6 , -1.59, -1.59, -1.59, -1.59, -1.58, -1.58, -1.58, -1.58,\n",
       "        -1.58, -1.58, -1.57, -1.57, -1.57, -1.57, -1.57, -1.57, -1.57,\n",
       "        -1.57, -1.57, -1.57, -1.56, -1.56, -1.56, -1.56, -1.56, -1.56,\n",
       "        -1.56, -1.56, -1.56, -1.56, -1.56, -1.56, -1.56, -1.56, -1.56,\n",
       "        -1.56, -1.56, -1.55, -1.55, -1.55, -1.55, -1.55, -1.55, -1.55,\n",
       "        -1.55, -1.55, -1.55, -1.55, -1.55, -1.55, -1.55, -1.55, -1.55,\n",
       "        -1.55, -1.55, -1.55, -1.55, -1.55, -1.55, -1.55, -1.55, -1.55,\n",
       "        -1.55, -1.55, -1.55, -1.55, -1.55, -1.55, -1.55, -1.55, -1.55,\n",
       "        -1.55, -1.54, -1.54, -1.54, -1.54, -1.54, -1.54, -1.54, -1.54,\n",
       "        -1.54, -1.54, -1.54, -1.54, -1.54, -1.54, -1.54, -1.54, -1.54,\n",
       "        -1.54, -1.54, -1.54, -1.54, -1.54, -1.54, -1.54, -1.54, -1.54,\n",
       "        -1.54]),\n",
       " 'split2_test_score': array([-1.8 , -1.8 , -1.8 , -1.79, -1.79, -1.79, -1.79, -1.79, -1.79,\n",
       "        -1.79, -1.79, -1.79, -1.79, -1.79, -1.79, -1.79, -1.79, -1.79,\n",
       "        -1.79, -1.79, -1.79, -1.79, -1.79, -1.79, -1.79, -1.79, -1.79,\n",
       "        -1.79, -1.79, -1.79, -1.79, -1.79, -1.79, -1.79, -1.79, -1.79,\n",
       "        -1.79, -1.79, -1.79, -1.79, -1.79, -1.79, -1.79, -1.79, -1.79,\n",
       "        -1.79, -1.79, -1.79, -1.79, -1.79, -1.79, -1.79, -1.79, -1.79,\n",
       "        -1.79, -1.79, -1.79, -1.79, -1.79, -1.79, -1.79, -1.79, -1.79,\n",
       "        -1.79, -1.79, -1.79, -1.79, -1.79, -1.79, -1.79, -1.79, -1.79,\n",
       "        -1.79, -1.79, -1.79, -1.79, -1.79, -1.79, -1.79, -1.79, -1.79,\n",
       "        -1.79, -1.79, -1.79, -1.79, -1.79, -1.79, -1.79, -1.79, -1.79,\n",
       "        -1.79, -1.79, -1.79, -1.79, -1.79, -1.79, -1.79, -1.79, -1.79,\n",
       "        -1.79]),\n",
       " 'split3_test_score': array([-1.68, -1.68, -1.68, -1.68, -1.68, -1.68, -1.68, -1.68, -1.68,\n",
       "        -1.68, -1.68, -1.68, -1.68, -1.68, -1.68, -1.68, -1.68, -1.68,\n",
       "        -1.68, -1.68, -1.68, -1.68, -1.68, -1.68, -1.68, -1.68, -1.68,\n",
       "        -1.68, -1.68, -1.68, -1.68, -1.68, -1.68, -1.68, -1.68, -1.68,\n",
       "        -1.68, -1.68, -1.68, -1.68, -1.68, -1.68, -1.68, -1.68, -1.68,\n",
       "        -1.68, -1.68, -1.68, -1.68, -1.68, -1.68, -1.68, -1.68, -1.68,\n",
       "        -1.68, -1.68, -1.68, -1.68, -1.68, -1.68, -1.68, -1.68, -1.68,\n",
       "        -1.68, -1.68, -1.68, -1.68, -1.68, -1.68, -1.68, -1.68, -1.69,\n",
       "        -1.69, -1.69, -1.69, -1.69, -1.69, -1.69, -1.69, -1.69, -1.69,\n",
       "        -1.69, -1.69, -1.69, -1.69, -1.69, -1.69, -1.69, -1.69, -1.69,\n",
       "        -1.69, -1.69, -1.69, -1.69, -1.69, -1.69, -1.69, -1.69, -1.69,\n",
       "        -1.69]),\n",
       " 'split4_test_score': array([-1.5 , -1.5 , -1.5 , -1.5 , -1.5 , -1.5 , -1.5 , -1.5 , -1.5 ,\n",
       "        -1.5 , -1.5 , -1.5 , -1.5 , -1.5 , -1.5 , -1.5 , -1.5 , -1.5 ,\n",
       "        -1.5 , -1.5 , -1.5 , -1.5 , -1.5 , -1.5 , -1.5 , -1.5 , -1.5 ,\n",
       "        -1.5 , -1.5 , -1.5 , -1.5 , -1.5 , -1.5 , -1.5 , -1.5 , -1.5 ,\n",
       "        -1.5 , -1.5 , -1.5 , -1.5 , -1.5 , -1.5 , -1.5 , -1.5 , -1.5 ,\n",
       "        -1.5 , -1.5 , -1.5 , -1.5 , -1.5 , -1.5 , -1.5 , -1.5 , -1.5 ,\n",
       "        -1.5 , -1.5 , -1.5 , -1.5 , -1.5 , -1.5 , -1.5 , -1.5 , -1.5 ,\n",
       "        -1.5 , -1.5 , -1.5 , -1.5 , -1.5 , -1.5 , -1.5 , -1.5 , -1.5 ,\n",
       "        -1.5 , -1.5 , -1.5 , -1.5 , -1.5 , -1.5 , -1.5 , -1.5 , -1.5 ,\n",
       "        -1.5 , -1.5 , -1.5 , -1.5 , -1.5 , -1.5 , -1.5 , -1.5 , -1.5 ,\n",
       "        -1.5 , -1.5 , -1.5 , -1.5 , -1.5 , -1.5 , -1.51, -1.51, -1.51,\n",
       "        -1.51]),\n",
       " 'split5_test_score': array([-1.55, -1.55, -1.55, -1.55, -1.55, -1.55, -1.55, -1.54, -1.54,\n",
       "        -1.54, -1.54, -1.54, -1.54, -1.54, -1.54, -1.54, -1.54, -1.54,\n",
       "        -1.54, -1.54, -1.54, -1.54, -1.54, -1.53, -1.53, -1.53, -1.53,\n",
       "        -1.53, -1.53, -1.53, -1.53, -1.53, -1.53, -1.53, -1.53, -1.53,\n",
       "        -1.53, -1.53, -1.53, -1.53, -1.53, -1.53, -1.53, -1.53, -1.53,\n",
       "        -1.53, -1.53, -1.53, -1.53, -1.53, -1.53, -1.53, -1.53, -1.53,\n",
       "        -1.53, -1.53, -1.53, -1.53, -1.53, -1.53, -1.53, -1.53, -1.53,\n",
       "        -1.53, -1.53, -1.53, -1.53, -1.53, -1.53, -1.53, -1.53, -1.53,\n",
       "        -1.53, -1.53, -1.53, -1.53, -1.53, -1.53, -1.53, -1.53, -1.53,\n",
       "        -1.53, -1.53, -1.53, -1.53, -1.53, -1.53, -1.53, -1.53, -1.53,\n",
       "        -1.53, -1.53, -1.53, -1.54, -1.54, -1.54, -1.54, -1.54, -1.54,\n",
       "        -1.54]),\n",
       " 'split6_test_score': array([-1.6 , -1.59, -1.59, -1.59, -1.59, -1.59, -1.59, -1.59, -1.59,\n",
       "        -1.59, -1.59, -1.59, -1.59, -1.59, -1.59, -1.59, -1.59, -1.59,\n",
       "        -1.59, -1.59, -1.58, -1.58, -1.58, -1.58, -1.58, -1.58, -1.58,\n",
       "        -1.58, -1.58, -1.58, -1.58, -1.58, -1.58, -1.58, -1.58, -1.58,\n",
       "        -1.58, -1.58, -1.58, -1.58, -1.58, -1.58, -1.58, -1.58, -1.58,\n",
       "        -1.58, -1.58, -1.58, -1.58, -1.58, -1.58, -1.58, -1.58, -1.58,\n",
       "        -1.58, -1.58, -1.58, -1.58, -1.58, -1.58, -1.58, -1.58, -1.58,\n",
       "        -1.58, -1.58, -1.58, -1.58, -1.58, -1.58, -1.58, -1.58, -1.58,\n",
       "        -1.58, -1.58, -1.58, -1.58, -1.58, -1.58, -1.58, -1.58, -1.58,\n",
       "        -1.58, -1.58, -1.58, -1.58, -1.58, -1.58, -1.58, -1.58, -1.58,\n",
       "        -1.58, -1.58, -1.58, -1.58, -1.58, -1.58, -1.58, -1.58, -1.58,\n",
       "        -1.58]),\n",
       " 'split7_test_score': array([-1.46, -1.46, -1.46, -1.46, -1.46, -1.46, -1.46, -1.46, -1.46,\n",
       "        -1.46, -1.46, -1.46, -1.46, -1.46, -1.46, -1.46, -1.46, -1.46,\n",
       "        -1.46, -1.46, -1.46, -1.46, -1.46, -1.46, -1.46, -1.46, -1.46,\n",
       "        -1.46, -1.46, -1.46, -1.46, -1.46, -1.46, -1.46, -1.46, -1.46,\n",
       "        -1.46, -1.46, -1.46, -1.46, -1.46, -1.46, -1.46, -1.46, -1.46,\n",
       "        -1.46, -1.46, -1.46, -1.46, -1.46, -1.46, -1.46, -1.46, -1.46,\n",
       "        -1.46, -1.46, -1.46, -1.46, -1.46, -1.46, -1.46, -1.46, -1.46,\n",
       "        -1.46, -1.46, -1.46, -1.46, -1.46, -1.46, -1.46, -1.46, -1.46,\n",
       "        -1.46, -1.46, -1.46, -1.46, -1.46, -1.46, -1.46, -1.46, -1.46,\n",
       "        -1.46, -1.46, -1.46, -1.47, -1.47, -1.47, -1.47, -1.47, -1.47,\n",
       "        -1.47, -1.47, -1.47, -1.47, -1.47, -1.47, -1.47, -1.47, -1.47,\n",
       "        -1.47]),\n",
       " 'split8_test_score': array([-1.53, -1.53, -1.53, -1.53, -1.53, -1.53, -1.53, -1.53, -1.53,\n",
       "        -1.53, -1.53, -1.53, -1.53, -1.53, -1.53, -1.53, -1.53, -1.53,\n",
       "        -1.53, -1.53, -1.53, -1.53, -1.53, -1.53, -1.53, -1.53, -1.53,\n",
       "        -1.53, -1.53, -1.53, -1.53, -1.53, -1.53, -1.53, -1.53, -1.53,\n",
       "        -1.53, -1.53, -1.53, -1.53, -1.53, -1.53, -1.53, -1.53, -1.53,\n",
       "        -1.53, -1.53, -1.53, -1.53, -1.53, -1.53, -1.53, -1.53, -1.53,\n",
       "        -1.53, -1.53, -1.53, -1.53, -1.53, -1.53, -1.53, -1.53, -1.53,\n",
       "        -1.53, -1.54, -1.54, -1.54, -1.54, -1.54, -1.54, -1.54, -1.54,\n",
       "        -1.54, -1.54, -1.54, -1.54, -1.54, -1.54, -1.54, -1.54, -1.54,\n",
       "        -1.54, -1.54, -1.54, -1.54, -1.54, -1.54, -1.54, -1.54, -1.54,\n",
       "        -1.54, -1.54, -1.54, -1.54, -1.54, -1.54, -1.54, -1.54, -1.54,\n",
       "        -1.54]),\n",
       " 'split9_test_score': array([-1.55, -1.55, -1.55, -1.55, -1.55, -1.55, -1.55, -1.55, -1.55,\n",
       "        -1.55, -1.55, -1.55, -1.54, -1.54, -1.54, -1.54, -1.54, -1.54,\n",
       "        -1.54, -1.54, -1.54, -1.54, -1.54, -1.54, -1.54, -1.54, -1.54,\n",
       "        -1.54, -1.54, -1.54, -1.54, -1.54, -1.54, -1.54, -1.54, -1.54,\n",
       "        -1.54, -1.54, -1.54, -1.54, -1.54, -1.54, -1.54, -1.54, -1.54,\n",
       "        -1.54, -1.54, -1.54, -1.54, -1.54, -1.54, -1.54, -1.54, -1.54,\n",
       "        -1.54, -1.54, -1.54, -1.54, -1.54, -1.54, -1.54, -1.54, -1.54,\n",
       "        -1.54, -1.54, -1.54, -1.54, -1.54, -1.54, -1.54, -1.54, -1.54,\n",
       "        -1.54, -1.54, -1.54, -1.54, -1.54, -1.54, -1.54, -1.54, -1.54,\n",
       "        -1.54, -1.54, -1.54, -1.54, -1.54, -1.54, -1.54, -1.54, -1.54,\n",
       "        -1.54, -1.54, -1.54, -1.54, -1.54, -1.54, -1.54, -1.54, -1.54,\n",
       "        -1.54]),\n",
       " 'mean_test_score': array([-1.59, -1.59, -1.59, -1.58, -1.58, -1.58, -1.58, -1.58, -1.58,\n",
       "        -1.58, -1.58, -1.58, -1.58, -1.58, -1.58, -1.58, -1.58, -1.58,\n",
       "        -1.58, -1.58, -1.58, -1.58, -1.58, -1.58, -1.58, -1.58, -1.58,\n",
       "        -1.58, -1.58, -1.58, -1.58, -1.58, -1.58, -1.58, -1.58, -1.58,\n",
       "        -1.58, -1.58, -1.58, -1.58, -1.58, -1.58, -1.58, -1.58, -1.58,\n",
       "        -1.58, -1.58, -1.58, -1.58, -1.58, -1.58, -1.58, -1.58, -1.58,\n",
       "        -1.58, -1.58, -1.58, -1.58, -1.58, -1.58, -1.58, -1.58, -1.58,\n",
       "        -1.58, -1.58, -1.58, -1.58, -1.58, -1.58, -1.58, -1.58, -1.58,\n",
       "        -1.58, -1.58, -1.58, -1.58, -1.58, -1.58, -1.58, -1.58, -1.58,\n",
       "        -1.58, -1.58, -1.58, -1.58, -1.58, -1.58, -1.58, -1.58, -1.58,\n",
       "        -1.58, -1.58, -1.58, -1.58, -1.58, -1.58, -1.58, -1.58, -1.58,\n",
       "        -1.58]),\n",
       " 'std_test_score': array([0.09, 0.09, 0.09, 0.09, 0.09, 0.09, 0.09, 0.09, 0.09, 0.09, 0.09,\n",
       "        0.09, 0.09, 0.09, 0.09, 0.09, 0.09, 0.09, 0.09, 0.09, 0.09, 0.09,\n",
       "        0.09, 0.09, 0.09, 0.09, 0.09, 0.09, 0.09, 0.09, 0.09, 0.09, 0.09,\n",
       "        0.09, 0.09, 0.09, 0.09, 0.09, 0.09, 0.09, 0.09, 0.09, 0.09, 0.09,\n",
       "        0.09, 0.09, 0.09, 0.09, 0.09, 0.09, 0.09, 0.09, 0.09, 0.09, 0.09,\n",
       "        0.09, 0.09, 0.09, 0.09, 0.09, 0.09, 0.09, 0.09, 0.09, 0.09, 0.09,\n",
       "        0.09, 0.09, 0.09, 0.09, 0.09, 0.09, 0.09, 0.09, 0.09, 0.09, 0.09,\n",
       "        0.09, 0.09, 0.09, 0.09, 0.09, 0.09, 0.09, 0.09, 0.09, 0.09, 0.09,\n",
       "        0.09, 0.09, 0.09, 0.09, 0.09, 0.09, 0.09, 0.09, 0.09, 0.09, 0.09,\n",
       "        0.09]),\n",
       " 'rank_test_score': array([100,  99,  98,  97,  96,  95,  94,  93,  92,  91,  90,  89,  86,\n",
       "         82,  79,  76,  73,  69,  66,  64,  61,  58,  55,  53,  50,  48,\n",
       "         45,  42,  40,  37,  35,  33,  31,  29,  27,  24,  22,  19,  17,\n",
       "         15,  12,  10,   8,   6,   3,   1,   2,   4,   5,   7,   9,  11,\n",
       "         13,  14,  16,  18,  20,  21,  23,  25,  26,  28,  30,  32,  34,\n",
       "         36,  38,  39,  41,  43,  44,  46,  47,  49,  51,  52,  54,  56,\n",
       "         57,  59,  60,  62,  63,  65,  67,  68,  70,  71,  72,  74,  75,\n",
       "         77,  78,  80,  81,  83,  84,  85,  87,  88])}"
      ]
     },
     "execution_count": 39,
     "metadata": {},
     "output_type": "execute_result"
    }
   ],
   "source": [
    "grid_search.cv_results_"
   ]
  },
  {
   "cell_type": "markdown",
   "metadata": {},
   "source": [
    " if you want you can now fit a ridge regression model with obtained value of alpha , although there is no need, grid search automatically fits the best estimator on the entire data, you can directly use this to make predictions on test_data. But if you want to look at coefficients ,\n",
    "  its much more convenient to fit the model with direct function"
   ]
  },
  {
   "cell_type": "markdown",
   "metadata": {},
   "source": [
    "Using the report function given below you can see the cv performance of top few models as well, that will the tentative performance"
   ]
  },
  {
   "cell_type": "code",
   "execution_count": 40,
   "metadata": {},
   "outputs": [],
   "source": [
    "def report(results, n_top=3):\n",
    "    for i in range(1, n_top + 1):\n",
    "        candidates = np.flatnonzero(results['rank_test_score'] == i)\n",
    "        for candidate in candidates:\n",
    "            print(\"Model with rank: {0}\".format(i))\n",
    "            print(\"Mean validation score: {0:.6f} (std: {1:.6f})\".format(\n",
    "                  results['mean_test_score'][candidate],\n",
    "                  results['std_test_score'][candidate]))\n",
    "            print(\"Parameters: {0}\".format(results['params'][candidate]))\n",
    "            print(\"\")"
   ]
  },
  {
   "cell_type": "code",
   "execution_count": 41,
   "metadata": {},
   "outputs": [
    {
     "name": "stdout",
     "output_type": "stream",
     "text": [
      "Model with rank: 1\n",
      "Mean validation score: -1.576306 (std: 0.091083)\n",
      "Parameters: {'alpha': 46.0}\n",
      "\n",
      "Model with rank: 2\n",
      "Mean validation score: -1.576306 (std: 0.091074)\n",
      "Parameters: {'alpha': 47.0}\n",
      "\n",
      "Model with rank: 3\n",
      "Mean validation score: -1.576307 (std: 0.091091)\n",
      "Parameters: {'alpha': 45.0}\n",
      "\n",
      "Model with rank: 4\n",
      "Mean validation score: -1.576308 (std: 0.091065)\n",
      "Parameters: {'alpha': 48.0}\n",
      "\n",
      "Model with rank: 5\n",
      "Mean validation score: -1.576315 (std: 0.091054)\n",
      "Parameters: {'alpha': 49.0}\n",
      "\n"
     ]
    }
   ],
   "source": [
    "report(grid_search.cv_results_,5)"
   ]
  },
  {
   "cell_type": "code",
   "execution_count": 42,
   "metadata": {},
   "outputs": [
    {
     "data": {
      "text/html": [
       "<style>#sk-container-id-4 {color: black;background-color: white;}#sk-container-id-4 pre{padding: 0;}#sk-container-id-4 div.sk-toggleable {background-color: white;}#sk-container-id-4 label.sk-toggleable__label {cursor: pointer;display: block;width: 100%;margin-bottom: 0;padding: 0.3em;box-sizing: border-box;text-align: center;}#sk-container-id-4 label.sk-toggleable__label-arrow:before {content: \"▸\";float: left;margin-right: 0.25em;color: #696969;}#sk-container-id-4 label.sk-toggleable__label-arrow:hover:before {color: black;}#sk-container-id-4 div.sk-estimator:hover label.sk-toggleable__label-arrow:before {color: black;}#sk-container-id-4 div.sk-toggleable__content {max-height: 0;max-width: 0;overflow: hidden;text-align: left;background-color: #f0f8ff;}#sk-container-id-4 div.sk-toggleable__content pre {margin: 0.2em;color: black;border-radius: 0.25em;background-color: #f0f8ff;}#sk-container-id-4 input.sk-toggleable__control:checked~div.sk-toggleable__content {max-height: 200px;max-width: 100%;overflow: auto;}#sk-container-id-4 input.sk-toggleable__control:checked~label.sk-toggleable__label-arrow:before {content: \"▾\";}#sk-container-id-4 div.sk-estimator input.sk-toggleable__control:checked~label.sk-toggleable__label {background-color: #d4ebff;}#sk-container-id-4 div.sk-label input.sk-toggleable__control:checked~label.sk-toggleable__label {background-color: #d4ebff;}#sk-container-id-4 input.sk-hidden--visually {border: 0;clip: rect(1px 1px 1px 1px);clip: rect(1px, 1px, 1px, 1px);height: 1px;margin: -1px;overflow: hidden;padding: 0;position: absolute;width: 1px;}#sk-container-id-4 div.sk-estimator {font-family: monospace;background-color: #f0f8ff;border: 1px dotted black;border-radius: 0.25em;box-sizing: border-box;margin-bottom: 0.5em;}#sk-container-id-4 div.sk-estimator:hover {background-color: #d4ebff;}#sk-container-id-4 div.sk-parallel-item::after {content: \"\";width: 100%;border-bottom: 1px solid gray;flex-grow: 1;}#sk-container-id-4 div.sk-label:hover label.sk-toggleable__label {background-color: #d4ebff;}#sk-container-id-4 div.sk-serial::before {content: \"\";position: absolute;border-left: 1px solid gray;box-sizing: border-box;top: 0;bottom: 0;left: 50%;z-index: 0;}#sk-container-id-4 div.sk-serial {display: flex;flex-direction: column;align-items: center;background-color: white;padding-right: 0.2em;padding-left: 0.2em;position: relative;}#sk-container-id-4 div.sk-item {position: relative;z-index: 1;}#sk-container-id-4 div.sk-parallel {display: flex;align-items: stretch;justify-content: center;background-color: white;position: relative;}#sk-container-id-4 div.sk-item::before, #sk-container-id-4 div.sk-parallel-item::before {content: \"\";position: absolute;border-left: 1px solid gray;box-sizing: border-box;top: 0;bottom: 0;left: 50%;z-index: -1;}#sk-container-id-4 div.sk-parallel-item {display: flex;flex-direction: column;z-index: 1;position: relative;background-color: white;}#sk-container-id-4 div.sk-parallel-item:first-child::after {align-self: flex-end;width: 50%;}#sk-container-id-4 div.sk-parallel-item:last-child::after {align-self: flex-start;width: 50%;}#sk-container-id-4 div.sk-parallel-item:only-child::after {width: 0;}#sk-container-id-4 div.sk-dashed-wrapped {border: 1px dashed gray;margin: 0 0.4em 0.5em 0.4em;box-sizing: border-box;padding-bottom: 0.4em;background-color: white;}#sk-container-id-4 div.sk-label label {font-family: monospace;font-weight: bold;display: inline-block;line-height: 1.2em;}#sk-container-id-4 div.sk-label-container {text-align: center;}#sk-container-id-4 div.sk-container {/* jupyter's `normalize.less` sets `[hidden] { display: none; }` but bootstrap.min.css set `[hidden] { display: none !important; }` so we also need the `!important` here to be able to override the default hidden behavior on the sphinx rendered scikit-learn.org. See: https://github.com/scikit-learn/scikit-learn/issues/21755 */display: inline-block !important;position: relative;}#sk-container-id-4 div.sk-text-repr-fallback {display: none;}</style><div id=\"sk-container-id-4\" class=\"sk-top-container\"><div class=\"sk-text-repr-fallback\"><pre>Ridge(alpha=46.0)</pre><b>In a Jupyter environment, please rerun this cell to show the HTML representation or trust the notebook. <br />On GitHub, the HTML representation is unable to render, please try loading this page with nbviewer.org.</b></div><div class=\"sk-container\" hidden><div class=\"sk-item\"><div class=\"sk-estimator sk-toggleable\"><input class=\"sk-toggleable__control sk-hidden--visually\" id=\"sk-estimator-id-6\" type=\"checkbox\" checked><label for=\"sk-estimator-id-6\" class=\"sk-toggleable__label sk-toggleable__label-arrow\">Ridge</label><div class=\"sk-toggleable__content\"><pre>Ridge(alpha=46.0)</pre></div></div></div></div></div>"
      ],
      "text/plain": [
       "Ridge(alpha=46.0)"
      ]
     },
     "execution_count": 42,
     "metadata": {},
     "output_type": "execute_result"
    }
   ],
   "source": [
    "grid_search.best_estimator_"
   ]
  },
  {
   "cell_type": "code",
   "execution_count": 43,
   "metadata": {},
   "outputs": [],
   "source": [
    "ridge_model=grid_search.best_estimator_"
   ]
  },
  {
   "cell_type": "code",
   "execution_count": 44,
   "metadata": {},
   "outputs": [
    {
     "data": {
      "text/html": [
       "<style>#sk-container-id-5 {color: black;background-color: white;}#sk-container-id-5 pre{padding: 0;}#sk-container-id-5 div.sk-toggleable {background-color: white;}#sk-container-id-5 label.sk-toggleable__label {cursor: pointer;display: block;width: 100%;margin-bottom: 0;padding: 0.3em;box-sizing: border-box;text-align: center;}#sk-container-id-5 label.sk-toggleable__label-arrow:before {content: \"▸\";float: left;margin-right: 0.25em;color: #696969;}#sk-container-id-5 label.sk-toggleable__label-arrow:hover:before {color: black;}#sk-container-id-5 div.sk-estimator:hover label.sk-toggleable__label-arrow:before {color: black;}#sk-container-id-5 div.sk-toggleable__content {max-height: 0;max-width: 0;overflow: hidden;text-align: left;background-color: #f0f8ff;}#sk-container-id-5 div.sk-toggleable__content pre {margin: 0.2em;color: black;border-radius: 0.25em;background-color: #f0f8ff;}#sk-container-id-5 input.sk-toggleable__control:checked~div.sk-toggleable__content {max-height: 200px;max-width: 100%;overflow: auto;}#sk-container-id-5 input.sk-toggleable__control:checked~label.sk-toggleable__label-arrow:before {content: \"▾\";}#sk-container-id-5 div.sk-estimator input.sk-toggleable__control:checked~label.sk-toggleable__label {background-color: #d4ebff;}#sk-container-id-5 div.sk-label input.sk-toggleable__control:checked~label.sk-toggleable__label {background-color: #d4ebff;}#sk-container-id-5 input.sk-hidden--visually {border: 0;clip: rect(1px 1px 1px 1px);clip: rect(1px, 1px, 1px, 1px);height: 1px;margin: -1px;overflow: hidden;padding: 0;position: absolute;width: 1px;}#sk-container-id-5 div.sk-estimator {font-family: monospace;background-color: #f0f8ff;border: 1px dotted black;border-radius: 0.25em;box-sizing: border-box;margin-bottom: 0.5em;}#sk-container-id-5 div.sk-estimator:hover {background-color: #d4ebff;}#sk-container-id-5 div.sk-parallel-item::after {content: \"\";width: 100%;border-bottom: 1px solid gray;flex-grow: 1;}#sk-container-id-5 div.sk-label:hover label.sk-toggleable__label {background-color: #d4ebff;}#sk-container-id-5 div.sk-serial::before {content: \"\";position: absolute;border-left: 1px solid gray;box-sizing: border-box;top: 0;bottom: 0;left: 50%;z-index: 0;}#sk-container-id-5 div.sk-serial {display: flex;flex-direction: column;align-items: center;background-color: white;padding-right: 0.2em;padding-left: 0.2em;position: relative;}#sk-container-id-5 div.sk-item {position: relative;z-index: 1;}#sk-container-id-5 div.sk-parallel {display: flex;align-items: stretch;justify-content: center;background-color: white;position: relative;}#sk-container-id-5 div.sk-item::before, #sk-container-id-5 div.sk-parallel-item::before {content: \"\";position: absolute;border-left: 1px solid gray;box-sizing: border-box;top: 0;bottom: 0;left: 50%;z-index: -1;}#sk-container-id-5 div.sk-parallel-item {display: flex;flex-direction: column;z-index: 1;position: relative;background-color: white;}#sk-container-id-5 div.sk-parallel-item:first-child::after {align-self: flex-end;width: 50%;}#sk-container-id-5 div.sk-parallel-item:last-child::after {align-self: flex-start;width: 50%;}#sk-container-id-5 div.sk-parallel-item:only-child::after {width: 0;}#sk-container-id-5 div.sk-dashed-wrapped {border: 1px dashed gray;margin: 0 0.4em 0.5em 0.4em;box-sizing: border-box;padding-bottom: 0.4em;background-color: white;}#sk-container-id-5 div.sk-label label {font-family: monospace;font-weight: bold;display: inline-block;line-height: 1.2em;}#sk-container-id-5 div.sk-label-container {text-align: center;}#sk-container-id-5 div.sk-container {/* jupyter's `normalize.less` sets `[hidden] { display: none; }` but bootstrap.min.css set `[hidden] { display: none !important; }` so we also need the `!important` here to be able to override the default hidden behavior on the sphinx rendered scikit-learn.org. See: https://github.com/scikit-learn/scikit-learn/issues/21755 */display: inline-block !important;position: relative;}#sk-container-id-5 div.sk-text-repr-fallback {display: none;}</style><div id=\"sk-container-id-5\" class=\"sk-top-container\"><div class=\"sk-text-repr-fallback\"><pre>Ridge(alpha=46.0)</pre><b>In a Jupyter environment, please rerun this cell to show the HTML representation or trust the notebook. <br />On GitHub, the HTML representation is unable to render, please try loading this page with nbviewer.org.</b></div><div class=\"sk-container\" hidden><div class=\"sk-item\"><div class=\"sk-estimator sk-toggleable\"><input class=\"sk-toggleable__control sk-hidden--visually\" id=\"sk-estimator-id-7\" type=\"checkbox\" checked><label for=\"sk-estimator-id-7\" class=\"sk-toggleable__label sk-toggleable__label-arrow\">Ridge</label><div class=\"sk-toggleable__content\"><pre>Ridge(alpha=46.0)</pre></div></div></div></div></div>"
      ],
      "text/plain": [
       "Ridge(alpha=46.0)"
      ]
     },
     "execution_count": 44,
     "metadata": {},
     "output_type": "execute_result"
    }
   ],
   "source": [
    "ridge_model.fit(x_train,y_train)"
   ]
  },
  {
   "cell_type": "code",
   "execution_count": 45,
   "metadata": {},
   "outputs": [
    {
     "name": "stdout",
     "output_type": "stream",
     "text": [
      "Fitting Score for Ridge 0.7682404791797869\n"
     ]
    }
   ],
   "source": [
    "print( \"Fitting Score for Ridge\", ridge_model.score(x_train,y_train))"
   ]
  },
  {
   "cell_type": "code",
   "execution_count": 46,
   "metadata": {},
   "outputs": [
    {
     "name": "stderr",
     "output_type": "stream",
     "text": [
      "c:\\ProgramData\\Anaconda_3\\envs\\myenv\\lib\\site-packages\\sklearn\\utils\\deprecation.py:87: FutureWarning: Function get_feature_names is deprecated; get_feature_names is deprecated in 1.0 and will be removed in 1.2. Please use get_feature_names_out instead.\n",
      "  warnings.warn(msg, category=FutureWarning)\n"
     ]
    },
    {
     "data": {
      "text/plain": [
       "[('obj_to_num__Amount.Requested', 0.0001668564181247607),\n",
       " ('obj_to_num__Open.CREDIT.Lines', -0.04559435255594117),\n",
       " ('obj_to_num__Revolving.CREDIT.Balance', -1.3382442706790615e-06),\n",
       " ('dtir__Debt.To.Income.Ratio', -0.0008823507117937254),\n",
       " ('obj_to_dum__Loan.Length_36 months', -1.4343418345009418),\n",
       " ('obj_to_dum__Loan.Length_60 months', 1.4666953385271964),\n",
       " ('obj_to_dum__Loan.Purpose_debt_consolidation', -0.23675715267267214),\n",
       " ('obj_to_dum__Loan.Purpose_credit_card', -0.37923655720184146),\n",
       " ('obj_to_dum__Loan.Purpose_other', 0.4233904834134444),\n",
       " ('obj_to_dum__Loan.Purpose_home_improvement', -0.272307572061432),\n",
       " ('obj_to_dum__Loan.Purpose_major_purchase', 0.05062242422752886),\n",
       " ('obj_to_dum__Loan.Purpose_small_business', 0.2261899413589224),\n",
       " ('obj_to_dum__Loan.Purpose_car', -0.02344320280410535),\n",
       " ('obj_to_dum__Loan.Purpose_wedding', -0.21271516014706407),\n",
       " ('obj_to_dum__Loan.Purpose_medical', -0.11953724744423967),\n",
       " ('obj_to_dum__Loan.Purpose_moving', 0.3173606029775291),\n",
       " ('obj_to_dum__State_CA', -0.0824459719827423),\n",
       " ('obj_to_dum__State_NY', -0.0428914485319714),\n",
       " ('obj_to_dum__State_TX', 0.37772310412954013),\n",
       " ('obj_to_dum__State_FL', 0.01104049730571466),\n",
       " ('obj_to_dum__State_IL', -0.3183889997475085),\n",
       " ('obj_to_dum__State_GA', -0.042271281685541916),\n",
       " ('obj_to_dum__State_PA', -0.4118286363784716),\n",
       " ('obj_to_dum__State_NJ', -0.2772358943476926),\n",
       " ('obj_to_dum__State_VA', -0.11592163491850205),\n",
       " ('obj_to_dum__State_MA', -0.05473739092794797),\n",
       " ('obj_to_dum__State_OH', 0.07272660272177792),\n",
       " ('obj_to_dum__State_MD', -0.014447181203215219),\n",
       " ('obj_to_dum__State_NC', -0.0931238393071591),\n",
       " ('obj_to_dum__State_WA', -0.07857171665096226),\n",
       " ('obj_to_dum__State_CT', 0.17412801862071625),\n",
       " ('obj_to_dum__State_CO', -0.0012746740423181357),\n",
       " ('obj_to_dum__State_MI', 0.005680984730142846),\n",
       " ('obj_to_dum__State_AZ', 0.18204572697925062),\n",
       " ('obj_to_dum__State_MN', 0.03087047935718353),\n",
       " ('obj_to_dum__State_MO', -0.1254583984253298),\n",
       " ('obj_to_dum__State_AL', 0.10835693275757675),\n",
       " ('obj_to_dum__State_NV', 0.05946791514047998),\n",
       " ('obj_to_dum__State_OR', 0.0747778145936245),\n",
       " ('obj_to_dum__State_WI', 0.03672805989003603),\n",
       " ('obj_to_dum__Home.Ownership_RENT', 0.019060949878990298),\n",
       " ('obj_to_dum__Home.Ownership_MORTGAGE', -0.21671944098045876),\n",
       " ('obj_to_dum__Home.Ownership_OWN', 0.041898062735550815),\n",
       " ('obj_to_dum__Employment.Length_10+ years', 0.09287402382393431),\n",
       " ('obj_to_dum__Employment.Length_< 1 year', 0.002224018692078389),\n",
       " ('obj_to_dum__Employment.Length_2 years', -0.007358314039729171),\n",
       " ('obj_to_dum__Employment.Length_3 years', -0.10570380123390309),\n",
       " ('obj_to_dum__Employment.Length_5 years', 0.1654748237800189),\n",
       " ('obj_to_dum__Employment.Length_4 years', 0.07760736868565749),\n",
       " ('obj_to_dum__Employment.Length_1 year', -0.15445324010630704),\n",
       " ('obj_to_dum__Employment.Length_6 years', 0.15921985905546496),\n",
       " ('obj_to_dum__Employment.Length_7 years', -0.12491614913164965),\n",
       " ('obj_to_dum__Employment.Length_8 years', -0.0785363715107995),\n",
       " ('obj_to_dum__Employment.Length_missing', 0.12873329964515848),\n",
       " ('obj_to_dum__Employment.Length_9 years', -0.1745761600836063),\n",
       " ('num__Monthly.Income', -3.074612037794364e-05),\n",
       " ('num__Inquiries.in.the.Last.6.Months', 0.34901825233446454),\n",
       " ('fico__fico', -0.08659295935251818)]"
      ]
     },
     "execution_count": 46,
     "metadata": {},
     "output_type": "execute_result"
    }
   ],
   "source": [
    "list(zip(data_pipe.get_feature_names(),ridge_model.coef_))"
   ]
  },
  {
   "cell_type": "code",
   "execution_count": 47,
   "metadata": {},
   "outputs": [
    {
     "data": {
      "text/plain": [
       "array([ 9.81e-01,  9.92e-01,  8.25e-01,  5.42e-01, -4.50e-02,  2.18e+00,\n",
       "        1.97e+00,  1.65e+00,  7.94e-01,  2.19e+00, -2.02e+00,  7.10e-01,\n",
       "        1.31e+01,  3.50e+00,  5.16e+00,  2.36e+00,  2.36e+00,  4.44e+00,\n",
       "        1.15e+00, -7.73e+00,  1.82e+00,  3.48e+00,  1.83e+00,  1.94e+00,\n",
       "        2.83e+00,  3.45e+00,  5.99e-01,  1.07e+01,  2.85e+00,  3.59e+00,\n",
       "        1.62e+00,  9.29e+01, -1.48e+01,  1.72e+00,  3.09e-01,  3.35e+00,\n",
       "        1.49e+00,  4.40e-01,  1.27e+00, -1.28e-01, -7.55e+01,  7.82e+00,\n",
       "       -3.35e+01, -4.97e+00, -2.59e+02,  8.15e+01,  6.72e+00, -2.09e+00,\n",
       "       -6.04e+00,  4.86e+00, -2.37e+00,  5.59e+00,  8.82e+00, -2.39e+00,\n",
       "        4.99e+00,  9.03e-01,  9.99e-01,  9.98e-01])"
      ]
     },
     "execution_count": 47,
     "metadata": {},
     "output_type": "execute_result"
    }
   ],
   "source": [
    "lm.coef_/ridge_model.coef_"
   ]
  },
  {
   "cell_type": "code",
   "execution_count": 48,
   "metadata": {},
   "outputs": [],
   "source": [
    "test_pred_ridge=grid_search.predict(x_test)"
   ]
  },
  {
   "cell_type": "code",
   "execution_count": 49,
   "metadata": {},
   "outputs": [
    {
     "name": "stdout",
     "output_type": "stream",
     "text": [
      "Mean Absolute Error: 1.627684378115532\n",
      "Mean Squared Error: 4.525290075597343\n",
      "Root Mean Squared Error: 2.1272729198664995\n"
     ]
    }
   ],
   "source": [
    "print('Mean Absolute Error:', metrics.mean_absolute_error(y_test, test_pred_ridge))\n",
    "print('Mean Squared Error:', metrics.mean_squared_error(y_test, test_pred_ridge))\n",
    "print('Root Mean Squared Error:', np.sqrt(metrics.mean_squared_error(y_test, test_pred_ridge)))"
   ]
  },
  {
   "cell_type": "code",
   "execution_count": null,
   "metadata": {},
   "outputs": [],
   "source": []
  },
  {
   "cell_type": "code",
   "execution_count": null,
   "metadata": {},
   "outputs": [],
   "source": []
  },
  {
   "cell_type": "markdown",
   "metadata": {},
   "source": [
    "## Lasso Regression"
   ]
  },
  {
   "cell_type": "code",
   "execution_count": 50,
   "metadata": {},
   "outputs": [],
   "source": [
    "lambdas=np.linspace(1,10,100)\n",
    "\n",
    "model=Lasso(fit_intercept=True)\n",
    "\n",
    "params={'alpha':lambdas}"
   ]
  },
  {
   "cell_type": "code",
   "execution_count": 51,
   "metadata": {},
   "outputs": [],
   "source": [
    "grid_search=GridSearchCV(model,\n",
    "                         param_grid=params,\n",
    "                         cv=10,\n",
    "                         scoring='neg_mean_absolute_error',\n",
    "                        verbose=20,n_jobs=-1)"
   ]
  },
  {
   "cell_type": "code",
   "execution_count": 52,
   "metadata": {},
   "outputs": [
    {
     "name": "stdout",
     "output_type": "stream",
     "text": [
      "Fitting 10 folds for each of 100 candidates, totalling 1000 fits\n"
     ]
    },
    {
     "data": {
      "text/html": [
       "<style>#sk-container-id-6 {color: black;background-color: white;}#sk-container-id-6 pre{padding: 0;}#sk-container-id-6 div.sk-toggleable {background-color: white;}#sk-container-id-6 label.sk-toggleable__label {cursor: pointer;display: block;width: 100%;margin-bottom: 0;padding: 0.3em;box-sizing: border-box;text-align: center;}#sk-container-id-6 label.sk-toggleable__label-arrow:before {content: \"▸\";float: left;margin-right: 0.25em;color: #696969;}#sk-container-id-6 label.sk-toggleable__label-arrow:hover:before {color: black;}#sk-container-id-6 div.sk-estimator:hover label.sk-toggleable__label-arrow:before {color: black;}#sk-container-id-6 div.sk-toggleable__content {max-height: 0;max-width: 0;overflow: hidden;text-align: left;background-color: #f0f8ff;}#sk-container-id-6 div.sk-toggleable__content pre {margin: 0.2em;color: black;border-radius: 0.25em;background-color: #f0f8ff;}#sk-container-id-6 input.sk-toggleable__control:checked~div.sk-toggleable__content {max-height: 200px;max-width: 100%;overflow: auto;}#sk-container-id-6 input.sk-toggleable__control:checked~label.sk-toggleable__label-arrow:before {content: \"▾\";}#sk-container-id-6 div.sk-estimator input.sk-toggleable__control:checked~label.sk-toggleable__label {background-color: #d4ebff;}#sk-container-id-6 div.sk-label input.sk-toggleable__control:checked~label.sk-toggleable__label {background-color: #d4ebff;}#sk-container-id-6 input.sk-hidden--visually {border: 0;clip: rect(1px 1px 1px 1px);clip: rect(1px, 1px, 1px, 1px);height: 1px;margin: -1px;overflow: hidden;padding: 0;position: absolute;width: 1px;}#sk-container-id-6 div.sk-estimator {font-family: monospace;background-color: #f0f8ff;border: 1px dotted black;border-radius: 0.25em;box-sizing: border-box;margin-bottom: 0.5em;}#sk-container-id-6 div.sk-estimator:hover {background-color: #d4ebff;}#sk-container-id-6 div.sk-parallel-item::after {content: \"\";width: 100%;border-bottom: 1px solid gray;flex-grow: 1;}#sk-container-id-6 div.sk-label:hover label.sk-toggleable__label {background-color: #d4ebff;}#sk-container-id-6 div.sk-serial::before {content: \"\";position: absolute;border-left: 1px solid gray;box-sizing: border-box;top: 0;bottom: 0;left: 50%;z-index: 0;}#sk-container-id-6 div.sk-serial {display: flex;flex-direction: column;align-items: center;background-color: white;padding-right: 0.2em;padding-left: 0.2em;position: relative;}#sk-container-id-6 div.sk-item {position: relative;z-index: 1;}#sk-container-id-6 div.sk-parallel {display: flex;align-items: stretch;justify-content: center;background-color: white;position: relative;}#sk-container-id-6 div.sk-item::before, #sk-container-id-6 div.sk-parallel-item::before {content: \"\";position: absolute;border-left: 1px solid gray;box-sizing: border-box;top: 0;bottom: 0;left: 50%;z-index: -1;}#sk-container-id-6 div.sk-parallel-item {display: flex;flex-direction: column;z-index: 1;position: relative;background-color: white;}#sk-container-id-6 div.sk-parallel-item:first-child::after {align-self: flex-end;width: 50%;}#sk-container-id-6 div.sk-parallel-item:last-child::after {align-self: flex-start;width: 50%;}#sk-container-id-6 div.sk-parallel-item:only-child::after {width: 0;}#sk-container-id-6 div.sk-dashed-wrapped {border: 1px dashed gray;margin: 0 0.4em 0.5em 0.4em;box-sizing: border-box;padding-bottom: 0.4em;background-color: white;}#sk-container-id-6 div.sk-label label {font-family: monospace;font-weight: bold;display: inline-block;line-height: 1.2em;}#sk-container-id-6 div.sk-label-container {text-align: center;}#sk-container-id-6 div.sk-container {/* jupyter's `normalize.less` sets `[hidden] { display: none; }` but bootstrap.min.css set `[hidden] { display: none !important; }` so we also need the `!important` here to be able to override the default hidden behavior on the sphinx rendered scikit-learn.org. See: https://github.com/scikit-learn/scikit-learn/issues/21755 */display: inline-block !important;position: relative;}#sk-container-id-6 div.sk-text-repr-fallback {display: none;}</style><div id=\"sk-container-id-6\" class=\"sk-top-container\"><div class=\"sk-text-repr-fallback\"><pre>GridSearchCV(cv=10, estimator=Lasso(), n_jobs=-1,\n",
       "             param_grid={&#x27;alpha&#x27;: array([ 1.  ,  1.09,  1.18,  1.27,  1.36,  1.45,  1.55,  1.64,  1.73,\n",
       "        1.82,  1.91,  2.  ,  2.09,  2.18,  2.27,  2.36,  2.45,  2.55,\n",
       "        2.64,  2.73,  2.82,  2.91,  3.  ,  3.09,  3.18,  3.27,  3.36,\n",
       "        3.45,  3.55,  3.64,  3.73,  3.82,  3.91,  4.  ,  4.09,  4.18,\n",
       "        4.27,  4.36,  4.45,  4.55,  4.64,  4.73,  4.82,  4.91,  5.  ,\n",
       "        5.09,  5.18,  5.27,  5.36,  5.45,  5.55,  5.64,  5.73,  5.82,\n",
       "        5.91,  6.  ,  6.09,  6.18,  6.27,  6.36,  6.45,  6.55,  6.64,\n",
       "        6.73,  6.82,  6.91,  7.  ,  7.09,  7.18,  7.27,  7.36,  7.45,\n",
       "        7.55,  7.64,  7.73,  7.82,  7.91,  8.  ,  8.09,  8.18,  8.27,\n",
       "        8.36,  8.45,  8.55,  8.64,  8.73,  8.82,  8.91,  9.  ,  9.09,\n",
       "        9.18,  9.27,  9.36,  9.45,  9.55,  9.64,  9.73,  9.82,  9.91,\n",
       "       10.  ])},\n",
       "             scoring=&#x27;neg_mean_absolute_error&#x27;, verbose=20)</pre><b>In a Jupyter environment, please rerun this cell to show the HTML representation or trust the notebook. <br />On GitHub, the HTML representation is unable to render, please try loading this page with nbviewer.org.</b></div><div class=\"sk-container\" hidden><div class=\"sk-item sk-dashed-wrapped\"><div class=\"sk-label-container\"><div class=\"sk-label sk-toggleable\"><input class=\"sk-toggleable__control sk-hidden--visually\" id=\"sk-estimator-id-8\" type=\"checkbox\" ><label for=\"sk-estimator-id-8\" class=\"sk-toggleable__label sk-toggleable__label-arrow\">GridSearchCV</label><div class=\"sk-toggleable__content\"><pre>GridSearchCV(cv=10, estimator=Lasso(), n_jobs=-1,\n",
       "             param_grid={&#x27;alpha&#x27;: array([ 1.  ,  1.09,  1.18,  1.27,  1.36,  1.45,  1.55,  1.64,  1.73,\n",
       "        1.82,  1.91,  2.  ,  2.09,  2.18,  2.27,  2.36,  2.45,  2.55,\n",
       "        2.64,  2.73,  2.82,  2.91,  3.  ,  3.09,  3.18,  3.27,  3.36,\n",
       "        3.45,  3.55,  3.64,  3.73,  3.82,  3.91,  4.  ,  4.09,  4.18,\n",
       "        4.27,  4.36,  4.45,  4.55,  4.64,  4.73,  4.82,  4.91,  5.  ,\n",
       "        5.09,  5.18,  5.27,  5.36,  5.45,  5.55,  5.64,  5.73,  5.82,\n",
       "        5.91,  6.  ,  6.09,  6.18,  6.27,  6.36,  6.45,  6.55,  6.64,\n",
       "        6.73,  6.82,  6.91,  7.  ,  7.09,  7.18,  7.27,  7.36,  7.45,\n",
       "        7.55,  7.64,  7.73,  7.82,  7.91,  8.  ,  8.09,  8.18,  8.27,\n",
       "        8.36,  8.45,  8.55,  8.64,  8.73,  8.82,  8.91,  9.  ,  9.09,\n",
       "        9.18,  9.27,  9.36,  9.45,  9.55,  9.64,  9.73,  9.82,  9.91,\n",
       "       10.  ])},\n",
       "             scoring=&#x27;neg_mean_absolute_error&#x27;, verbose=20)</pre></div></div></div><div class=\"sk-parallel\"><div class=\"sk-parallel-item\"><div class=\"sk-item\"><div class=\"sk-label-container\"><div class=\"sk-label sk-toggleable\"><input class=\"sk-toggleable__control sk-hidden--visually\" id=\"sk-estimator-id-9\" type=\"checkbox\" ><label for=\"sk-estimator-id-9\" class=\"sk-toggleable__label sk-toggleable__label-arrow\">estimator: Lasso</label><div class=\"sk-toggleable__content\"><pre>Lasso()</pre></div></div></div><div class=\"sk-serial\"><div class=\"sk-item\"><div class=\"sk-estimator sk-toggleable\"><input class=\"sk-toggleable__control sk-hidden--visually\" id=\"sk-estimator-id-10\" type=\"checkbox\" ><label for=\"sk-estimator-id-10\" class=\"sk-toggleable__label sk-toggleable__label-arrow\">Lasso</label><div class=\"sk-toggleable__content\"><pre>Lasso()</pre></div></div></div></div></div></div></div></div></div></div>"
      ],
      "text/plain": [
       "GridSearchCV(cv=10, estimator=Lasso(), n_jobs=-1,\n",
       "             param_grid={'alpha': array([ 1.  ,  1.09,  1.18,  1.27,  1.36,  1.45,  1.55,  1.64,  1.73,\n",
       "        1.82,  1.91,  2.  ,  2.09,  2.18,  2.27,  2.36,  2.45,  2.55,\n",
       "        2.64,  2.73,  2.82,  2.91,  3.  ,  3.09,  3.18,  3.27,  3.36,\n",
       "        3.45,  3.55,  3.64,  3.73,  3.82,  3.91,  4.  ,  4.09,  4.18,\n",
       "        4.27,  4.36,  4.45,  4.55,  4.64,  4.73,  4.82,  4.91,  5.  ,\n",
       "        5.09,  5.18,  5.27,  5.36,  5.45,  5.55,  5.64,  5.73,  5.82,\n",
       "        5.91,  6.  ,  6.09,  6.18,  6.27,  6.36,  6.45,  6.55,  6.64,\n",
       "        6.73,  6.82,  6.91,  7.  ,  7.09,  7.18,  7.27,  7.36,  7.45,\n",
       "        7.55,  7.64,  7.73,  7.82,  7.91,  8.  ,  8.09,  8.18,  8.27,\n",
       "        8.36,  8.45,  8.55,  8.64,  8.73,  8.82,  8.91,  9.  ,  9.09,\n",
       "        9.18,  9.27,  9.36,  9.45,  9.55,  9.64,  9.73,  9.82,  9.91,\n",
       "       10.  ])},\n",
       "             scoring='neg_mean_absolute_error', verbose=20)"
      ]
     },
     "execution_count": 52,
     "metadata": {},
     "output_type": "execute_result"
    }
   ],
   "source": [
    "grid_search.fit(x_train,y_train)"
   ]
  },
  {
   "cell_type": "code",
   "execution_count": 53,
   "metadata": {},
   "outputs": [
    {
     "data": {
      "text/html": [
       "<style>#sk-container-id-7 {color: black;background-color: white;}#sk-container-id-7 pre{padding: 0;}#sk-container-id-7 div.sk-toggleable {background-color: white;}#sk-container-id-7 label.sk-toggleable__label {cursor: pointer;display: block;width: 100%;margin-bottom: 0;padding: 0.3em;box-sizing: border-box;text-align: center;}#sk-container-id-7 label.sk-toggleable__label-arrow:before {content: \"▸\";float: left;margin-right: 0.25em;color: #696969;}#sk-container-id-7 label.sk-toggleable__label-arrow:hover:before {color: black;}#sk-container-id-7 div.sk-estimator:hover label.sk-toggleable__label-arrow:before {color: black;}#sk-container-id-7 div.sk-toggleable__content {max-height: 0;max-width: 0;overflow: hidden;text-align: left;background-color: #f0f8ff;}#sk-container-id-7 div.sk-toggleable__content pre {margin: 0.2em;color: black;border-radius: 0.25em;background-color: #f0f8ff;}#sk-container-id-7 input.sk-toggleable__control:checked~div.sk-toggleable__content {max-height: 200px;max-width: 100%;overflow: auto;}#sk-container-id-7 input.sk-toggleable__control:checked~label.sk-toggleable__label-arrow:before {content: \"▾\";}#sk-container-id-7 div.sk-estimator input.sk-toggleable__control:checked~label.sk-toggleable__label {background-color: #d4ebff;}#sk-container-id-7 div.sk-label input.sk-toggleable__control:checked~label.sk-toggleable__label {background-color: #d4ebff;}#sk-container-id-7 input.sk-hidden--visually {border: 0;clip: rect(1px 1px 1px 1px);clip: rect(1px, 1px, 1px, 1px);height: 1px;margin: -1px;overflow: hidden;padding: 0;position: absolute;width: 1px;}#sk-container-id-7 div.sk-estimator {font-family: monospace;background-color: #f0f8ff;border: 1px dotted black;border-radius: 0.25em;box-sizing: border-box;margin-bottom: 0.5em;}#sk-container-id-7 div.sk-estimator:hover {background-color: #d4ebff;}#sk-container-id-7 div.sk-parallel-item::after {content: \"\";width: 100%;border-bottom: 1px solid gray;flex-grow: 1;}#sk-container-id-7 div.sk-label:hover label.sk-toggleable__label {background-color: #d4ebff;}#sk-container-id-7 div.sk-serial::before {content: \"\";position: absolute;border-left: 1px solid gray;box-sizing: border-box;top: 0;bottom: 0;left: 50%;z-index: 0;}#sk-container-id-7 div.sk-serial {display: flex;flex-direction: column;align-items: center;background-color: white;padding-right: 0.2em;padding-left: 0.2em;position: relative;}#sk-container-id-7 div.sk-item {position: relative;z-index: 1;}#sk-container-id-7 div.sk-parallel {display: flex;align-items: stretch;justify-content: center;background-color: white;position: relative;}#sk-container-id-7 div.sk-item::before, #sk-container-id-7 div.sk-parallel-item::before {content: \"\";position: absolute;border-left: 1px solid gray;box-sizing: border-box;top: 0;bottom: 0;left: 50%;z-index: -1;}#sk-container-id-7 div.sk-parallel-item {display: flex;flex-direction: column;z-index: 1;position: relative;background-color: white;}#sk-container-id-7 div.sk-parallel-item:first-child::after {align-self: flex-end;width: 50%;}#sk-container-id-7 div.sk-parallel-item:last-child::after {align-self: flex-start;width: 50%;}#sk-container-id-7 div.sk-parallel-item:only-child::after {width: 0;}#sk-container-id-7 div.sk-dashed-wrapped {border: 1px dashed gray;margin: 0 0.4em 0.5em 0.4em;box-sizing: border-box;padding-bottom: 0.4em;background-color: white;}#sk-container-id-7 div.sk-label label {font-family: monospace;font-weight: bold;display: inline-block;line-height: 1.2em;}#sk-container-id-7 div.sk-label-container {text-align: center;}#sk-container-id-7 div.sk-container {/* jupyter's `normalize.less` sets `[hidden] { display: none; }` but bootstrap.min.css set `[hidden] { display: none !important; }` so we also need the `!important` here to be able to override the default hidden behavior on the sphinx rendered scikit-learn.org. See: https://github.com/scikit-learn/scikit-learn/issues/21755 */display: inline-block !important;position: relative;}#sk-container-id-7 div.sk-text-repr-fallback {display: none;}</style><div id=\"sk-container-id-7\" class=\"sk-top-container\"><div class=\"sk-text-repr-fallback\"><pre>Lasso()</pre><b>In a Jupyter environment, please rerun this cell to show the HTML representation or trust the notebook. <br />On GitHub, the HTML representation is unable to render, please try loading this page with nbviewer.org.</b></div><div class=\"sk-container\" hidden><div class=\"sk-item\"><div class=\"sk-estimator sk-toggleable\"><input class=\"sk-toggleable__control sk-hidden--visually\" id=\"sk-estimator-id-11\" type=\"checkbox\" checked><label for=\"sk-estimator-id-11\" class=\"sk-toggleable__label sk-toggleable__label-arrow\">Lasso</label><div class=\"sk-toggleable__content\"><pre>Lasso()</pre></div></div></div></div></div>"
      ],
      "text/plain": [
       "Lasso()"
      ]
     },
     "execution_count": 53,
     "metadata": {},
     "output_type": "execute_result"
    }
   ],
   "source": [
    "grid_search.best_estimator_"
   ]
  },
  {
   "cell_type": "markdown",
   "metadata": {},
   "source": [
    "you can see that, the best value of alpha comes at the edge of the range that we tried , we should expand the trial range on that side and run this again"
   ]
  },
  {
   "cell_type": "code",
   "execution_count": 54,
   "metadata": {},
   "outputs": [],
   "source": [
    "lambdas=np.linspace(.001,2,100)\n",
    "\n",
    "params={'alpha':lambdas}"
   ]
  },
  {
   "cell_type": "code",
   "execution_count": 55,
   "metadata": {},
   "outputs": [
    {
     "name": "stderr",
     "output_type": "stream",
     "text": [
      "c:\\ProgramData\\Anaconda_3\\envs\\myenv\\lib\\site-packages\\sklearn\\linear_model\\_coordinate_descent.py:648: ConvergenceWarning: Objective did not converge. You might want to increase the number of iterations, check the scale of the features or consider increasing regularisation. Duality gap: 1.635e+03, tolerance: 3.097e+00\n",
      "  model = cd_fast.enet_coordinate_descent(\n",
      "c:\\ProgramData\\Anaconda_3\\envs\\myenv\\lib\\site-packages\\sklearn\\linear_model\\_coordinate_descent.py:648: ConvergenceWarning: Objective did not converge. You might want to increase the number of iterations, check the scale of the features or consider increasing regularisation. Duality gap: 1.795e+03, tolerance: 3.163e+00\n",
      "  model = cd_fast.enet_coordinate_descent(\n",
      "c:\\ProgramData\\Anaconda_3\\envs\\myenv\\lib\\site-packages\\sklearn\\linear_model\\_coordinate_descent.py:648: ConvergenceWarning: Objective did not converge. You might want to increase the number of iterations, check the scale of the features or consider increasing regularisation. Duality gap: 1.786e+03, tolerance: 3.011e+00\n",
      "  model = cd_fast.enet_coordinate_descent(\n",
      "c:\\ProgramData\\Anaconda_3\\envs\\myenv\\lib\\site-packages\\sklearn\\linear_model\\_coordinate_descent.py:648: ConvergenceWarning: Objective did not converge. You might want to increase the number of iterations, check the scale of the features or consider increasing regularisation. Duality gap: 1.784e+03, tolerance: 3.065e+00\n",
      "  model = cd_fast.enet_coordinate_descent(\n",
      "c:\\ProgramData\\Anaconda_3\\envs\\myenv\\lib\\site-packages\\sklearn\\linear_model\\_coordinate_descent.py:648: ConvergenceWarning: Objective did not converge. You might want to increase the number of iterations, check the scale of the features or consider increasing regularisation. Duality gap: 2.521e+03, tolerance: 3.136e+00\n",
      "  model = cd_fast.enet_coordinate_descent(\n",
      "c:\\ProgramData\\Anaconda_3\\envs\\myenv\\lib\\site-packages\\sklearn\\linear_model\\_coordinate_descent.py:648: ConvergenceWarning: Objective did not converge. You might want to increase the number of iterations, check the scale of the features or consider increasing regularisation. Duality gap: 1.461e+03, tolerance: 3.098e+00\n",
      "  model = cd_fast.enet_coordinate_descent(\n",
      "c:\\ProgramData\\Anaconda_3\\envs\\myenv\\lib\\site-packages\\sklearn\\linear_model\\_coordinate_descent.py:648: ConvergenceWarning: Objective did not converge. You might want to increase the number of iterations, check the scale of the features or consider increasing regularisation. Duality gap: 1.503e+03, tolerance: 3.180e+00\n",
      "  model = cd_fast.enet_coordinate_descent(\n",
      "c:\\ProgramData\\Anaconda_3\\envs\\myenv\\lib\\site-packages\\sklearn\\linear_model\\_coordinate_descent.py:648: ConvergenceWarning: Objective did not converge. You might want to increase the number of iterations, check the scale of the features or consider increasing regularisation. Duality gap: 1.672e+03, tolerance: 3.096e+00\n",
      "  model = cd_fast.enet_coordinate_descent(\n",
      "c:\\ProgramData\\Anaconda_3\\envs\\myenv\\lib\\site-packages\\sklearn\\linear_model\\_coordinate_descent.py:648: ConvergenceWarning: Objective did not converge. You might want to increase the number of iterations, check the scale of the features or consider increasing regularisation. Duality gap: 1.444e+03, tolerance: 3.136e+00\n",
      "  model = cd_fast.enet_coordinate_descent(\n",
      "c:\\ProgramData\\Anaconda_3\\envs\\myenv\\lib\\site-packages\\sklearn\\linear_model\\_coordinate_descent.py:648: ConvergenceWarning: Objective did not converge. You might want to increase the number of iterations, check the scale of the features or consider increasing regularisation. Duality gap: 2.886e+01, tolerance: 3.458e+00\n",
      "  model = cd_fast.enet_coordinate_descent(\n"
     ]
    },
    {
     "data": {
      "text/html": [
       "<style>#sk-container-id-8 {color: black;background-color: white;}#sk-container-id-8 pre{padding: 0;}#sk-container-id-8 div.sk-toggleable {background-color: white;}#sk-container-id-8 label.sk-toggleable__label {cursor: pointer;display: block;width: 100%;margin-bottom: 0;padding: 0.3em;box-sizing: border-box;text-align: center;}#sk-container-id-8 label.sk-toggleable__label-arrow:before {content: \"▸\";float: left;margin-right: 0.25em;color: #696969;}#sk-container-id-8 label.sk-toggleable__label-arrow:hover:before {color: black;}#sk-container-id-8 div.sk-estimator:hover label.sk-toggleable__label-arrow:before {color: black;}#sk-container-id-8 div.sk-toggleable__content {max-height: 0;max-width: 0;overflow: hidden;text-align: left;background-color: #f0f8ff;}#sk-container-id-8 div.sk-toggleable__content pre {margin: 0.2em;color: black;border-radius: 0.25em;background-color: #f0f8ff;}#sk-container-id-8 input.sk-toggleable__control:checked~div.sk-toggleable__content {max-height: 200px;max-width: 100%;overflow: auto;}#sk-container-id-8 input.sk-toggleable__control:checked~label.sk-toggleable__label-arrow:before {content: \"▾\";}#sk-container-id-8 div.sk-estimator input.sk-toggleable__control:checked~label.sk-toggleable__label {background-color: #d4ebff;}#sk-container-id-8 div.sk-label input.sk-toggleable__control:checked~label.sk-toggleable__label {background-color: #d4ebff;}#sk-container-id-8 input.sk-hidden--visually {border: 0;clip: rect(1px 1px 1px 1px);clip: rect(1px, 1px, 1px, 1px);height: 1px;margin: -1px;overflow: hidden;padding: 0;position: absolute;width: 1px;}#sk-container-id-8 div.sk-estimator {font-family: monospace;background-color: #f0f8ff;border: 1px dotted black;border-radius: 0.25em;box-sizing: border-box;margin-bottom: 0.5em;}#sk-container-id-8 div.sk-estimator:hover {background-color: #d4ebff;}#sk-container-id-8 div.sk-parallel-item::after {content: \"\";width: 100%;border-bottom: 1px solid gray;flex-grow: 1;}#sk-container-id-8 div.sk-label:hover label.sk-toggleable__label {background-color: #d4ebff;}#sk-container-id-8 div.sk-serial::before {content: \"\";position: absolute;border-left: 1px solid gray;box-sizing: border-box;top: 0;bottom: 0;left: 50%;z-index: 0;}#sk-container-id-8 div.sk-serial {display: flex;flex-direction: column;align-items: center;background-color: white;padding-right: 0.2em;padding-left: 0.2em;position: relative;}#sk-container-id-8 div.sk-item {position: relative;z-index: 1;}#sk-container-id-8 div.sk-parallel {display: flex;align-items: stretch;justify-content: center;background-color: white;position: relative;}#sk-container-id-8 div.sk-item::before, #sk-container-id-8 div.sk-parallel-item::before {content: \"\";position: absolute;border-left: 1px solid gray;box-sizing: border-box;top: 0;bottom: 0;left: 50%;z-index: -1;}#sk-container-id-8 div.sk-parallel-item {display: flex;flex-direction: column;z-index: 1;position: relative;background-color: white;}#sk-container-id-8 div.sk-parallel-item:first-child::after {align-self: flex-end;width: 50%;}#sk-container-id-8 div.sk-parallel-item:last-child::after {align-self: flex-start;width: 50%;}#sk-container-id-8 div.sk-parallel-item:only-child::after {width: 0;}#sk-container-id-8 div.sk-dashed-wrapped {border: 1px dashed gray;margin: 0 0.4em 0.5em 0.4em;box-sizing: border-box;padding-bottom: 0.4em;background-color: white;}#sk-container-id-8 div.sk-label label {font-family: monospace;font-weight: bold;display: inline-block;line-height: 1.2em;}#sk-container-id-8 div.sk-label-container {text-align: center;}#sk-container-id-8 div.sk-container {/* jupyter's `normalize.less` sets `[hidden] { display: none; }` but bootstrap.min.css set `[hidden] { display: none !important; }` so we also need the `!important` here to be able to override the default hidden behavior on the sphinx rendered scikit-learn.org. See: https://github.com/scikit-learn/scikit-learn/issues/21755 */display: inline-block !important;position: relative;}#sk-container-id-8 div.sk-text-repr-fallback {display: none;}</style><div id=\"sk-container-id-8\" class=\"sk-top-container\"><div class=\"sk-text-repr-fallback\"><pre>GridSearchCV(cv=10, estimator=Lasso(),\n",
       "             param_grid={&#x27;alpha&#x27;: array([1.00e-03, 2.12e-02, 4.14e-02, 6.16e-02, 8.18e-02, 1.02e-01,\n",
       "       1.22e-01, 1.42e-01, 1.63e-01, 1.83e-01, 2.03e-01, 2.23e-01,\n",
       "       2.43e-01, 2.63e-01, 2.84e-01, 3.04e-01, 3.24e-01, 3.44e-01,\n",
       "       3.64e-01, 3.85e-01, 4.05e-01, 4.25e-01, 4.45e-01, 4.65e-01,\n",
       "       4.86e-01, 5.06e-01, 5.26e-01, 5.46e-01, 5.66e-01, 5.87e-01,\n",
       "       6.07e-01, 6.27e-0...\n",
       "       1.21e+00, 1.23e+00, 1.25e+00, 1.27e+00, 1.29e+00, 1.31e+00,\n",
       "       1.33e+00, 1.35e+00, 1.37e+00, 1.39e+00, 1.41e+00, 1.43e+00,\n",
       "       1.45e+00, 1.48e+00, 1.50e+00, 1.52e+00, 1.54e+00, 1.56e+00,\n",
       "       1.58e+00, 1.60e+00, 1.62e+00, 1.64e+00, 1.66e+00, 1.68e+00,\n",
       "       1.70e+00, 1.72e+00, 1.74e+00, 1.76e+00, 1.78e+00, 1.80e+00,\n",
       "       1.82e+00, 1.84e+00, 1.86e+00, 1.88e+00, 1.90e+00, 1.92e+00,\n",
       "       1.94e+00, 1.96e+00, 1.98e+00, 2.00e+00])},\n",
       "             scoring=&#x27;neg_mean_absolute_error&#x27;)</pre><b>In a Jupyter environment, please rerun this cell to show the HTML representation or trust the notebook. <br />On GitHub, the HTML representation is unable to render, please try loading this page with nbviewer.org.</b></div><div class=\"sk-container\" hidden><div class=\"sk-item sk-dashed-wrapped\"><div class=\"sk-label-container\"><div class=\"sk-label sk-toggleable\"><input class=\"sk-toggleable__control sk-hidden--visually\" id=\"sk-estimator-id-12\" type=\"checkbox\" ><label for=\"sk-estimator-id-12\" class=\"sk-toggleable__label sk-toggleable__label-arrow\">GridSearchCV</label><div class=\"sk-toggleable__content\"><pre>GridSearchCV(cv=10, estimator=Lasso(),\n",
       "             param_grid={&#x27;alpha&#x27;: array([1.00e-03, 2.12e-02, 4.14e-02, 6.16e-02, 8.18e-02, 1.02e-01,\n",
       "       1.22e-01, 1.42e-01, 1.63e-01, 1.83e-01, 2.03e-01, 2.23e-01,\n",
       "       2.43e-01, 2.63e-01, 2.84e-01, 3.04e-01, 3.24e-01, 3.44e-01,\n",
       "       3.64e-01, 3.85e-01, 4.05e-01, 4.25e-01, 4.45e-01, 4.65e-01,\n",
       "       4.86e-01, 5.06e-01, 5.26e-01, 5.46e-01, 5.66e-01, 5.87e-01,\n",
       "       6.07e-01, 6.27e-0...\n",
       "       1.21e+00, 1.23e+00, 1.25e+00, 1.27e+00, 1.29e+00, 1.31e+00,\n",
       "       1.33e+00, 1.35e+00, 1.37e+00, 1.39e+00, 1.41e+00, 1.43e+00,\n",
       "       1.45e+00, 1.48e+00, 1.50e+00, 1.52e+00, 1.54e+00, 1.56e+00,\n",
       "       1.58e+00, 1.60e+00, 1.62e+00, 1.64e+00, 1.66e+00, 1.68e+00,\n",
       "       1.70e+00, 1.72e+00, 1.74e+00, 1.76e+00, 1.78e+00, 1.80e+00,\n",
       "       1.82e+00, 1.84e+00, 1.86e+00, 1.88e+00, 1.90e+00, 1.92e+00,\n",
       "       1.94e+00, 1.96e+00, 1.98e+00, 2.00e+00])},\n",
       "             scoring=&#x27;neg_mean_absolute_error&#x27;)</pre></div></div></div><div class=\"sk-parallel\"><div class=\"sk-parallel-item\"><div class=\"sk-item\"><div class=\"sk-label-container\"><div class=\"sk-label sk-toggleable\"><input class=\"sk-toggleable__control sk-hidden--visually\" id=\"sk-estimator-id-13\" type=\"checkbox\" ><label for=\"sk-estimator-id-13\" class=\"sk-toggleable__label sk-toggleable__label-arrow\">estimator: Lasso</label><div class=\"sk-toggleable__content\"><pre>Lasso()</pre></div></div></div><div class=\"sk-serial\"><div class=\"sk-item\"><div class=\"sk-estimator sk-toggleable\"><input class=\"sk-toggleable__control sk-hidden--visually\" id=\"sk-estimator-id-14\" type=\"checkbox\" ><label for=\"sk-estimator-id-14\" class=\"sk-toggleable__label sk-toggleable__label-arrow\">Lasso</label><div class=\"sk-toggleable__content\"><pre>Lasso()</pre></div></div></div></div></div></div></div></div></div></div>"
      ],
      "text/plain": [
       "GridSearchCV(cv=10, estimator=Lasso(),\n",
       "             param_grid={'alpha': array([1.00e-03, 2.12e-02, 4.14e-02, 6.16e-02, 8.18e-02, 1.02e-01,\n",
       "       1.22e-01, 1.42e-01, 1.63e-01, 1.83e-01, 2.03e-01, 2.23e-01,\n",
       "       2.43e-01, 2.63e-01, 2.84e-01, 3.04e-01, 3.24e-01, 3.44e-01,\n",
       "       3.64e-01, 3.85e-01, 4.05e-01, 4.25e-01, 4.45e-01, 4.65e-01,\n",
       "       4.86e-01, 5.06e-01, 5.26e-01, 5.46e-01, 5.66e-01, 5.87e-01,\n",
       "       6.07e-01, 6.27e-0...\n",
       "       1.21e+00, 1.23e+00, 1.25e+00, 1.27e+00, 1.29e+00, 1.31e+00,\n",
       "       1.33e+00, 1.35e+00, 1.37e+00, 1.39e+00, 1.41e+00, 1.43e+00,\n",
       "       1.45e+00, 1.48e+00, 1.50e+00, 1.52e+00, 1.54e+00, 1.56e+00,\n",
       "       1.58e+00, 1.60e+00, 1.62e+00, 1.64e+00, 1.66e+00, 1.68e+00,\n",
       "       1.70e+00, 1.72e+00, 1.74e+00, 1.76e+00, 1.78e+00, 1.80e+00,\n",
       "       1.82e+00, 1.84e+00, 1.86e+00, 1.88e+00, 1.90e+00, 1.92e+00,\n",
       "       1.94e+00, 1.96e+00, 1.98e+00, 2.00e+00])},\n",
       "             scoring='neg_mean_absolute_error')"
      ]
     },
     "execution_count": 55,
     "metadata": {},
     "output_type": "execute_result"
    }
   ],
   "source": [
    "grid_search=GridSearchCV(model,param_grid=params,cv=10,scoring='neg_mean_absolute_error')\n",
    "grid_search.fit(x_train,y_train)"
   ]
  },
  {
   "cell_type": "code",
   "execution_count": 56,
   "metadata": {},
   "outputs": [
    {
     "data": {
      "text/html": [
       "<style>#sk-container-id-9 {color: black;background-color: white;}#sk-container-id-9 pre{padding: 0;}#sk-container-id-9 div.sk-toggleable {background-color: white;}#sk-container-id-9 label.sk-toggleable__label {cursor: pointer;display: block;width: 100%;margin-bottom: 0;padding: 0.3em;box-sizing: border-box;text-align: center;}#sk-container-id-9 label.sk-toggleable__label-arrow:before {content: \"▸\";float: left;margin-right: 0.25em;color: #696969;}#sk-container-id-9 label.sk-toggleable__label-arrow:hover:before {color: black;}#sk-container-id-9 div.sk-estimator:hover label.sk-toggleable__label-arrow:before {color: black;}#sk-container-id-9 div.sk-toggleable__content {max-height: 0;max-width: 0;overflow: hidden;text-align: left;background-color: #f0f8ff;}#sk-container-id-9 div.sk-toggleable__content pre {margin: 0.2em;color: black;border-radius: 0.25em;background-color: #f0f8ff;}#sk-container-id-9 input.sk-toggleable__control:checked~div.sk-toggleable__content {max-height: 200px;max-width: 100%;overflow: auto;}#sk-container-id-9 input.sk-toggleable__control:checked~label.sk-toggleable__label-arrow:before {content: \"▾\";}#sk-container-id-9 div.sk-estimator input.sk-toggleable__control:checked~label.sk-toggleable__label {background-color: #d4ebff;}#sk-container-id-9 div.sk-label input.sk-toggleable__control:checked~label.sk-toggleable__label {background-color: #d4ebff;}#sk-container-id-9 input.sk-hidden--visually {border: 0;clip: rect(1px 1px 1px 1px);clip: rect(1px, 1px, 1px, 1px);height: 1px;margin: -1px;overflow: hidden;padding: 0;position: absolute;width: 1px;}#sk-container-id-9 div.sk-estimator {font-family: monospace;background-color: #f0f8ff;border: 1px dotted black;border-radius: 0.25em;box-sizing: border-box;margin-bottom: 0.5em;}#sk-container-id-9 div.sk-estimator:hover {background-color: #d4ebff;}#sk-container-id-9 div.sk-parallel-item::after {content: \"\";width: 100%;border-bottom: 1px solid gray;flex-grow: 1;}#sk-container-id-9 div.sk-label:hover label.sk-toggleable__label {background-color: #d4ebff;}#sk-container-id-9 div.sk-serial::before {content: \"\";position: absolute;border-left: 1px solid gray;box-sizing: border-box;top: 0;bottom: 0;left: 50%;z-index: 0;}#sk-container-id-9 div.sk-serial {display: flex;flex-direction: column;align-items: center;background-color: white;padding-right: 0.2em;padding-left: 0.2em;position: relative;}#sk-container-id-9 div.sk-item {position: relative;z-index: 1;}#sk-container-id-9 div.sk-parallel {display: flex;align-items: stretch;justify-content: center;background-color: white;position: relative;}#sk-container-id-9 div.sk-item::before, #sk-container-id-9 div.sk-parallel-item::before {content: \"\";position: absolute;border-left: 1px solid gray;box-sizing: border-box;top: 0;bottom: 0;left: 50%;z-index: -1;}#sk-container-id-9 div.sk-parallel-item {display: flex;flex-direction: column;z-index: 1;position: relative;background-color: white;}#sk-container-id-9 div.sk-parallel-item:first-child::after {align-self: flex-end;width: 50%;}#sk-container-id-9 div.sk-parallel-item:last-child::after {align-self: flex-start;width: 50%;}#sk-container-id-9 div.sk-parallel-item:only-child::after {width: 0;}#sk-container-id-9 div.sk-dashed-wrapped {border: 1px dashed gray;margin: 0 0.4em 0.5em 0.4em;box-sizing: border-box;padding-bottom: 0.4em;background-color: white;}#sk-container-id-9 div.sk-label label {font-family: monospace;font-weight: bold;display: inline-block;line-height: 1.2em;}#sk-container-id-9 div.sk-label-container {text-align: center;}#sk-container-id-9 div.sk-container {/* jupyter's `normalize.less` sets `[hidden] { display: none; }` but bootstrap.min.css set `[hidden] { display: none !important; }` so we also need the `!important` here to be able to override the default hidden behavior on the sphinx rendered scikit-learn.org. See: https://github.com/scikit-learn/scikit-learn/issues/21755 */display: inline-block !important;position: relative;}#sk-container-id-9 div.sk-text-repr-fallback {display: none;}</style><div id=\"sk-container-id-9\" class=\"sk-top-container\"><div class=\"sk-text-repr-fallback\"><pre>Lasso(alpha=0.021191919191919192)</pre><b>In a Jupyter environment, please rerun this cell to show the HTML representation or trust the notebook. <br />On GitHub, the HTML representation is unable to render, please try loading this page with nbviewer.org.</b></div><div class=\"sk-container\" hidden><div class=\"sk-item\"><div class=\"sk-estimator sk-toggleable\"><input class=\"sk-toggleable__control sk-hidden--visually\" id=\"sk-estimator-id-15\" type=\"checkbox\" checked><label for=\"sk-estimator-id-15\" class=\"sk-toggleable__label sk-toggleable__label-arrow\">Lasso</label><div class=\"sk-toggleable__content\"><pre>Lasso(alpha=0.021191919191919192)</pre></div></div></div></div></div>"
      ],
      "text/plain": [
       "Lasso(alpha=0.021191919191919192)"
      ]
     },
     "execution_count": 56,
     "metadata": {},
     "output_type": "execute_result"
    }
   ],
   "source": [
    "grid_search.best_estimator_"
   ]
  },
  {
   "cell_type": "code",
   "execution_count": 57,
   "metadata": {},
   "outputs": [
    {
     "name": "stdout",
     "output_type": "stream",
     "text": [
      "Model with rank: 1\n",
      "Mean validation score: -1.577747 (std: 0.091479)\n",
      "Parameters: {'alpha': 0.021191919191919192}\n",
      "\n",
      "Model with rank: 2\n",
      "Mean validation score: -1.584646 (std: 0.092627)\n",
      "Parameters: {'alpha': 0.041383838383838384}\n",
      "\n",
      "Model with rank: 3\n",
      "Mean validation score: -1.586446 (std: 0.092481)\n",
      "Parameters: {'alpha': 0.001}\n",
      "\n",
      "Model with rank: 4\n",
      "Mean validation score: -1.589711 (std: 0.092251)\n",
      "Parameters: {'alpha': 0.061575757575757575}\n",
      "\n",
      "Model with rank: 5\n",
      "Mean validation score: -1.593967 (std: 0.091601)\n",
      "Parameters: {'alpha': 0.08176767676767677}\n",
      "\n"
     ]
    }
   ],
   "source": [
    "report(grid_search.cv_results_,5)"
   ]
  },
  {
   "cell_type": "code",
   "execution_count": 58,
   "metadata": {},
   "outputs": [],
   "source": [
    "lasso_model=grid_search.best_estimator_"
   ]
  },
  {
   "cell_type": "code",
   "execution_count": 59,
   "metadata": {},
   "outputs": [
    {
     "name": "stderr",
     "output_type": "stream",
     "text": [
      "c:\\ProgramData\\Anaconda_3\\envs\\myenv\\lib\\site-packages\\sklearn\\linear_model\\_coordinate_descent.py:648: ConvergenceWarning: Objective did not converge. You might want to increase the number of iterations, check the scale of the features or consider increasing regularisation. Duality gap: 2.886e+01, tolerance: 3.458e+00\n",
      "  model = cd_fast.enet_coordinate_descent(\n"
     ]
    },
    {
     "data": {
      "text/html": [
       "<style>#sk-container-id-10 {color: black;background-color: white;}#sk-container-id-10 pre{padding: 0;}#sk-container-id-10 div.sk-toggleable {background-color: white;}#sk-container-id-10 label.sk-toggleable__label {cursor: pointer;display: block;width: 100%;margin-bottom: 0;padding: 0.3em;box-sizing: border-box;text-align: center;}#sk-container-id-10 label.sk-toggleable__label-arrow:before {content: \"▸\";float: left;margin-right: 0.25em;color: #696969;}#sk-container-id-10 label.sk-toggleable__label-arrow:hover:before {color: black;}#sk-container-id-10 div.sk-estimator:hover label.sk-toggleable__label-arrow:before {color: black;}#sk-container-id-10 div.sk-toggleable__content {max-height: 0;max-width: 0;overflow: hidden;text-align: left;background-color: #f0f8ff;}#sk-container-id-10 div.sk-toggleable__content pre {margin: 0.2em;color: black;border-radius: 0.25em;background-color: #f0f8ff;}#sk-container-id-10 input.sk-toggleable__control:checked~div.sk-toggleable__content {max-height: 200px;max-width: 100%;overflow: auto;}#sk-container-id-10 input.sk-toggleable__control:checked~label.sk-toggleable__label-arrow:before {content: \"▾\";}#sk-container-id-10 div.sk-estimator input.sk-toggleable__control:checked~label.sk-toggleable__label {background-color: #d4ebff;}#sk-container-id-10 div.sk-label input.sk-toggleable__control:checked~label.sk-toggleable__label {background-color: #d4ebff;}#sk-container-id-10 input.sk-hidden--visually {border: 0;clip: rect(1px 1px 1px 1px);clip: rect(1px, 1px, 1px, 1px);height: 1px;margin: -1px;overflow: hidden;padding: 0;position: absolute;width: 1px;}#sk-container-id-10 div.sk-estimator {font-family: monospace;background-color: #f0f8ff;border: 1px dotted black;border-radius: 0.25em;box-sizing: border-box;margin-bottom: 0.5em;}#sk-container-id-10 div.sk-estimator:hover {background-color: #d4ebff;}#sk-container-id-10 div.sk-parallel-item::after {content: \"\";width: 100%;border-bottom: 1px solid gray;flex-grow: 1;}#sk-container-id-10 div.sk-label:hover label.sk-toggleable__label {background-color: #d4ebff;}#sk-container-id-10 div.sk-serial::before {content: \"\";position: absolute;border-left: 1px solid gray;box-sizing: border-box;top: 0;bottom: 0;left: 50%;z-index: 0;}#sk-container-id-10 div.sk-serial {display: flex;flex-direction: column;align-items: center;background-color: white;padding-right: 0.2em;padding-left: 0.2em;position: relative;}#sk-container-id-10 div.sk-item {position: relative;z-index: 1;}#sk-container-id-10 div.sk-parallel {display: flex;align-items: stretch;justify-content: center;background-color: white;position: relative;}#sk-container-id-10 div.sk-item::before, #sk-container-id-10 div.sk-parallel-item::before {content: \"\";position: absolute;border-left: 1px solid gray;box-sizing: border-box;top: 0;bottom: 0;left: 50%;z-index: -1;}#sk-container-id-10 div.sk-parallel-item {display: flex;flex-direction: column;z-index: 1;position: relative;background-color: white;}#sk-container-id-10 div.sk-parallel-item:first-child::after {align-self: flex-end;width: 50%;}#sk-container-id-10 div.sk-parallel-item:last-child::after {align-self: flex-start;width: 50%;}#sk-container-id-10 div.sk-parallel-item:only-child::after {width: 0;}#sk-container-id-10 div.sk-dashed-wrapped {border: 1px dashed gray;margin: 0 0.4em 0.5em 0.4em;box-sizing: border-box;padding-bottom: 0.4em;background-color: white;}#sk-container-id-10 div.sk-label label {font-family: monospace;font-weight: bold;display: inline-block;line-height: 1.2em;}#sk-container-id-10 div.sk-label-container {text-align: center;}#sk-container-id-10 div.sk-container {/* jupyter's `normalize.less` sets `[hidden] { display: none; }` but bootstrap.min.css set `[hidden] { display: none !important; }` so we also need the `!important` here to be able to override the default hidden behavior on the sphinx rendered scikit-learn.org. See: https://github.com/scikit-learn/scikit-learn/issues/21755 */display: inline-block !important;position: relative;}#sk-container-id-10 div.sk-text-repr-fallback {display: none;}</style><div id=\"sk-container-id-10\" class=\"sk-top-container\"><div class=\"sk-text-repr-fallback\"><pre>Lasso(alpha=0.021191919191919192)</pre><b>In a Jupyter environment, please rerun this cell to show the HTML representation or trust the notebook. <br />On GitHub, the HTML representation is unable to render, please try loading this page with nbviewer.org.</b></div><div class=\"sk-container\" hidden><div class=\"sk-item\"><div class=\"sk-estimator sk-toggleable\"><input class=\"sk-toggleable__control sk-hidden--visually\" id=\"sk-estimator-id-16\" type=\"checkbox\" checked><label for=\"sk-estimator-id-16\" class=\"sk-toggleable__label sk-toggleable__label-arrow\">Lasso</label><div class=\"sk-toggleable__content\"><pre>Lasso(alpha=0.021191919191919192)</pre></div></div></div></div></div>"
      ],
      "text/plain": [
       "Lasso(alpha=0.021191919191919192)"
      ]
     },
     "execution_count": 59,
     "metadata": {},
     "output_type": "execute_result"
    }
   ],
   "source": [
    "lasso_model.fit(x_train,y_train)"
   ]
  },
  {
   "cell_type": "code",
   "execution_count": 60,
   "metadata": {},
   "outputs": [
    {
     "name": "stdout",
     "output_type": "stream",
     "text": [
      "Fitting Score for Lasso -1.5615174476693532\n"
     ]
    }
   ],
   "source": [
    "print( \"Fitting Score for Lasso\", grid_search.score(x_train,y_train))"
   ]
  },
  {
   "cell_type": "code",
   "execution_count": 61,
   "metadata": {},
   "outputs": [
    {
     "name": "stderr",
     "output_type": "stream",
     "text": [
      "c:\\ProgramData\\Anaconda_3\\envs\\myenv\\lib\\site-packages\\sklearn\\utils\\deprecation.py:87: FutureWarning: Function get_feature_names is deprecated; get_feature_names is deprecated in 1.0 and will be removed in 1.2. Please use get_feature_names_out instead.\n",
      "  warnings.warn(msg, category=FutureWarning)\n"
     ]
    },
    {
     "data": {
      "text/plain": [
       "[('obj_to_num__Amount.Requested', 0.00016085148856111948),\n",
       " ('obj_to_num__Open.CREDIT.Lines', -0.04649501077703838),\n",
       " ('obj_to_num__Revolving.CREDIT.Balance', -1.647365963925613e-06),\n",
       " ('dtir__Debt.To.Income.Ratio', -0.00011115424546335513),\n",
       " ('obj_to_dum__Loan.Length_36 months', -0.0),\n",
       " ('obj_to_dum__Loan.Length_60 months', 3.0117546824404036),\n",
       " ('obj_to_dum__Loan.Purpose_debt_consolidation', -0.053463159493224645),\n",
       " ('obj_to_dum__Loan.Purpose_credit_card', -0.16763595826758523),\n",
       " ('obj_to_dum__Loan.Purpose_other', 0.39912399738287013),\n",
       " ('obj_to_dum__Loan.Purpose_home_improvement', -0.0),\n",
       " ('obj_to_dum__Loan.Purpose_major_purchase', 0.0),\n",
       " ('obj_to_dum__Loan.Purpose_small_business', 0.0),\n",
       " ('obj_to_dum__Loan.Purpose_car', 0.0),\n",
       " ('obj_to_dum__Loan.Purpose_wedding', -0.0),\n",
       " ('obj_to_dum__Loan.Purpose_medical', -0.0),\n",
       " ('obj_to_dum__Loan.Purpose_moving', 0.0),\n",
       " ('obj_to_dum__State_CA', -0.0),\n",
       " ('obj_to_dum__State_NY', 0.0),\n",
       " ('obj_to_dum__State_TX', 0.24093474495110734),\n",
       " ('obj_to_dum__State_FL', 0.0),\n",
       " ('obj_to_dum__State_IL', -0.0),\n",
       " ('obj_to_dum__State_GA', -0.0),\n",
       " ('obj_to_dum__State_PA', -0.056206583598839836),\n",
       " ('obj_to_dum__State_NJ', -0.0),\n",
       " ('obj_to_dum__State_VA', -0.0),\n",
       " ('obj_to_dum__State_MA', -0.0),\n",
       " ('obj_to_dum__State_OH', 0.0),\n",
       " ('obj_to_dum__State_MD', -0.0),\n",
       " ('obj_to_dum__State_NC', -0.0),\n",
       " ('obj_to_dum__State_WA', -0.0),\n",
       " ('obj_to_dum__State_CT', 0.0),\n",
       " ('obj_to_dum__State_CO', 0.0),\n",
       " ('obj_to_dum__State_MI', 0.0),\n",
       " ('obj_to_dum__State_AZ', 0.0),\n",
       " ('obj_to_dum__State_MN', 0.0),\n",
       " ('obj_to_dum__State_MO', -0.0),\n",
       " ('obj_to_dum__State_AL', 0.0),\n",
       " ('obj_to_dum__State_NV', 0.0),\n",
       " ('obj_to_dum__State_OR', 0.0),\n",
       " ('obj_to_dum__State_WI', 0.0),\n",
       " ('obj_to_dum__Home.Ownership_RENT', 0.0),\n",
       " ('obj_to_dum__Home.Ownership_MORTGAGE', -0.16902293668670623),\n",
       " ('obj_to_dum__Home.Ownership_OWN', 0.0),\n",
       " ('obj_to_dum__Employment.Length_10+ years', 0.0),\n",
       " ('obj_to_dum__Employment.Length_< 1 year', 0.0),\n",
       " ('obj_to_dum__Employment.Length_2 years', -0.0),\n",
       " ('obj_to_dum__Employment.Length_3 years', -0.0),\n",
       " ('obj_to_dum__Employment.Length_5 years', 0.0),\n",
       " ('obj_to_dum__Employment.Length_4 years', 0.0),\n",
       " ('obj_to_dum__Employment.Length_1 year', -0.0),\n",
       " ('obj_to_dum__Employment.Length_6 years', 0.0),\n",
       " ('obj_to_dum__Employment.Length_7 years', -0.0),\n",
       " ('obj_to_dum__Employment.Length_8 years', -0.0),\n",
       " ('obj_to_dum__Employment.Length_missing', 0.0),\n",
       " ('obj_to_dum__Employment.Length_9 years', -0.0),\n",
       " ('num__Monthly.Income', -2.900456901659362e-05),\n",
       " ('num__Inquiries.in.the.Last.6.Months', 0.33775523034662375),\n",
       " ('fico__fico', -0.08649407373245305)]"
      ]
     },
     "execution_count": 61,
     "metadata": {},
     "output_type": "execute_result"
    }
   ],
   "source": [
    "list(zip(data_pipe.get_feature_names(),lasso_model.coef_))"
   ]
  },
  {
   "cell_type": "code",
   "execution_count": 62,
   "metadata": {},
   "outputs": [
    {
     "data": {
      "text/plain": [
       "44"
      ]
     },
     "execution_count": 62,
     "metadata": {},
     "output_type": "execute_result"
    }
   ],
   "source": [
    "(lasso_model.coef_==0).sum()"
   ]
  },
  {
   "cell_type": "code",
   "execution_count": 63,
   "metadata": {},
   "outputs": [],
   "source": [
    "test_pred_lasso=grid_search.predict(x_test)"
   ]
  },
  {
   "cell_type": "code",
   "execution_count": 64,
   "metadata": {},
   "outputs": [
    {
     "name": "stdout",
     "output_type": "stream",
     "text": [
      "Mean Absolute Error for LASSO: 1.619017749165732\n",
      "Mean Squared Error for LASSO: 4.473607722703731\n",
      "Root Mean Squared Error for LASSO: 2.115090476245338\n"
     ]
    }
   ],
   "source": [
    "print('Mean Absolute Error for LASSO:', metrics.mean_absolute_error(y_test, test_pred_lasso))\n",
    "print('Mean Squared Error for LASSO:', metrics.mean_squared_error(y_test, test_pred_lasso))\n",
    "print('Root Mean Squared Error for LASSO:', np.sqrt(metrics.mean_squared_error(y_test, test_pred_lasso)))"
   ]
  },
  {
   "cell_type": "code",
   "execution_count": null,
   "metadata": {},
   "outputs": [],
   "source": []
  },
  {
   "cell_type": "code",
   "execution_count": 65,
   "metadata": {},
   "outputs": [
    {
     "data": {
      "image/png": "[encoded data removed]",
      "text/plain": [
       "<Figure size 432x288 with 1 Axes>"
      ]
     },
     "metadata": {
      "needs_background": "light"
     },
     "output_type": "display_data"
    }
   ],
   "source": [
    "x_ax = range(len(y_test))\n",
    "x_ax\n",
    "plt.plot(x_ax, y_test, linewidth=1, label=\"original\")\n",
    "plt.plot(x_ax, test_pred_lasso, linewidth=1.1, label=\"predicted\")\n",
    "plt.title(\"y-test and y-predicted data\")\n",
    "plt.xlabel('X-axis')\n",
    "plt.ylabel('Y-axis')\n",
    "plt.legend(loc='best',fancybox=True, shadow=True)\n",
    "plt.grid(True)\n",
    "plt.show() "
   ]
  },
  {
   "cell_type": "code",
   "execution_count": null,
   "metadata": {},
   "outputs": [],
   "source": []
  },
  {
   "cell_type": "markdown",
   "metadata": {},
   "source": [
    "## SGDRegressor\n"
   ]
  },
  {
   "cell_type": "code",
   "execution_count": 66,
   "metadata": {},
   "outputs": [
    {
     "name": "stdout",
     "output_type": "stream",
     "text": [
      "SGDRegressor()\n"
     ]
    }
   ],
   "source": [
    "sgdr = SGDRegressor()\n",
    "print(sgdr)"
   ]
  },
  {
   "cell_type": "code",
   "execution_count": 67,
   "metadata": {},
   "outputs": [],
   "source": [
    "y_train_scale = scale(y_train)\n",
    "x_train_scale = scale(x_train)"
   ]
  },
  {
   "cell_type": "code",
   "execution_count": 68,
   "metadata": {},
   "outputs": [
    {
     "name": "stdout",
     "output_type": "stream",
     "text": [
      "R-squared: 0.7681513525640035\n"
     ]
    }
   ],
   "source": [
    "sgdr.fit(x_train_scale, y_train_scale)\n",
    "\n",
    "score = sgdr.score(x_train_scale, y_train_scale)\n",
    "print(\"R-squared:\", score)"
   ]
  },
  {
   "cell_type": "code",
   "execution_count": 69,
   "metadata": {},
   "outputs": [
    {
     "name": "stdout",
     "output_type": "stream",
     "text": [
      "CV mean score:  0.7533786962917777\n"
     ]
    }
   ],
   "source": [
    "\n",
    "cv_score = cross_val_score(sgdr, x_train_scale, y_train_scale, cv = 10)\n",
    "print(\"CV mean score: \", cv_score.mean())"
   ]
  },
  {
   "cell_type": "code",
   "execution_count": 70,
   "metadata": {},
   "outputs": [],
   "source": [
    "x_test_scale = scale(x_test)"
   ]
  },
  {
   "cell_type": "code",
   "execution_count": 71,
   "metadata": {},
   "outputs": [],
   "source": [
    "ypred_sgd = sgdr.predict(x_test_scale)"
   ]
  },
  {
   "cell_type": "code",
   "execution_count": 72,
   "metadata": {},
   "outputs": [],
   "source": [
    "y_test_scale = scale(y_test)"
   ]
  },
  {
   "cell_type": "code",
   "execution_count": 73,
   "metadata": {},
   "outputs": [],
   "source": [
    "mse_sgd = mean_squared_error(y_test_scale, ypred_sgd)"
   ]
  },
  {
   "cell_type": "code",
   "execution_count": 74,
   "metadata": {},
   "outputs": [
    {
     "name": "stdout",
     "output_type": "stream",
     "text": [
      "MSE:  0.2529229771287358\n"
     ]
    }
   ],
   "source": [
    "print(\"MSE: \", mse_sgd)"
   ]
  },
  {
   "cell_type": "code",
   "execution_count": 75,
   "metadata": {},
   "outputs": [
    {
     "name": "stdout",
     "output_type": "stream",
     "text": [
      "RMSE:  0.5029144829180562\n"
     ]
    }
   ],
   "source": [
    "print(\"RMSE: \", mse_sgd**(0.5))"
   ]
  },
  {
   "cell_type": "code",
   "execution_count": 76,
   "metadata": {},
   "outputs": [
    {
     "data": {
      "image/png": "[encoded data removed]",
      "text/plain": [
       "<Figure size 432x288 with 1 Axes>"
      ]
     },
     "metadata": {
      "needs_background": "light"
     },
     "output_type": "display_data"
    }
   ],
   "source": [
    "x_ax = range(len(y_test_scale))\n",
    "x_ax\n",
    "plt.plot(x_ax, y_test_scale, linewidth=1, label=\"original\")\n",
    "plt.plot(x_ax, ypred_sgd, linewidth=1.1, label=\"predicted\")\n",
    "plt.title(\"y-test and y-predicted data\")\n",
    "plt.xlabel('X-axis')\n",
    "plt.ylabel('Y-axis')\n",
    "plt.legend(loc='best',fancybox=True, shadow=True)\n",
    "plt.grid(True)\n",
    "plt.show() "
   ]
  },
  {
   "cell_type": "code",
   "execution_count": 77,
   "metadata": {},
   "outputs": [
    {
     "data": {
      "text/plain": [
       "array([ 0.93,  0.67,  0.17, -0.13, -0.07, -0.09,  0.06,  0.3 , -0.06,\n",
       "       -1.32,  0.58, -0.81, -0.37, -0.39,  0.55,  0.15, -1.8 ,  0.59,\n",
       "       -1.38, -0.36,  0.24,  0.42, -0.12,  0.48, -0.2 , -0.08,  0.67,\n",
       "        0.04, -2.58,  0.41,  1.22, -0.26,  0.32,  0.24, -1.94, -1.46,\n",
       "        0.09, -0.27, -0.43, -0.53, -0.47, -0.99, -0.01, -0.25, -0.67,\n",
       "       -0.02, -1.63, -0.32,  0.3 ,  0.14,  0.04,  1.08,  0.56,  0.21,\n",
       "        0.24, -1.18,  0.91, -1.45, -0.47, -0.79,  0.42,  0.07, -0.95,\n",
       "        1.3 , -1.1 , -0.14, -1.13,  0.61,  0.43,  0.74, -1.67, -0.18,\n",
       "       -0.16,  0.06, -0.81,  1.41, -1.89, -0.37,  0.09,  1.1 , -0.2 ,\n",
       "        0.22,  0.6 ,  0.27, -0.76, -0.02,  0.41,  0.66,  0.56, -0.61,\n",
       "        1.81,  0.49,  0.21,  0.78,  0.36, -0.63, -0.46,  0.02, -0.73,\n",
       "       -0.12, -0.27,  0.79,  0.18, -1.5 , -0.59, -0.41,  0.85,  0.32,\n",
       "       -0.49,  0.57, -0.17,  0.35,  0.13,  2.29, -1.07, -1.69,  0.54,\n",
       "        0.98,  0.26, -0.45,  0.25, -0.9 , -2.84, -0.11,  0.67,  0.28,\n",
       "        0.43, -2.39, -1.03,  0.58, -0.77, -0.31, -0.19,  0.67,  0.82,\n",
       "       -1.03, -1.47, -1.05,  0.02,  1.9 , -1.58, -1.24, -0.89,  0.7 ,\n",
       "        0.79,  0.84, -1.6 , -0.48, -0.11, -0.35, -0.54, -2.12,  0.5 ,\n",
       "        0.59,  0.22,  0.24,  0.62, -1.18, -1.72,  1.53,  1.88,  0.54,\n",
       "       -0.06, -0.31,  0.2 , -1.23, -0.91,  0.03, -2.21,  0.69, -1.67,\n",
       "        0.64,  0.42,  0.66,  0.17,  0.03,  0.87,  1.2 ,  0.88, -0.11,\n",
       "        0.27, -0.31,  0.41,  0.51, -0.15, -0.52, -0.33, -0.02,  0.26,\n",
       "        0.43,  1.46, -0.95,  1.37,  0.13, -1.03, -1.8 ,  0.76, -1.43,\n",
       "       -0.15, -0.16, -0.07,  0.12,  0.26, -0.3 , -0.04,  0.49, -0.03,\n",
       "       -0.02,  1.12,  0.22, -1.19, -1.56, -1.83,  0.11, -0.28,  0.44,\n",
       "        1.05,  0.46,  0.56,  0.18, -0.36,  1.17, -0.28,  0.95,  1.45,\n",
       "        1.9 , -0.32,  0.17,  0.12,  1.12,  0.73, -2.54,  0.9 ,  0.03,\n",
       "       -0.18,  1.79,  0.55, -0.3 ,  0.58,  0.29,  1.08, -1.54,  1.16,\n",
       "       -1.36,  0.63, -0.76,  2.05, -1.82,  0.36, -0.22, -2.39, -0.56,\n",
       "        0.59, -0.26,  0.8 ,  0.65, -0.16,  0.25, -0.32, -1.92,  0.53,\n",
       "       -0.02,  1.35, -0.91,  1.45,  1.05,  1.46,  0.03, -0.37, -1.64,\n",
       "        1.73, -1.21, -0.65,  0.46,  0.83,  1.33, -1.67,  0.01,  0.15,\n",
       "       -0.61, -0.42,  1.32, -0.57, -1.22,  0.55, -0.28, -1.34, -0.01,\n",
       "       -0.68,  0.15, -0.45,  1.68, -2.75, -0.69, -0.13,  0.9 , -2.2 ,\n",
       "        0.01, -0.68,  0.01, -0.27,  0.33,  1.03, -0.11, -0.05,  1.04,\n",
       "       -1.81, -1.65, -0.29,  0.67,  0.02,  0.61, -0.09,  0.86,  1.14,\n",
       "        0.2 , -0.16,  0.87, -0.92,  0.22,  0.91,  0.04,  1.59,  1.54,\n",
       "        0.01,  0.37, -0.06, -0.1 ,  0.01,  1.49, -0.38, -0.29,  1.32,\n",
       "        0.33, -0.68,  0.41,  0.02,  0.1 , -0.33,  0.35,  1.75, -0.72,\n",
       "       -0.21, -0.64,  0.56, -0.66, -1.51, -0.38, -1.01,  0.71,  0.29,\n",
       "        0.48, -0.36, -0.43, -0.36,  0.92,  0.47, -1.37, -0.88,  0.4 ,\n",
       "       -1.1 , -0.34,  0.43, -0.92, -0.2 ,  0.4 ,  0.34,  0.63,  1.93,\n",
       "       -0.07, -0.22,  1.1 ,  1.04,  1.69, -0.36, -0.67, -0.53, -2.07,\n",
       "        1.49,  0.62, -0.1 ,  0.2 ,  0.39, -0.33,  0.66, -0.01, -1.51,\n",
       "       -0.15, -1.37, -0.48,  1.62, -0.11,  1.22,  0.6 ,  1.08,  0.62,\n",
       "       -1.33, -0.03,  0.31, -0.33, -1.87, -0.8 , -0.8 ,  1.05,  1.75,\n",
       "       -0.9 , -0.11,  0.34,  0.94,  0.56,  0.94,  0.11,  0.17,  1.09,\n",
       "       -0.53,  0.43,  0.97,  0.16,  0.77,  0.62, -0.63,  1.16,  0.58,\n",
       "        1.34,  0.08,  0.06, -0.02,  0.54,  0.86,  1.4 ,  1.32, -0.78,\n",
       "       -0.47, -2.25, -0.34, -2.39, -0.89,  0.62, -0.16,  0.05, -0.53,\n",
       "        0.35, -0.72,  0.48,  0.69,  0.3 ,  0.03, -1.68,  0.54,  0.54,\n",
       "        1.02, -0.92, -0.57, -1.07,  0.48, -0.64,  0.26,  0.42,  1.28,\n",
       "       -0.08,  1.59,  0.39,  0.52,  0.04, -0.12, -0.17,  0.07,  0.78,\n",
       "       -1.88,  1.78, -0.04,  0.46,  0.04,  0.26, -0.04, -1.26, -0.15,\n",
       "       -0.85,  0.03, -0.17,  0.36,  0.44,  0.69,  0.62,  0.19,  1.  ,\n",
       "        1.31, -0.72,  0.27,  0.51,  0.46,  0.51, -0.16,  0.38, -0.14,\n",
       "       -0.83,  0.25,  0.01,  0.58,  0.43])"
      ]
     },
     "execution_count": 77,
     "metadata": {},
     "output_type": "execute_result"
    }
   ],
   "source": [
    "ypred_sgd"
   ]
  },
  {
   "cell_type": "code",
   "execution_count": 78,
   "metadata": {},
   "outputs": [
    {
     "data": {
      "text/plain": [
       "array([ 3.10e-01,  6.28e-01, -4.37e-02, -5.08e-01,  5.90e-01,  2.44e-01,\n",
       "       -2.77e-01,  8.82e-02, -2.56e-01, -1.71e+00, -4.37e-02, -6.00e-01,\n",
       "       -1.04e+00, -6.23e-01,  1.29e-02, -5.15e-01, -1.41e+00,  2.44e-01,\n",
       "       -1.71e+00, -8.33e-01,  4.58e-02,  1.05e+00, -6.91e-01,  3.52e-01,\n",
       "       -6.37e-01,  8.82e-02,  6.35e-01,  2.44e-01, -1.71e+00, -3.19e-02,\n",
       "        1.81e+00, -1.04e+00,  8.18e-01, -4.37e-02, -1.04e+00, -1.04e+00,\n",
       "        1.56e+00, -5.08e-01, -7.39e-01, -6.37e-01, -1.43e-01, -1.27e+00,\n",
       "        2.44e-01, -4.37e-02, -1.27e+00,  3.19e-01, -1.37e+00, -7.97e-01,\n",
       "        1.87e-01,  1.64e-01,  5.90e-01,  5.90e-01,  1.17e+00,  2.48e-01,\n",
       "       -7.43e-02, -5.08e-01,  1.11e+00, -1.57e+00, -1.50e+00, -1.04e+00,\n",
       "       -2.77e-01, -4.37e-02, -1.04e+00,  1.69e+00, -1.34e+00, -2.77e-01,\n",
       "       -1.27e+00,  1.22e+00, -7.19e-02,  7.05e-01, -1.45e+00,  2.44e-01,\n",
       "       -3.73e-01, -3.19e-02, -1.34e+00,  2.23e+00, -1.77e+00, -6.00e-01,\n",
       "       -5.08e-01,  1.99e+00, -5.43e-01,  1.87e-01,  1.01e+00,  9.36e-01,\n",
       "       -1.27e+00, -6.89e-01,  2.44e-01,  8.47e-01,  9.36e-01, -1.27e+00,\n",
       "        2.05e+00,  9.36e-01,  1.87e-01,  3.36e-01,  2.44e-01, -1.27e+00,\n",
       "       -4.37e-02,  2.44e-01, -1.04e+00, -5.08e-01, -7.79e-01,  1.58e+00,\n",
       "        3.19e-01, -1.36e+00, -6.00e-01, -5.08e-01,  9.36e-01, -1.43e-01,\n",
       "       -8.33e-01,  4.75e-01, -4.37e-02,  2.44e-01,  1.87e-01,  2.48e+00,\n",
       "       -7.57e-01, -1.45e+00,  7.05e-01,  1.11e+00,  2.44e-01, -3.73e-01,\n",
       "        7.52e-01, -1.27e+00, -1.71e+00, -2.06e-01, -3.73e-01,  4.75e-01,\n",
       "        3.80e-01, -1.71e+00, -1.27e+00, -5.34e-01, -1.37e+00, -2.77e-01,\n",
       "       -6.02e-01,  7.05e-01,  1.69e+00,  1.87e-01, -1.57e+00, -1.57e+00,\n",
       "       -2.77e-01,  1.51e+00, -1.37e+00, -1.27e+00, -1.04e+00,  7.05e-01,\n",
       "        1.93e+00,  1.64e-01, -1.71e+00, -1.04e+00, -5.08e-01, -8.63e-01,\n",
       "       -1.27e+00, -1.25e+00,  1.36e+00,  7.05e-01,  7.05e-01,  2.44e-01,\n",
       "       -4.37e-02, -1.27e+00, -1.72e+00,  1.08e+00,  1.69e+00,  7.05e-01,\n",
       "       -4.37e-02, -7.79e-01,  8.82e-02, -1.03e+00, -1.59e+00,  1.64e-01,\n",
       "       -1.27e+00,  7.05e-01, -1.27e+00,  5.62e-01,  4.75e-01,  2.05e+00,\n",
       "        4.56e-01,  9.36e-01,  1.70e+00,  1.36e+00,  1.81e+00, -1.80e-01,\n",
       "        2.48e-01, -2.77e-01,  1.17e+00,  1.64e-01, -2.77e-01, -8.33e-01,\n",
       "       -1.28e+00, -3.73e-01, -3.07e-01,  7.05e-01,  1.35e+00, -1.28e+00,\n",
       "        2.04e+00, -1.43e-01, -4.37e-02, -1.31e+00,  1.11e+00, -1.71e+00,\n",
       "       -2.77e-01, -3.73e-01,  5.38e-01,  1.87e-01,  2.44e-01, -7.97e-01,\n",
       "       -1.45e-01,  4.75e-01, -4.37e-02, -4.37e-02,  1.70e+00,  4.65e-01,\n",
       "       -1.36e+00, -1.49e+00, -1.71e+00, -4.37e-02, -5.08e-01, -3.12e-01,\n",
       "        1.01e+00,  1.22e+00,  1.51e+00, -2.37e-01, -1.04e+00,  2.16e+00,\n",
       "       -1.04e+00,  1.17e+00,  1.81e+00,  2.27e+00, -7.39e-01,  2.30e-01,\n",
       "       -6.23e-01,  9.93e-01,  4.58e-02, -1.57e+00,  1.22e+00, -2.77e-01,\n",
       "       -1.27e+00,  1.51e+00,  7.05e-01,  2.84e-01,  9.36e-01,  1.64e-01,\n",
       "        1.51e+00, -1.36e+00,  1.26e+00, -1.57e+00,  4.75e-01,  1.31e-01,\n",
       "        1.76e+00, -1.71e+00, -1.61e-01,  7.12e-01, -1.36e+00, -1.07e-01,\n",
       "        7.05e-01, -6.02e-01,  1.69e+00, -1.30e-02, -2.77e-01, -8.66e-01,\n",
       "       -4.37e-02, -1.57e+00,  5.92e-01, -4.37e-02,  1.93e+00, -5.08e-01,\n",
       "        7.05e-01,  1.29e+00,  3.31e-01, -5.08e-01, -6.23e-01, -1.71e+00,\n",
       "        2.35e+00, -1.57e+00, -1.04e+00,  5.90e-01,  4.75e-01,  7.12e-01,\n",
       "       -1.72e+00, -3.73e-01,  4.58e-02, -1.13e+00, -3.07e-01,  1.09e+00,\n",
       "       -6.02e-01, -1.10e+00,  4.56e-01,  1.87e-01, -1.27e+00,  7.05e-01,\n",
       "       -1.04e+00,  1.87e-01, -6.30e-01,  2.27e+00, -1.39e+00, -1.27e+00,\n",
       "       -2.77e-01,  7.52e-01, -1.32e+00, -2.77e-01, -1.28e+00,  8.82e-02,\n",
       "       -1.34e+00,  2.05e+00,  9.36e-01, -2.77e-01, -2.77e-01,  1.20e+00,\n",
       "       -9.36e-01, -1.77e+00,  3.10e-01,  1.11e+00, -7.79e-01,  1.19e-01,\n",
       "       -3.73e-01,  1.24e+00,  9.17e-01,  1.87e-01, -2.77e-01,  2.44e-01,\n",
       "       -1.13e+00, -4.37e-02,  7.05e-01, -7.39e-01,  1.35e+00,  9.36e-01,\n",
       "       -2.77e-01,  1.22e+00, -2.77e-01,  1.87e-01, -1.50e+00,  2.05e+00,\n",
       "       -5.08e-01, -6.02e-01,  1.56e+00,  4.75e-01, -1.27e+00, -1.72e+00,\n",
       "       -2.77e-01, -3.38e-01, -5.43e-01,  1.05e+00,  2.16e+00, -7.79e-01,\n",
       "       -2.77e-01, -9.53e-01,  1.64e-01, -1.04e+00, -1.57e+00, -5.12e-01,\n",
       "       -9.95e-01,  4.04e-01,  1.64e-01,  4.75e-01, -7.39e-01, -4.37e-02,\n",
       "       -3.73e-01,  1.22e+00, -1.54e-02, -1.77e+00, -1.36e+00,  5.90e-01,\n",
       "       -7.39e-01,  5.90e-01,  1.51e+00, -1.27e+00,  2.44e-01,  1.58e+00,\n",
       "        6.37e-01,  5.55e-01,  2.60e+00,  1.47e-01, -3.73e-01,  9.36e-01,\n",
       "        1.08e-03,  2.46e+00, -7.39e-01, -7.39e-01, -1.04e+00, -1.34e+00,\n",
       "        2.16e+00,  9.36e-01, -2.77e-01,  5.90e-01,  4.58e-02, -2.77e-01,\n",
       "        7.05e-01, -4.37e-02, -1.85e+00,  1.87e-01, -1.37e+00, -4.79e-01,\n",
       "        2.05e+00,  4.11e-02,  1.18e+00,  4.51e-01,  7.05e-01,  1.47e-01,\n",
       "       -1.13e+00,  6.54e-01,  4.75e-01, -1.27e+00, -1.71e+00, -5.52e-01,\n",
       "       -1.13e+00,  6.35e-01,  5.90e-01, -1.37e+00,  1.87e-01,  8.82e-02,\n",
       "        1.28e+00,  4.75e-01,  7.52e-01, -3.73e-01, -2.06e-01,  2.73e+00,\n",
       "       -1.04e+00,  2.74e-01,  7.52e-01, -2.06e-01,  9.36e-01,  1.69e+00,\n",
       "       -1.50e+00,  1.22e+00,  1.00e-01,  1.35e+00,  8.82e-02,  1.87e-01,\n",
       "       -1.43e-01,  9.36e-01,  3.59e-01,  1.17e+00,  1.11e+00, -3.73e-01,\n",
       "       -6.37e-01, -1.85e+00, -1.45e-01, -1.54e+00, -1.27e+00,  3.80e-01,\n",
       "       -2.06e-01,  4.58e-02, -2.77e-01,  1.35e-01, -1.27e+00,  7.31e-01,\n",
       "       -4.37e-02,  1.22e+00,  2.30e-01, -1.57e+00,  9.36e-01,  9.76e-01,\n",
       "        6.28e-01, -1.27e+00, -6.37e-01, -6.91e-01,  5.90e-01, -6.00e-01,\n",
       "        5.90e-01,  1.05e+00,  9.88e-01, -2.77e-01,  1.35e+00,  5.90e-01,\n",
       "       -6.37e-01, -2.77e-01, -2.77e-01,  9.36e-01,  8.82e-02,  1.87e-01,\n",
       "       -1.71e+00,  2.16e+00,  2.44e-01,  5.90e-01,  2.16e+00,  2.44e-01,\n",
       "        4.75e-01, -8.63e-01, -2.77e-01, -1.37e+00,  1.87e-01, -4.25e-01,\n",
       "        2.44e-01, -8.84e-02,  1.22e+00,  1.05e+00,  4.75e-01,  8.18e-01,\n",
       "        4.75e-01, -7.17e-01,  5.92e-01,  7.05e-01,  4.75e-01,  9.36e-01,\n",
       "       -4.37e-02,  4.75e-01, -2.77e-01, -1.27e+00, -1.03e-01,  2.44e-01,\n",
       "        7.52e-01,  1.05e+00])"
      ]
     },
     "execution_count": 78,
     "metadata": {},
     "output_type": "execute_result"
    }
   ],
   "source": [
    "y_test_scale"
   ]
  },
  {
   "cell_type": "code",
   "execution_count": null,
   "metadata": {},
   "outputs": [],
   "source": []
  },
  {
   "cell_type": "code",
   "execution_count": null,
   "metadata": {},
   "outputs": [],
   "source": []
  },
  {
   "cell_type": "code",
   "execution_count": null,
   "metadata": {},
   "outputs": [],
   "source": []
  },
  {
   "cell_type": "code",
   "execution_count": null,
   "metadata": {},
   "outputs": [],
   "source": []
  }
 ],
 "metadata": {
  "interpreter": {
   "hash": "d304116011588c57cf3bf29d36472611c82b00e3663b9b473e6ad96db92a6b28"
  },
  "kernelspec": {
   "display_name": "Python 3.9.7 ('myenv')",
   "language": "python",
   "name": "python3"
  },
  "language_info": {
   "codemirror_mode": {
    "name": "ipython",
    "version": 3
   },
   "file_extension": ".py",
   "mimetype": "text/x-python",
   "name": "python",
   "nbconvert_exporter": "python",
   "pygments_lexer": "ipython3",
   "version": "3.9.7"
  },
  "orig_nbformat": 4
 },
 "nbformat": 4,
 "nbformat_minor": 2
}
